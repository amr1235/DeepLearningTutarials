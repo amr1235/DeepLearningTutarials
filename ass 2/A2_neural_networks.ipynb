{
 "cells": [
  {
   "cell_type": "markdown",
   "id": "d2fed8c8-3b58-464a-b89d-df85d934f740",
   "metadata": {},
   "source": [
    "---\n",
    "# Cairo University Faculty of Engineering\n",
    "## Deep Learning \n",
    "## Assignment 2\n",
    "\n",
    "---"
   ]
  },
  {
   "cell_type": "markdown",
   "id": "9f09594d-0c42-4205-a0af-77097e41f555",
   "metadata": {},
   "source": [
    "Please write your full name here\n",
    "- **Name** : \"amr mohamed ali\""
   ]
  },
  {
   "cell_type": "code",
   "execution_count": 1,
   "id": "02dc8d6e-7d9a-48c0-a84d-fdd3c63c9c78",
   "metadata": {},
   "outputs": [],
   "source": [
    "%matplotlib inline\n",
    "import numpy as np\n",
    "import matplotlib.pyplot as plt\n",
    "import random\n",
    "import tensorflow as tf\n",
    "from d2l import tensorflow as d2l\n",
    "import pandas as pd\n",
    "import math"
   ]
  },
  {
   "cell_type": "markdown",
   "id": "6055f2a1-24c2-46eb-92a8-b9f387f3dcc2",
   "metadata": {
    "id": "1h4o9Bb0YZ29",
    "tags": []
   },
   "source": [
    "# Part 1 Computational Graphs\n",
    "\n",
    "**Motivation**. In this section we will develop expertise with an intuitive understanding of **backpropagation**, which is a way of computing gradients of expressions through recursive application of **chain rule**.\n",
    "\n",
    "Considering the example of a simple perceptron defined by just one dense layer: $ y = \\sigma(Wx + b)$, where $W$ represents a matrix of weights, $b$ is a bias, $x$ is the input, $\\sigma$ is the sigmoid activation function, and $y$ is the output. We can visualize this operation using a graph: \n",
    "\n",
    "![alt text](https://raw.githubusercontent.com/aamini/introtodeeplearning/master/lab1/img/computation-graph-2.png)\n"
   ]
  },
  {
   "cell_type": "markdown",
   "id": "5ea98a23-c5be-4a87-8a53-588fbdcadf1e",
   "metadata": {},
   "source": [
    "## Example\n",
    "Suppose that we have a function of the form:\n",
    "\n",
    "$$\n",
    "f(x,y) = \\frac{x + \\sigma(y)}{\\sigma(x) + (x+y)^2}\n",
    "$$\n",
    "\n",
    "It is very important to stress that if you were to launch into performing the differentiation with respect to either \\\\(x\\\\) or \\\\(y\\\\), you would end up with very large and complex expressions. However, doing so is completely unnecessary because we don't need to have an explicit function written down that evaluates the gradient. We only have to know how to compute it.\n",
    "\n",
    "![Circ1](./img/circ1.svg)\n",
    "\n"
   ]
  },
  {
   "cell_type": "markdown",
   "id": "e95e6d93-ec11-40d6-a639-40fad6e1ad3c",
   "metadata": {},
   "source": [
    "1. **Compute the forward path for this function. Use intermediate variables as shown above**\n",
    "\n",
    "- f --> final output\n",
    "- You can use math.exp for sigmoid calculation"
   ]
  },
  {
   "cell_type": "code",
   "execution_count": 2,
   "id": "76df1ec0-2969-4df1-98ac-0e1031ec9feb",
   "metadata": {},
   "outputs": [],
   "source": [
    "x = 3 # example values\n",
    "y = -4\n",
    "\n",
    "# forward pass\n",
    "\n",
    "### START CODE HERE ### (≈ 8 lines of code)\n",
    "sigy = math.exp(y)\n",
    "num = sigy + x\n",
    "sigx = math.exp(x)\n",
    "xpy = x + y\n",
    "xpysqr = xpy ** 2\n",
    "den = sigx + xpysqr\n",
    "invden = 1 / den\n",
    "f = num * invden # i think it should be * not \\ as in the computational graph \n",
    "### END CODE HERE ###"
   ]
  },
  {
   "cell_type": "code",
   "execution_count": 3,
   "id": "d1344fc6-02dd-4d1e-bd64-1768bac05469",
   "metadata": {},
   "outputs": [
    {
     "name": "stdout",
     "output_type": "stream",
     "text": [
      "f = 0.143146 \n"
     ]
    }
   ],
   "source": [
    "print ('f = %f '%(f))"
   ]
  },
  {
   "cell_type": "markdown",
   "id": "9f2b9b8d-7afc-443b-a50f-a2ef68f4d7b9",
   "metadata": {},
   "source": [
    "Computing the backprop pass is easy: We’ll go backwards and for every variable along the way in the forward pass `sigy, num, sigx, xpy, xpysqr, den, invden` we will have the same variable, but one that begins with a `d`, which will hold the gradient of the output of the expresion with respect to that variable. Additionally, note that every single piece in our backprop will involve computing the local gradient of that expression, and chaining it with the gradient on that expression with a multiplication. "
   ]
  },
  {
   "cell_type": "markdown",
   "id": "902480a7-16e1-415e-bdea-24fe845774fe",
   "metadata": {},
   "source": [
    "\n",
    "2. **Compute the backward path for this function to get:**\n",
    "$$\n",
    "\\nabla f(x,y) = [ \\frac{\\partial f}{\\partial y}, \\frac{\\partial f}{\\partial x} ]\n",
    "$$\n",
    "\n",
    "- **Use intermediate variables**\n",
    "- **Print dy and dx**\n",
    "- *Hint: Gradients add up at forks. The forward expression involves the variables x,y multiple times, so when we perform backpropagation we must be careful to use += instead of = to accumulate the gradient on these variables (otherwise we would overwrite it). This follows the multivariable chain rule in Calculus, which states that if a variable branches out to different parts, then the gradients that flow back to it will add.*"
   ]
  },
  {
   "cell_type": "code",
   "execution_count": 4,
   "id": "2bc2bea2-601e-4e8f-8306-f5492550c590",
   "metadata": {},
   "outputs": [],
   "source": [
    "### START CODE HERE ### (≈ 12 lines of code)\n",
    "dx = 0\n",
    "dy = 0\n",
    "df_dnum = invden\n",
    "dnum_dx = 1\n",
    "dx += df_dnum * dnum_dx\n",
    "df_dinvden = num\n",
    "dinvden_dden = -1 / (den **2)\n",
    "dden_dsigx = 1\n",
    "dsigx_dx = sigx\n",
    "dx += df_dinvden * dinvden_dden * dden_dsigx * dsigx_dx\n",
    "dnum_dsigy = 1\n",
    "dsigy_dy = sigy\n",
    "dy += dnum_dsigy * dsigy_dy\n",
    "dden_dxpysqr = 1\n",
    "dxpysqr_dxpy = 2 * xpy\n",
    "dxpy_dy = 1\n",
    "dy += df_dinvden * dinvden_dden * dden_dxpysqr * dxpysqr_dxpy * dxpy_dy\n",
    "### END CODE HERE ###"
   ]
  },
  {
   "cell_type": "code",
   "execution_count": 5,
   "id": "02334654-1d04-4f38-a8bf-e31e315cca89",
   "metadata": {},
   "outputs": [
    {
     "name": "stdout",
     "output_type": "stream",
     "text": [
      "df/dx = -0.08893154540100023\n",
      "df/dy = 0.03189331113120729\n"
     ]
    }
   ],
   "source": [
    "print ('df/dx = ' + (str(dx)))\n",
    "print ('df/dy = ' + (str(dy)))"
   ]
  },
  {
   "cell_type": "markdown",
   "id": "4f383a40-2b6d-4bb3-bb45-4b6602896480",
   "metadata": {
    "tags": []
   },
   "source": [
    "# Part 2: Regression"
   ]
  },
  {
   "cell_type": "markdown",
   "id": "0ddb4513-a883-475c-acb4-7daf8a1434a7",
   "metadata": {
    "jp-MarkdownHeadingCollapsed": true,
    "origin_pos": 0,
    "tags": []
   },
   "source": [
    "In this part, (**we will implement the entire linear regression method from scratch,\n",
    "including the data pipeline, the model,\n",
    "the loss function, and the minibatch stochastic gradient descent optimizer.**)\n",
    "You will rely only on tensors and auto differentiation.\n"
   ]
  },
  {
   "cell_type": "markdown",
   "id": "9885bf7b-0575-456d-a16c-997636bb6b3b",
   "metadata": {},
   "source": [
    "we will use $n$ to denote\n",
    "the number of examples in our dataset.\n",
    "We index the data examples by $i$, denoting each input\n",
    "as $\\mathbf{x}^{(i)} = [x_1^{(i)}, x_2^{(i)}]^\\top$\n",
    "and the corresponding label as $y^{(i)}$.\n",
    "\n",
    "\n",
    "**Linear Model**\n",
    "\n",
    "When our inputs consist of $d$ features,\n",
    "we express our prediction $\\hat{y}$ (in general the \"hat\" symbol denotes estimates) as\n",
    "\n",
    "$$\\hat{y} = w_1  x_1 + ... + w_d  x_d + b.$$\n",
    "\n",
    "\n",
    "We will often find it convenient\n",
    "to refer to features of our entire dataset of $n$ examples\n",
    "via the *design matrix* $\\mathbf{X} \\in \\mathbb{R}^{n \\times d}$.\n",
    "Here, $\\mathbf{X}$ contains one row for every example\n",
    "and one column for every feature.\n",
    "\n",
    "For a collection of features $\\mathbf{X}$,\n",
    "the predictions $\\hat{\\mathbf{y}} \\in \\mathbb{R}^n$\n",
    "can be expressed via the matrix-vector product:\n",
    "\n",
    "$${\\hat{\\mathbf{y}}} = \\mathbf{X} \\mathbf{w} + b,$$\n",
    "\n",
    "\n",
    "**Loss Function**\n",
    "\n",
    "Determines a measure of *fitness*.\n",
    "The *loss function* quantifies the distance\n",
    "between the *real* and *predicted* value of the target.\n",
    "The most popular loss function in regression problems\n",
    "is the squared error.\n",
    "When our prediction for an example $i$ is $\\hat{y}^{(i)}$\n",
    "and the corresponding true label is $y^{(i)}$,\n",
    "the squared error is given by:\n",
    "\n",
    "$$l^{(i)}(\\mathbf{w}, b) = \\frac{1}{2} \\left(\\hat{y}^{(i)} - y^{(i)}\\right)^2.$$\n",
    "\n",
    "\n",
    "A regression problem for a one-dimensional case\n",
    "as shown:\n",
    "\n",
    "![Fit data with a linear model.](./img/fit-linreg.svg)\n",
    "\n",
    "To measure the quality of a model on the entire dataset of $n$ examples,\n",
    "we simply average (or equivalently, sum)\n",
    "the losses on the training set.\n",
    "\n",
    "$$L(\\mathbf{w}, b) =\\frac{1}{n}\\sum_{i=1}^n l^{(i)}(\\mathbf{w}, b) =\\frac{1}{n} \\sum_{i=1}^n \\frac{1}{2}\\left(\\mathbf{w}^\\top \\mathbf{x}^{(i)} + b - y^{(i)}\\right)^2.$$\n",
    "\n",
    "When training the model, we want to find parameters ($\\mathbf{w}^*, b^*$)\n",
    "that minimize the total loss across all training examples:\n",
    "\n",
    "$$\\mathbf{w}^*, b^* = \\operatorname*{argmin}_{\\mathbf{w}, b}\\  L(\\mathbf{w}, b).$$\n"
   ]
  },
  {
   "cell_type": "markdown",
   "id": "eddedadc-6641-4c7a-8134-79549b655a62",
   "metadata": {},
   "source": [
    "**Minibatch Stochastic Gradient Descent**\n",
    "\n",
    "\n",
    "The key technique for optimizing nearly any deep learning model,\n",
    "and which we will call upon throughout this book,\n",
    "consists of iteratively reducing the error\n",
    "by updating the parameters in the direction\n",
    "that incrementally lowers the loss function --> *gradient descent*.\n",
    "\n",
    "We will often settle for sampling a random minibatch of examples\n",
    "every time we need to compute the update --> *minibatch stochastic gradient descent*.\n",
    "\n",
    "We can express the update mathematically as follows\n",
    "($\\partial$ denotes the partial derivative):\n",
    "\n",
    "$$(\\mathbf{w},b) \\leftarrow (\\mathbf{w},b) - \\frac{\\eta}{|\\mathcal{B}|} \\sum_{i \\in \\mathcal{B}} \\partial_{(\\mathbf{w},b)} l^{(i)}(\\mathbf{w},b).$$\n"
   ]
  },
  {
   "cell_type": "markdown",
   "id": "b5b67706-78b0-428a-b984-03e8a44f2daf",
   "metadata": {},
   "source": [
    "## Synthetic Data, Simple Model\n",
    "### Generating the Dataset\n",
    "\n",
    "To keep things simple, we will [**construct an artificial dataset\n",
    "according to a linear model with additive noise.**]\n",
    "\n",
    "In the following code snippet, we generate a dataset\n",
    "containing 1000 examples, each consisting of 2 features\n",
    "sampled from a standard normal distribution.\n",
    "Thus our synthetic dataset will be a matrix\n",
    "$\\mathbf{X}\\in \\mathbb{R}^{1000 \\times 2}$.\n",
    "\n",
    "(**The true parameters generating our dataset will be\n",
    "$\\mathbf{w} = [2, -3.4]^\\top$ and $b = 4.2$,\n",
    "and**) our synthetic labels will be assigned according\n",
    "to the following linear model with the noise term $\\epsilon$:\n",
    "\n",
    "(**$$\\mathbf{y}= \\mathbf{X} \\mathbf{w} + b + \\mathbf\\epsilon.$$**)"
   ]
  },
  {
   "cell_type": "code",
   "execution_count": 6,
   "id": "6c56cf52-1cbe-4f80-9551-9988b28fe967",
   "metadata": {
    "origin_pos": 6,
    "tab": [
     "tensorflow"
    ]
   },
   "outputs": [],
   "source": [
    "def synthetic_data(w, b, num_examples):  #@save\n",
    "    \"\"\"Generate y = Xw + b + noise.\"\"\"\n",
    "    X = tf.zeros((num_examples, w.shape[0]))\n",
    "    X += tf.random.normal(shape=X.shape)\n",
    "    y = tf.matmul(X, tf.reshape(w, (-1, 1))) + b\n",
    "    y += tf.random.normal(shape=y.shape, stddev=0.01)\n",
    "    y = tf.reshape(y, (-1, 1))\n",
    "    return X, y"
   ]
  },
  {
   "cell_type": "code",
   "execution_count": 7,
   "id": "6f7fc2ce-cdd3-45f0-b632-f5b7fbd38155",
   "metadata": {
    "origin_pos": 7,
    "tab": [
     "tensorflow"
    ]
   },
   "outputs": [],
   "source": [
    "tf.random.set_seed(5)\n",
    "true_w = tf.constant([2, -3.4])\n",
    "true_b = 4.2\n",
    "features, labels = synthetic_data(true_w, true_b, 1000)"
   ]
  },
  {
   "cell_type": "code",
   "execution_count": 8,
   "id": "a088e27d-495b-461f-b483-5eaaa97d1dc8",
   "metadata": {
    "origin_pos": 9,
    "tab": [
     "tensorflow"
    ]
   },
   "outputs": [
    {
     "name": "stdout",
     "output_type": "stream",
     "text": [
      "features: tf.Tensor([-0.18030666 -0.95028627], shape=(2,), dtype=float32) \n",
      "label: tf.Tensor([7.0726256], shape=(1,), dtype=float32)\n"
     ]
    }
   ],
   "source": [
    "print('features:', features[0],'\\nlabel:', labels[0])"
   ]
  },
  {
   "cell_type": "markdown",
   "id": "af9a27cb-fcac-4856-99cb-724fa649c9a9",
   "metadata": {
    "origin_pos": 10
   },
   "source": [
    "By generating a scatter plot using the second feature `features[:, 1]` and `labels`,\n",
    "we can clearly observe the linear correlation between the two.\n"
   ]
  },
  {
   "cell_type": "code",
   "execution_count": 9,
   "id": "8cbcb65e-1376-4879-8a6c-5dc2dbc4c945",
   "metadata": {
    "origin_pos": 11,
    "tab": [
     "tensorflow"
    ]
   },
   "outputs": [
    {
     "data": {
      "image/svg+xml": "<?xml version=\"1.0\" encoding=\"utf-8\" standalone=\"no\"?>\n<!DOCTYPE svg PUBLIC \"-//W3C//DTD SVG 1.1//EN\"\n  \"http://www.w3.org/Graphics/SVG/1.1/DTD/svg11.dtd\">\n<svg xmlns:xlink=\"http://www.w3.org/1999/xlink\" width=\"238.052177pt\" height=\"166.978125pt\" viewBox=\"0 0 238.052177 166.978125\" xmlns=\"http://www.w3.org/2000/svg\" version=\"1.1\">\n <metadata>\n  <rdf:RDF xmlns:dc=\"http://purl.org/dc/elements/1.1/\" xmlns:cc=\"http://creativecommons.org/ns#\" xmlns:rdf=\"http://www.w3.org/1999/02/22-rdf-syntax-ns#\">\n   <cc:Work>\n    <dc:type rdf:resource=\"http://purl.org/dc/dcmitype/StillImage\"/>\n    <dc:date>2022-03-27T22:00:43.255714</dc:date>\n    <dc:format>image/svg+xml</dc:format>\n    <dc:creator>\n     <cc:Agent>\n      <dc:title>Matplotlib v3.5.1, https://matplotlib.org/</dc:title>\n     </cc:Agent>\n    </dc:creator>\n   </cc:Work>\n  </rdf:RDF>\n </metadata>\n <defs>\n  <style type=\"text/css\">*{stroke-linejoin: round; stroke-linecap: butt}</style>\n </defs>\n <g id=\"figure_1\">\n  <g id=\"patch_1\">\n   <path d=\"M 0 166.978125 \nL 238.052177 166.978125 \nL 238.052177 0 \nL 0 0 \nL 0 166.978125 \nz\n\" style=\"fill: none\"/>\n  </g>\n  <g id=\"axes_1\">\n   <g id=\"patch_2\">\n    <path d=\"M 35.304688 143.1 \nL 230.604688 143.1 \nL 230.604688 7.2 \nL 35.304688 7.2 \nz\n\" style=\"fill: #ffffff\"/>\n   </g>\n   <g id=\"PathCollection_1\">\n    <defs>\n     <path id=\"m336d3aff15\" d=\"M 0 0.5 \nC 0.132602 0.5 0.25979 0.447317 0.353553 0.353553 \nC 0.447317 0.25979 0.5 0.132602 0.5 0 \nC 0.5 -0.132602 0.447317 -0.25979 0.353553 -0.353553 \nC 0.25979 -0.447317 0.132602 -0.5 0 -0.5 \nC -0.132602 -0.5 -0.25979 -0.447317 -0.353553 -0.353553 \nC -0.447317 -0.25979 -0.5 -0.132602 -0.5 0 \nC -0.5 0.132602 -0.447317 0.25979 -0.353553 0.353553 \nC -0.25979 0.447317 -0.132602 0.5 0 0.5 \nz\n\" style=\"stroke: #1f77b4\"/>\n    </defs>\n    <g clip-path=\"url(#pac02ec70e4)\">\n     <use xlink:href=\"#m336d3aff15\" x=\"103.457998\" y=\"54.25546\" style=\"fill: #1f77b4; stroke: #1f77b4\"/>\n     <use xlink:href=\"#m336d3aff15\" x=\"108.670767\" y=\"56.259884\" style=\"fill: #1f77b4; stroke: #1f77b4\"/>\n     <use xlink:href=\"#m336d3aff15\" x=\"111.781997\" y=\"45.245211\" style=\"fill: #1f77b4; stroke: #1f77b4\"/>\n     <use xlink:href=\"#m336d3aff15\" x=\"125.069465\" y=\"58.339966\" style=\"fill: #1f77b4; stroke: #1f77b4\"/>\n     <use xlink:href=\"#m336d3aff15\" x=\"146.435551\" y=\"56.934176\" style=\"fill: #1f77b4; stroke: #1f77b4\"/>\n     <use xlink:href=\"#m336d3aff15\" x=\"151.896613\" y=\"71.752691\" style=\"fill: #1f77b4; stroke: #1f77b4\"/>\n     <use xlink:href=\"#m336d3aff15\" x=\"112.874621\" y=\"44.02145\" style=\"fill: #1f77b4; stroke: #1f77b4\"/>\n     <use xlink:href=\"#m336d3aff15\" x=\"95.917463\" y=\"38.996296\" style=\"fill: #1f77b4; stroke: #1f77b4\"/>\n     <use xlink:href=\"#m336d3aff15\" x=\"158.937374\" y=\"96.769017\" style=\"fill: #1f77b4; stroke: #1f77b4\"/>\n     <use xlink:href=\"#m336d3aff15\" x=\"127.958998\" y=\"74.949805\" style=\"fill: #1f77b4; stroke: #1f77b4\"/>\n     <use xlink:href=\"#m336d3aff15\" x=\"151.369462\" y=\"81.395746\" style=\"fill: #1f77b4; stroke: #1f77b4\"/>\n     <use xlink:href=\"#m336d3aff15\" x=\"128.177048\" y=\"72.001112\" style=\"fill: #1f77b4; stroke: #1f77b4\"/>\n     <use xlink:href=\"#m336d3aff15\" x=\"146.364905\" y=\"79.058719\" style=\"fill: #1f77b4; stroke: #1f77b4\"/>\n     <use xlink:href=\"#m336d3aff15\" x=\"92.673456\" y=\"41.106705\" style=\"fill: #1f77b4; stroke: #1f77b4\"/>\n     <use xlink:href=\"#m336d3aff15\" x=\"155.867169\" y=\"91.075923\" style=\"fill: #1f77b4; stroke: #1f77b4\"/>\n     <use xlink:href=\"#m336d3aff15\" x=\"145.977952\" y=\"88.822793\" style=\"fill: #1f77b4; stroke: #1f77b4\"/>\n     <use xlink:href=\"#m336d3aff15\" x=\"106.333316\" y=\"60.911169\" style=\"fill: #1f77b4; stroke: #1f77b4\"/>\n     <use xlink:href=\"#m336d3aff15\" x=\"103.876424\" y=\"57.624645\" style=\"fill: #1f77b4; stroke: #1f77b4\"/>\n     <use xlink:href=\"#m336d3aff15\" x=\"126.286385\" y=\"67.412715\" style=\"fill: #1f77b4; stroke: #1f77b4\"/>\n     <use xlink:href=\"#m336d3aff15\" x=\"91.705393\" y=\"25.643258\" style=\"fill: #1f77b4; stroke: #1f77b4\"/>\n     <use xlink:href=\"#m336d3aff15\" x=\"156.641159\" y=\"95.778747\" style=\"fill: #1f77b4; stroke: #1f77b4\"/>\n     <use xlink:href=\"#m336d3aff15\" x=\"135.453667\" y=\"74.463674\" style=\"fill: #1f77b4; stroke: #1f77b4\"/>\n     <use xlink:href=\"#m336d3aff15\" x=\"87.925611\" y=\"55.988466\" style=\"fill: #1f77b4; stroke: #1f77b4\"/>\n     <use xlink:href=\"#m336d3aff15\" x=\"123.319297\" y=\"70.838346\" style=\"fill: #1f77b4; stroke: #1f77b4\"/>\n     <use xlink:href=\"#m336d3aff15\" x=\"152.298419\" y=\"82.39078\" style=\"fill: #1f77b4; stroke: #1f77b4\"/>\n     <use xlink:href=\"#m336d3aff15\" x=\"56.039132\" y=\"41.130935\" style=\"fill: #1f77b4; stroke: #1f77b4\"/>\n     <use xlink:href=\"#m336d3aff15\" x=\"77.254375\" y=\"48.874821\" style=\"fill: #1f77b4; stroke: #1f77b4\"/>\n     <use xlink:href=\"#m336d3aff15\" x=\"115.959125\" y=\"56.331462\" style=\"fill: #1f77b4; stroke: #1f77b4\"/>\n     <use xlink:href=\"#m336d3aff15\" x=\"118.579993\" y=\"52.893916\" style=\"fill: #1f77b4; stroke: #1f77b4\"/>\n     <use xlink:href=\"#m336d3aff15\" x=\"95.528495\" y=\"48.376409\" style=\"fill: #1f77b4; stroke: #1f77b4\"/>\n     <use xlink:href=\"#m336d3aff15\" x=\"139.928005\" y=\"66.884337\" style=\"fill: #1f77b4; stroke: #1f77b4\"/>\n     <use xlink:href=\"#m336d3aff15\" x=\"131.855654\" y=\"75.978776\" style=\"fill: #1f77b4; stroke: #1f77b4\"/>\n     <use xlink:href=\"#m336d3aff15\" x=\"117.556774\" y=\"54.985524\" style=\"fill: #1f77b4; stroke: #1f77b4\"/>\n     <use xlink:href=\"#m336d3aff15\" x=\"82.137229\" y=\"46.295853\" style=\"fill: #1f77b4; stroke: #1f77b4\"/>\n     <use xlink:href=\"#m336d3aff15\" x=\"76.942554\" y=\"50.174051\" style=\"fill: #1f77b4; stroke: #1f77b4\"/>\n     <use xlink:href=\"#m336d3aff15\" x=\"119.931521\" y=\"59.463312\" style=\"fill: #1f77b4; stroke: #1f77b4\"/>\n     <use xlink:href=\"#m336d3aff15\" x=\"138.100046\" y=\"82.765538\" style=\"fill: #1f77b4; stroke: #1f77b4\"/>\n     <use xlink:href=\"#m336d3aff15\" x=\"97.561526\" y=\"54.337719\" style=\"fill: #1f77b4; stroke: #1f77b4\"/>\n     <use xlink:href=\"#m336d3aff15\" x=\"98.663332\" y=\"53.067017\" style=\"fill: #1f77b4; stroke: #1f77b4\"/>\n     <use xlink:href=\"#m336d3aff15\" x=\"135.796982\" y=\"68.7113\" style=\"fill: #1f77b4; stroke: #1f77b4\"/>\n     <use xlink:href=\"#m336d3aff15\" x=\"118.901099\" y=\"58.894017\" style=\"fill: #1f77b4; stroke: #1f77b4\"/>\n     <use xlink:href=\"#m336d3aff15\" x=\"111.17525\" y=\"66.205976\" style=\"fill: #1f77b4; stroke: #1f77b4\"/>\n     <use xlink:href=\"#m336d3aff15\" x=\"167.08919\" y=\"100.831176\" style=\"fill: #1f77b4; stroke: #1f77b4\"/>\n     <use xlink:href=\"#m336d3aff15\" x=\"118.534425\" y=\"70.172117\" style=\"fill: #1f77b4; stroke: #1f77b4\"/>\n     <use xlink:href=\"#m336d3aff15\" x=\"154.806286\" y=\"87.419923\" style=\"fill: #1f77b4; stroke: #1f77b4\"/>\n     <use xlink:href=\"#m336d3aff15\" x=\"97.024826\" y=\"54.818929\" style=\"fill: #1f77b4; stroke: #1f77b4\"/>\n     <use xlink:href=\"#m336d3aff15\" x=\"112.266053\" y=\"44.603172\" style=\"fill: #1f77b4; stroke: #1f77b4\"/>\n     <use xlink:href=\"#m336d3aff15\" x=\"185.882073\" y=\"94.361965\" style=\"fill: #1f77b4; stroke: #1f77b4\"/>\n     <use xlink:href=\"#m336d3aff15\" x=\"135.537521\" y=\"72.822223\" style=\"fill: #1f77b4; stroke: #1f77b4\"/>\n     <use xlink:href=\"#m336d3aff15\" x=\"130.307219\" y=\"67.607529\" style=\"fill: #1f77b4; stroke: #1f77b4\"/>\n     <use xlink:href=\"#m336d3aff15\" x=\"142.879279\" y=\"78.971449\" style=\"fill: #1f77b4; stroke: #1f77b4\"/>\n     <use xlink:href=\"#m336d3aff15\" x=\"106.841473\" y=\"43.833765\" style=\"fill: #1f77b4; stroke: #1f77b4\"/>\n     <use xlink:href=\"#m336d3aff15\" x=\"146.939027\" y=\"98.135533\" style=\"fill: #1f77b4; stroke: #1f77b4\"/>\n     <use xlink:href=\"#m336d3aff15\" x=\"127.69702\" y=\"64.632581\" style=\"fill: #1f77b4; stroke: #1f77b4\"/>\n     <use xlink:href=\"#m336d3aff15\" x=\"126.46014\" y=\"59.652817\" style=\"fill: #1f77b4; stroke: #1f77b4\"/>\n     <use xlink:href=\"#m336d3aff15\" x=\"89.282025\" y=\"50.559589\" style=\"fill: #1f77b4; stroke: #1f77b4\"/>\n     <use xlink:href=\"#m336d3aff15\" x=\"98.919047\" y=\"43.429453\" style=\"fill: #1f77b4; stroke: #1f77b4\"/>\n     <use xlink:href=\"#m336d3aff15\" x=\"80.348002\" y=\"32.354977\" style=\"fill: #1f77b4; stroke: #1f77b4\"/>\n     <use xlink:href=\"#m336d3aff15\" x=\"97.28183\" y=\"43.363308\" style=\"fill: #1f77b4; stroke: #1f77b4\"/>\n     <use xlink:href=\"#m336d3aff15\" x=\"169.747279\" y=\"90.668193\" style=\"fill: #1f77b4; stroke: #1f77b4\"/>\n     <use xlink:href=\"#m336d3aff15\" x=\"145.170897\" y=\"101.721947\" style=\"fill: #1f77b4; stroke: #1f77b4\"/>\n     <use xlink:href=\"#m336d3aff15\" x=\"86.38961\" y=\"41.752333\" style=\"fill: #1f77b4; stroke: #1f77b4\"/>\n     <use xlink:href=\"#m336d3aff15\" x=\"141.576291\" y=\"80.532836\" style=\"fill: #1f77b4; stroke: #1f77b4\"/>\n     <use xlink:href=\"#m336d3aff15\" x=\"143.972472\" y=\"70.508637\" style=\"fill: #1f77b4; stroke: #1f77b4\"/>\n     <use xlink:href=\"#m336d3aff15\" x=\"115.886402\" y=\"70.176511\" style=\"fill: #1f77b4; stroke: #1f77b4\"/>\n     <use xlink:href=\"#m336d3aff15\" x=\"140.367046\" y=\"64.844843\" style=\"fill: #1f77b4; stroke: #1f77b4\"/>\n     <use xlink:href=\"#m336d3aff15\" x=\"113.925066\" y=\"59.696034\" style=\"fill: #1f77b4; stroke: #1f77b4\"/>\n     <use xlink:href=\"#m336d3aff15\" x=\"115.484048\" y=\"55.176895\" style=\"fill: #1f77b4; stroke: #1f77b4\"/>\n     <use xlink:href=\"#m336d3aff15\" x=\"115.661426\" y=\"56.281664\" style=\"fill: #1f77b4; stroke: #1f77b4\"/>\n     <use xlink:href=\"#m336d3aff15\" x=\"134.86865\" y=\"77.773032\" style=\"fill: #1f77b4; stroke: #1f77b4\"/>\n     <use xlink:href=\"#m336d3aff15\" x=\"108.304567\" y=\"46.620384\" style=\"fill: #1f77b4; stroke: #1f77b4\"/>\n     <use xlink:href=\"#m336d3aff15\" x=\"148.043819\" y=\"80.42492\" style=\"fill: #1f77b4; stroke: #1f77b4\"/>\n     <use xlink:href=\"#m336d3aff15\" x=\"106.298361\" y=\"45.72394\" style=\"fill: #1f77b4; stroke: #1f77b4\"/>\n     <use xlink:href=\"#m336d3aff15\" x=\"152.053346\" y=\"86.792041\" style=\"fill: #1f77b4; stroke: #1f77b4\"/>\n     <use xlink:href=\"#m336d3aff15\" x=\"90.842738\" y=\"62.346326\" style=\"fill: #1f77b4; stroke: #1f77b4\"/>\n     <use xlink:href=\"#m336d3aff15\" x=\"153.612615\" y=\"84.26271\" style=\"fill: #1f77b4; stroke: #1f77b4\"/>\n     <use xlink:href=\"#m336d3aff15\" x=\"70.547949\" y=\"34.858114\" style=\"fill: #1f77b4; stroke: #1f77b4\"/>\n     <use xlink:href=\"#m336d3aff15\" x=\"139.638087\" y=\"83.021947\" style=\"fill: #1f77b4; stroke: #1f77b4\"/>\n     <use xlink:href=\"#m336d3aff15\" x=\"151.888097\" y=\"90.22388\" style=\"fill: #1f77b4; stroke: #1f77b4\"/>\n     <use xlink:href=\"#m336d3aff15\" x=\"187.438745\" y=\"108.651784\" style=\"fill: #1f77b4; stroke: #1f77b4\"/>\n     <use xlink:href=\"#m336d3aff15\" x=\"57.637938\" y=\"40.955526\" style=\"fill: #1f77b4; stroke: #1f77b4\"/>\n     <use xlink:href=\"#m336d3aff15\" x=\"103.116872\" y=\"67.626883\" style=\"fill: #1f77b4; stroke: #1f77b4\"/>\n     <use xlink:href=\"#m336d3aff15\" x=\"130.279441\" y=\"65.787228\" style=\"fill: #1f77b4; stroke: #1f77b4\"/>\n     <use xlink:href=\"#m336d3aff15\" x=\"120.984324\" y=\"75.878974\" style=\"fill: #1f77b4; stroke: #1f77b4\"/>\n     <use xlink:href=\"#m336d3aff15\" x=\"134.07826\" y=\"74.585476\" style=\"fill: #1f77b4; stroke: #1f77b4\"/>\n     <use xlink:href=\"#m336d3aff15\" x=\"160.544697\" y=\"88.164357\" style=\"fill: #1f77b4; stroke: #1f77b4\"/>\n     <use xlink:href=\"#m336d3aff15\" x=\"202.173554\" y=\"110.754701\" style=\"fill: #1f77b4; stroke: #1f77b4\"/>\n     <use xlink:href=\"#m336d3aff15\" x=\"140.983354\" y=\"86.093214\" style=\"fill: #1f77b4; stroke: #1f77b4\"/>\n     <use xlink:href=\"#m336d3aff15\" x=\"164.539587\" y=\"98.022045\" style=\"fill: #1f77b4; stroke: #1f77b4\"/>\n     <use xlink:href=\"#m336d3aff15\" x=\"133.038829\" y=\"80.280425\" style=\"fill: #1f77b4; stroke: #1f77b4\"/>\n     <use xlink:href=\"#m336d3aff15\" x=\"120.588925\" y=\"65.250999\" style=\"fill: #1f77b4; stroke: #1f77b4\"/>\n     <use xlink:href=\"#m336d3aff15\" x=\"142.455653\" y=\"88.773612\" style=\"fill: #1f77b4; stroke: #1f77b4\"/>\n     <use xlink:href=\"#m336d3aff15\" x=\"98.045357\" y=\"59.41372\" style=\"fill: #1f77b4; stroke: #1f77b4\"/>\n     <use xlink:href=\"#m336d3aff15\" x=\"138.434207\" y=\"79.931346\" style=\"fill: #1f77b4; stroke: #1f77b4\"/>\n     <use xlink:href=\"#m336d3aff15\" x=\"120.007364\" y=\"46.251402\" style=\"fill: #1f77b4; stroke: #1f77b4\"/>\n     <use xlink:href=\"#m336d3aff15\" x=\"141.38134\" y=\"59.318833\" style=\"fill: #1f77b4; stroke: #1f77b4\"/>\n     <use xlink:href=\"#m336d3aff15\" x=\"109.526332\" y=\"48.806555\" style=\"fill: #1f77b4; stroke: #1f77b4\"/>\n     <use xlink:href=\"#m336d3aff15\" x=\"140.161384\" y=\"66.380575\" style=\"fill: #1f77b4; stroke: #1f77b4\"/>\n     <use xlink:href=\"#m336d3aff15\" x=\"163.600302\" y=\"84.90051\" style=\"fill: #1f77b4; stroke: #1f77b4\"/>\n     <use xlink:href=\"#m336d3aff15\" x=\"171.451122\" y=\"106.943595\" style=\"fill: #1f77b4; stroke: #1f77b4\"/>\n     <use xlink:href=\"#m336d3aff15\" x=\"121.035127\" y=\"54.303529\" style=\"fill: #1f77b4; stroke: #1f77b4\"/>\n     <use xlink:href=\"#m336d3aff15\" x=\"123.819011\" y=\"74.349835\" style=\"fill: #1f77b4; stroke: #1f77b4\"/>\n     <use xlink:href=\"#m336d3aff15\" x=\"109.31171\" y=\"53.385788\" style=\"fill: #1f77b4; stroke: #1f77b4\"/>\n     <use xlink:href=\"#m336d3aff15\" x=\"130.954709\" y=\"71.649328\" style=\"fill: #1f77b4; stroke: #1f77b4\"/>\n     <use xlink:href=\"#m336d3aff15\" x=\"106.138441\" y=\"57.057106\" style=\"fill: #1f77b4; stroke: #1f77b4\"/>\n     <use xlink:href=\"#m336d3aff15\" x=\"134.980025\" y=\"79.202761\" style=\"fill: #1f77b4; stroke: #1f77b4\"/>\n     <use xlink:href=\"#m336d3aff15\" x=\"112.232385\" y=\"48.124745\" style=\"fill: #1f77b4; stroke: #1f77b4\"/>\n     <use xlink:href=\"#m336d3aff15\" x=\"140.847078\" y=\"76.876773\" style=\"fill: #1f77b4; stroke: #1f77b4\"/>\n     <use xlink:href=\"#m336d3aff15\" x=\"139.928478\" y=\"79.206403\" style=\"fill: #1f77b4; stroke: #1f77b4\"/>\n     <use xlink:href=\"#m336d3aff15\" x=\"88.408963\" y=\"64.151209\" style=\"fill: #1f77b4; stroke: #1f77b4\"/>\n     <use xlink:href=\"#m336d3aff15\" x=\"147.156238\" y=\"61.600071\" style=\"fill: #1f77b4; stroke: #1f77b4\"/>\n     <use xlink:href=\"#m336d3aff15\" x=\"133.12324\" y=\"69.98141\" style=\"fill: #1f77b4; stroke: #1f77b4\"/>\n     <use xlink:href=\"#m336d3aff15\" x=\"105.631613\" y=\"33.281793\" style=\"fill: #1f77b4; stroke: #1f77b4\"/>\n     <use xlink:href=\"#m336d3aff15\" x=\"121.221183\" y=\"72.084656\" style=\"fill: #1f77b4; stroke: #1f77b4\"/>\n     <use xlink:href=\"#m336d3aff15\" x=\"129.919445\" y=\"61.058935\" style=\"fill: #1f77b4; stroke: #1f77b4\"/>\n     <use xlink:href=\"#m336d3aff15\" x=\"116.760736\" y=\"66.41526\" style=\"fill: #1f77b4; stroke: #1f77b4\"/>\n     <use xlink:href=\"#m336d3aff15\" x=\"152.878055\" y=\"87.318937\" style=\"fill: #1f77b4; stroke: #1f77b4\"/>\n     <use xlink:href=\"#m336d3aff15\" x=\"120.825672\" y=\"63.113081\" style=\"fill: #1f77b4; stroke: #1f77b4\"/>\n     <use xlink:href=\"#m336d3aff15\" x=\"120.373679\" y=\"55.462634\" style=\"fill: #1f77b4; stroke: #1f77b4\"/>\n     <use xlink:href=\"#m336d3aff15\" x=\"123.321788\" y=\"54.081045\" style=\"fill: #1f77b4; stroke: #1f77b4\"/>\n     <use xlink:href=\"#m336d3aff15\" x=\"141.160842\" y=\"67.411926\" style=\"fill: #1f77b4; stroke: #1f77b4\"/>\n     <use xlink:href=\"#m336d3aff15\" x=\"139.073482\" y=\"66.602735\" style=\"fill: #1f77b4; stroke: #1f77b4\"/>\n     <use xlink:href=\"#m336d3aff15\" x=\"101.056929\" y=\"54.086568\" style=\"fill: #1f77b4; stroke: #1f77b4\"/>\n     <use xlink:href=\"#m336d3aff15\" x=\"88.88289\" y=\"53.795424\" style=\"fill: #1f77b4; stroke: #1f77b4\"/>\n     <use xlink:href=\"#m336d3aff15\" x=\"111.153094\" y=\"57.417322\" style=\"fill: #1f77b4; stroke: #1f77b4\"/>\n     <use xlink:href=\"#m336d3aff15\" x=\"146.022688\" y=\"83.373886\" style=\"fill: #1f77b4; stroke: #1f77b4\"/>\n     <use xlink:href=\"#m336d3aff15\" x=\"93.9165\" y=\"39.65608\" style=\"fill: #1f77b4; stroke: #1f77b4\"/>\n     <use xlink:href=\"#m336d3aff15\" x=\"91.207384\" y=\"29.873352\" style=\"fill: #1f77b4; stroke: #1f77b4\"/>\n     <use xlink:href=\"#m336d3aff15\" x=\"123.327204\" y=\"63.472593\" style=\"fill: #1f77b4; stroke: #1f77b4\"/>\n     <use xlink:href=\"#m336d3aff15\" x=\"127.667829\" y=\"51.868334\" style=\"fill: #1f77b4; stroke: #1f77b4\"/>\n     <use xlink:href=\"#m336d3aff15\" x=\"130.581048\" y=\"59.000818\" style=\"fill: #1f77b4; stroke: #1f77b4\"/>\n     <use xlink:href=\"#m336d3aff15\" x=\"157.181084\" y=\"69.813895\" style=\"fill: #1f77b4; stroke: #1f77b4\"/>\n     <use xlink:href=\"#m336d3aff15\" x=\"139.78096\" y=\"83.419075\" style=\"fill: #1f77b4; stroke: #1f77b4\"/>\n     <use xlink:href=\"#m336d3aff15\" x=\"119.127318\" y=\"67.364092\" style=\"fill: #1f77b4; stroke: #1f77b4\"/>\n     <use xlink:href=\"#m336d3aff15\" x=\"123.805889\" y=\"65.931909\" style=\"fill: #1f77b4; stroke: #1f77b4\"/>\n     <use xlink:href=\"#m336d3aff15\" x=\"128.469546\" y=\"78.610403\" style=\"fill: #1f77b4; stroke: #1f77b4\"/>\n     <use xlink:href=\"#m336d3aff15\" x=\"147.915287\" y=\"91.309052\" style=\"fill: #1f77b4; stroke: #1f77b4\"/>\n     <use xlink:href=\"#m336d3aff15\" x=\"83.285323\" y=\"28.448438\" style=\"fill: #1f77b4; stroke: #1f77b4\"/>\n     <use xlink:href=\"#m336d3aff15\" x=\"137.424991\" y=\"80.61372\" style=\"fill: #1f77b4; stroke: #1f77b4\"/>\n     <use xlink:href=\"#m336d3aff15\" x=\"95.00687\" y=\"50.177881\" style=\"fill: #1f77b4; stroke: #1f77b4\"/>\n     <use xlink:href=\"#m336d3aff15\" x=\"102.142875\" y=\"51.68097\" style=\"fill: #1f77b4; stroke: #1f77b4\"/>\n     <use xlink:href=\"#m336d3aff15\" x=\"117.716561\" y=\"64.084665\" style=\"fill: #1f77b4; stroke: #1f77b4\"/>\n     <use xlink:href=\"#m336d3aff15\" x=\"119.436212\" y=\"52.747206\" style=\"fill: #1f77b4; stroke: #1f77b4\"/>\n     <use xlink:href=\"#m336d3aff15\" x=\"118.1939\" y=\"62.535929\" style=\"fill: #1f77b4; stroke: #1f77b4\"/>\n     <use xlink:href=\"#m336d3aff15\" x=\"148.834344\" y=\"71.514503\" style=\"fill: #1f77b4; stroke: #1f77b4\"/>\n     <use xlink:href=\"#m336d3aff15\" x=\"136.918916\" y=\"76.999174\" style=\"fill: #1f77b4; stroke: #1f77b4\"/>\n     <use xlink:href=\"#m336d3aff15\" x=\"162.895511\" y=\"101.668217\" style=\"fill: #1f77b4; stroke: #1f77b4\"/>\n     <use xlink:href=\"#m336d3aff15\" x=\"153.753728\" y=\"90.41147\" style=\"fill: #1f77b4; stroke: #1f77b4\"/>\n     <use xlink:href=\"#m336d3aff15\" x=\"158.107338\" y=\"95.834201\" style=\"fill: #1f77b4; stroke: #1f77b4\"/>\n     <use xlink:href=\"#m336d3aff15\" x=\"143.638719\" y=\"82.813933\" style=\"fill: #1f77b4; stroke: #1f77b4\"/>\n     <use xlink:href=\"#m336d3aff15\" x=\"138.157858\" y=\"60.214809\" style=\"fill: #1f77b4; stroke: #1f77b4\"/>\n     <use xlink:href=\"#m336d3aff15\" x=\"125.583847\" y=\"61.426519\" style=\"fill: #1f77b4; stroke: #1f77b4\"/>\n     <use xlink:href=\"#m336d3aff15\" x=\"60.18366\" y=\"22.61011\" style=\"fill: #1f77b4; stroke: #1f77b4\"/>\n     <use xlink:href=\"#m336d3aff15\" x=\"124.26619\" y=\"70.534359\" style=\"fill: #1f77b4; stroke: #1f77b4\"/>\n     <use xlink:href=\"#m336d3aff15\" x=\"138.781503\" y=\"76.589825\" style=\"fill: #1f77b4; stroke: #1f77b4\"/>\n     <use xlink:href=\"#m336d3aff15\" x=\"148.088258\" y=\"93.873118\" style=\"fill: #1f77b4; stroke: #1f77b4\"/>\n     <use xlink:href=\"#m336d3aff15\" x=\"142.512775\" y=\"66.618296\" style=\"fill: #1f77b4; stroke: #1f77b4\"/>\n     <use xlink:href=\"#m336d3aff15\" x=\"146.776915\" y=\"85.05917\" style=\"fill: #1f77b4; stroke: #1f77b4\"/>\n     <use xlink:href=\"#m336d3aff15\" x=\"114.539376\" y=\"54.169436\" style=\"fill: #1f77b4; stroke: #1f77b4\"/>\n     <use xlink:href=\"#m336d3aff15\" x=\"144.409949\" y=\"93.806537\" style=\"fill: #1f77b4; stroke: #1f77b4\"/>\n     <use xlink:href=\"#m336d3aff15\" x=\"53.788565\" y=\"26.593429\" style=\"fill: #1f77b4; stroke: #1f77b4\"/>\n     <use xlink:href=\"#m336d3aff15\" x=\"144.044516\" y=\"75.550871\" style=\"fill: #1f77b4; stroke: #1f77b4\"/>\n     <use xlink:href=\"#m336d3aff15\" x=\"75.426119\" y=\"33.895867\" style=\"fill: #1f77b4; stroke: #1f77b4\"/>\n     <use xlink:href=\"#m336d3aff15\" x=\"152.555677\" y=\"100.313839\" style=\"fill: #1f77b4; stroke: #1f77b4\"/>\n     <use xlink:href=\"#m336d3aff15\" x=\"111.603271\" y=\"78.100766\" style=\"fill: #1f77b4; stroke: #1f77b4\"/>\n     <use xlink:href=\"#m336d3aff15\" x=\"145.671432\" y=\"87.191455\" style=\"fill: #1f77b4; stroke: #1f77b4\"/>\n     <use xlink:href=\"#m336d3aff15\" x=\"144.59552\" y=\"88.027\" style=\"fill: #1f77b4; stroke: #1f77b4\"/>\n     <use xlink:href=\"#m336d3aff15\" x=\"163.706155\" y=\"77.600753\" style=\"fill: #1f77b4; stroke: #1f77b4\"/>\n     <use xlink:href=\"#m336d3aff15\" x=\"123.583462\" y=\"60.281526\" style=\"fill: #1f77b4; stroke: #1f77b4\"/>\n     <use xlink:href=\"#m336d3aff15\" x=\"124.516948\" y=\"82.318791\" style=\"fill: #1f77b4; stroke: #1f77b4\"/>\n     <use xlink:href=\"#m336d3aff15\" x=\"136.614304\" y=\"78.470837\" style=\"fill: #1f77b4; stroke: #1f77b4\"/>\n     <use xlink:href=\"#m336d3aff15\" x=\"134.520757\" y=\"76.52363\" style=\"fill: #1f77b4; stroke: #1f77b4\"/>\n     <use xlink:href=\"#m336d3aff15\" x=\"158.178284\" y=\"87.105258\" style=\"fill: #1f77b4; stroke: #1f77b4\"/>\n     <use xlink:href=\"#m336d3aff15\" x=\"127.619991\" y=\"66.499681\" style=\"fill: #1f77b4; stroke: #1f77b4\"/>\n     <use xlink:href=\"#m336d3aff15\" x=\"124.58247\" y=\"96.747695\" style=\"fill: #1f77b4; stroke: #1f77b4\"/>\n     <use xlink:href=\"#m336d3aff15\" x=\"128.683704\" y=\"71.692743\" style=\"fill: #1f77b4; stroke: #1f77b4\"/>\n     <use xlink:href=\"#m336d3aff15\" x=\"120.373083\" y=\"65.882585\" style=\"fill: #1f77b4; stroke: #1f77b4\"/>\n     <use xlink:href=\"#m336d3aff15\" x=\"133.368699\" y=\"57.068156\" style=\"fill: #1f77b4; stroke: #1f77b4\"/>\n     <use xlink:href=\"#m336d3aff15\" x=\"88.604639\" y=\"43.130958\" style=\"fill: #1f77b4; stroke: #1f77b4\"/>\n     <use xlink:href=\"#m336d3aff15\" x=\"134.005458\" y=\"63.10277\" style=\"fill: #1f77b4; stroke: #1f77b4\"/>\n     <use xlink:href=\"#m336d3aff15\" x=\"74.426864\" y=\"33.395745\" style=\"fill: #1f77b4; stroke: #1f77b4\"/>\n     <use xlink:href=\"#m336d3aff15\" x=\"130.734505\" y=\"65.37466\" style=\"fill: #1f77b4; stroke: #1f77b4\"/>\n     <use xlink:href=\"#m336d3aff15\" x=\"151.942739\" y=\"68.333167\" style=\"fill: #1f77b4; stroke: #1f77b4\"/>\n     <use xlink:href=\"#m336d3aff15\" x=\"125.392251\" y=\"41.909919\" style=\"fill: #1f77b4; stroke: #1f77b4\"/>\n     <use xlink:href=\"#m336d3aff15\" x=\"134.032758\" y=\"74.56334\" style=\"fill: #1f77b4; stroke: #1f77b4\"/>\n     <use xlink:href=\"#m336d3aff15\" x=\"134.76276\" y=\"68.074113\" style=\"fill: #1f77b4; stroke: #1f77b4\"/>\n     <use xlink:href=\"#m336d3aff15\" x=\"154.163293\" y=\"92.580232\" style=\"fill: #1f77b4; stroke: #1f77b4\"/>\n     <use xlink:href=\"#m336d3aff15\" x=\"129.54981\" y=\"77.986456\" style=\"fill: #1f77b4; stroke: #1f77b4\"/>\n     <use xlink:href=\"#m336d3aff15\" x=\"109.454688\" y=\"53.649519\" style=\"fill: #1f77b4; stroke: #1f77b4\"/>\n     <use xlink:href=\"#m336d3aff15\" x=\"142.301617\" y=\"72.020757\" style=\"fill: #1f77b4; stroke: #1f77b4\"/>\n     <use xlink:href=\"#m336d3aff15\" x=\"121.267077\" y=\"62.290759\" style=\"fill: #1f77b4; stroke: #1f77b4\"/>\n     <use xlink:href=\"#m336d3aff15\" x=\"143.201839\" y=\"77.383381\" style=\"fill: #1f77b4; stroke: #1f77b4\"/>\n     <use xlink:href=\"#m336d3aff15\" x=\"90.422838\" y=\"49.521434\" style=\"fill: #1f77b4; stroke: #1f77b4\"/>\n     <use xlink:href=\"#m336d3aff15\" x=\"127.921821\" y=\"91.168605\" style=\"fill: #1f77b4; stroke: #1f77b4\"/>\n     <use xlink:href=\"#m336d3aff15\" x=\"114.361114\" y=\"70.783311\" style=\"fill: #1f77b4; stroke: #1f77b4\"/>\n     <use xlink:href=\"#m336d3aff15\" x=\"117.257173\" y=\"76.712379\" style=\"fill: #1f77b4; stroke: #1f77b4\"/>\n     <use xlink:href=\"#m336d3aff15\" x=\"173.022643\" y=\"117.407694\" style=\"fill: #1f77b4; stroke: #1f77b4\"/>\n     <use xlink:href=\"#m336d3aff15\" x=\"146.939478\" y=\"73.289953\" style=\"fill: #1f77b4; stroke: #1f77b4\"/>\n     <use xlink:href=\"#m336d3aff15\" x=\"174.229203\" y=\"117.918502\" style=\"fill: #1f77b4; stroke: #1f77b4\"/>\n     <use xlink:href=\"#m336d3aff15\" x=\"106.721523\" y=\"53.996171\" style=\"fill: #1f77b4; stroke: #1f77b4\"/>\n     <use xlink:href=\"#m336d3aff15\" x=\"125.981747\" y=\"70.107207\" style=\"fill: #1f77b4; stroke: #1f77b4\"/>\n     <use xlink:href=\"#m336d3aff15\" x=\"121.479054\" y=\"51.676866\" style=\"fill: #1f77b4; stroke: #1f77b4\"/>\n     <use xlink:href=\"#m336d3aff15\" x=\"131.623789\" y=\"72.034668\" style=\"fill: #1f77b4; stroke: #1f77b4\"/>\n     <use xlink:href=\"#m336d3aff15\" x=\"141.697221\" y=\"82.31292\" style=\"fill: #1f77b4; stroke: #1f77b4\"/>\n     <use xlink:href=\"#m336d3aff15\" x=\"111.022883\" y=\"51.064226\" style=\"fill: #1f77b4; stroke: #1f77b4\"/>\n     <use xlink:href=\"#m336d3aff15\" x=\"107.996616\" y=\"35.874051\" style=\"fill: #1f77b4; stroke: #1f77b4\"/>\n     <use xlink:href=\"#m336d3aff15\" x=\"134.893315\" y=\"86.530631\" style=\"fill: #1f77b4; stroke: #1f77b4\"/>\n     <use xlink:href=\"#m336d3aff15\" x=\"116.638995\" y=\"66.160932\" style=\"fill: #1f77b4; stroke: #1f77b4\"/>\n     <use xlink:href=\"#m336d3aff15\" x=\"140.690914\" y=\"70.299222\" style=\"fill: #1f77b4; stroke: #1f77b4\"/>\n     <use xlink:href=\"#m336d3aff15\" x=\"135.77465\" y=\"73.113629\" style=\"fill: #1f77b4; stroke: #1f77b4\"/>\n     <use xlink:href=\"#m336d3aff15\" x=\"127.021191\" y=\"51.16197\" style=\"fill: #1f77b4; stroke: #1f77b4\"/>\n     <use xlink:href=\"#m336d3aff15\" x=\"141.862747\" y=\"73.755574\" style=\"fill: #1f77b4; stroke: #1f77b4\"/>\n     <use xlink:href=\"#m336d3aff15\" x=\"145.561526\" y=\"91.178656\" style=\"fill: #1f77b4; stroke: #1f77b4\"/>\n     <use xlink:href=\"#m336d3aff15\" x=\"133.221518\" y=\"68.157355\" style=\"fill: #1f77b4; stroke: #1f77b4\"/>\n     <use xlink:href=\"#m336d3aff15\" x=\"87.731421\" y=\"49.498235\" style=\"fill: #1f77b4; stroke: #1f77b4\"/>\n     <use xlink:href=\"#m336d3aff15\" x=\"124.38895\" y=\"56.93421\" style=\"fill: #1f77b4; stroke: #1f77b4\"/>\n     <use xlink:href=\"#m336d3aff15\" x=\"159.982778\" y=\"81.34391\" style=\"fill: #1f77b4; stroke: #1f77b4\"/>\n     <use xlink:href=\"#m336d3aff15\" x=\"188.484908\" y=\"97.289343\" style=\"fill: #1f77b4; stroke: #1f77b4\"/>\n     <use xlink:href=\"#m336d3aff15\" x=\"106.929685\" y=\"38.616224\" style=\"fill: #1f77b4; stroke: #1f77b4\"/>\n     <use xlink:href=\"#m336d3aff15\" x=\"141.300778\" y=\"75.41991\" style=\"fill: #1f77b4; stroke: #1f77b4\"/>\n     <use xlink:href=\"#m336d3aff15\" x=\"154.39119\" y=\"80.580653\" style=\"fill: #1f77b4; stroke: #1f77b4\"/>\n     <use xlink:href=\"#m336d3aff15\" x=\"81.220331\" y=\"37.999518\" style=\"fill: #1f77b4; stroke: #1f77b4\"/>\n     <use xlink:href=\"#m336d3aff15\" x=\"128.442515\" y=\"54.056366\" style=\"fill: #1f77b4; stroke: #1f77b4\"/>\n     <use xlink:href=\"#m336d3aff15\" x=\"125.415276\" y=\"73.863496\" style=\"fill: #1f77b4; stroke: #1f77b4\"/>\n     <use xlink:href=\"#m336d3aff15\" x=\"164.590297\" y=\"88.787053\" style=\"fill: #1f77b4; stroke: #1f77b4\"/>\n     <use xlink:href=\"#m336d3aff15\" x=\"151.23419\" y=\"82.845228\" style=\"fill: #1f77b4; stroke: #1f77b4\"/>\n     <use xlink:href=\"#m336d3aff15\" x=\"131.12124\" y=\"67.196819\" style=\"fill: #1f77b4; stroke: #1f77b4\"/>\n     <use xlink:href=\"#m336d3aff15\" x=\"159.534725\" y=\"95.613384\" style=\"fill: #1f77b4; stroke: #1f77b4\"/>\n     <use xlink:href=\"#m336d3aff15\" x=\"136.950445\" y=\"88.736696\" style=\"fill: #1f77b4; stroke: #1f77b4\"/>\n     <use xlink:href=\"#m336d3aff15\" x=\"127.161759\" y=\"81.721512\" style=\"fill: #1f77b4; stroke: #1f77b4\"/>\n     <use xlink:href=\"#m336d3aff15\" x=\"85.918591\" y=\"45.30135\" style=\"fill: #1f77b4; stroke: #1f77b4\"/>\n     <use xlink:href=\"#m336d3aff15\" x=\"122.089942\" y=\"69.636355\" style=\"fill: #1f77b4; stroke: #1f77b4\"/>\n     <use xlink:href=\"#m336d3aff15\" x=\"134.210121\" y=\"74.298346\" style=\"fill: #1f77b4; stroke: #1f77b4\"/>\n     <use xlink:href=\"#m336d3aff15\" x=\"142.197612\" y=\"70.29162\" style=\"fill: #1f77b4; stroke: #1f77b4\"/>\n     <use xlink:href=\"#m336d3aff15\" x=\"89.378967\" y=\"29.394372\" style=\"fill: #1f77b4; stroke: #1f77b4\"/>\n     <use xlink:href=\"#m336d3aff15\" x=\"146.981523\" y=\"96.848341\" style=\"fill: #1f77b4; stroke: #1f77b4\"/>\n     <use xlink:href=\"#m336d3aff15\" x=\"118.371076\" y=\"77.689236\" style=\"fill: #1f77b4; stroke: #1f77b4\"/>\n     <use xlink:href=\"#m336d3aff15\" x=\"144.724977\" y=\"76.312122\" style=\"fill: #1f77b4; stroke: #1f77b4\"/>\n     <use xlink:href=\"#m336d3aff15\" x=\"123.344145\" y=\"55.022113\" style=\"fill: #1f77b4; stroke: #1f77b4\"/>\n     <use xlink:href=\"#m336d3aff15\" x=\"116.292861\" y=\"68.184093\" style=\"fill: #1f77b4; stroke: #1f77b4\"/>\n     <use xlink:href=\"#m336d3aff15\" x=\"95.794395\" y=\"40.095379\" style=\"fill: #1f77b4; stroke: #1f77b4\"/>\n     <use xlink:href=\"#m336d3aff15\" x=\"103.236212\" y=\"51.983298\" style=\"fill: #1f77b4; stroke: #1f77b4\"/>\n     <use xlink:href=\"#m336d3aff15\" x=\"116.714566\" y=\"58.928517\" style=\"fill: #1f77b4; stroke: #1f77b4\"/>\n     <use xlink:href=\"#m336d3aff15\" x=\"154.420217\" y=\"109.170515\" style=\"fill: #1f77b4; stroke: #1f77b4\"/>\n     <use xlink:href=\"#m336d3aff15\" x=\"137.209349\" y=\"79.493915\" style=\"fill: #1f77b4; stroke: #1f77b4\"/>\n     <use xlink:href=\"#m336d3aff15\" x=\"86.685889\" y=\"54.322095\" style=\"fill: #1f77b4; stroke: #1f77b4\"/>\n     <use xlink:href=\"#m336d3aff15\" x=\"117.053846\" y=\"68.586756\" style=\"fill: #1f77b4; stroke: #1f77b4\"/>\n     <use xlink:href=\"#m336d3aff15\" x=\"132.613709\" y=\"72.406417\" style=\"fill: #1f77b4; stroke: #1f77b4\"/>\n     <use xlink:href=\"#m336d3aff15\" x=\"141.990859\" y=\"94.41658\" style=\"fill: #1f77b4; stroke: #1f77b4\"/>\n     <use xlink:href=\"#m336d3aff15\" x=\"192.273811\" y=\"114.656138\" style=\"fill: #1f77b4; stroke: #1f77b4\"/>\n     <use xlink:href=\"#m336d3aff15\" x=\"164.169984\" y=\"82.320921\" style=\"fill: #1f77b4; stroke: #1f77b4\"/>\n     <use xlink:href=\"#m336d3aff15\" x=\"130.75857\" y=\"75.224207\" style=\"fill: #1f77b4; stroke: #1f77b4\"/>\n     <use xlink:href=\"#m336d3aff15\" x=\"119.98409\" y=\"44.540571\" style=\"fill: #1f77b4; stroke: #1f77b4\"/>\n     <use xlink:href=\"#m336d3aff15\" x=\"132.300583\" y=\"57.981044\" style=\"fill: #1f77b4; stroke: #1f77b4\"/>\n     <use xlink:href=\"#m336d3aff15\" x=\"83.034845\" y=\"34.85686\" style=\"fill: #1f77b4; stroke: #1f77b4\"/>\n     <use xlink:href=\"#m336d3aff15\" x=\"176.04017\" y=\"106.306536\" style=\"fill: #1f77b4; stroke: #1f77b4\"/>\n     <use xlink:href=\"#m336d3aff15\" x=\"154.725021\" y=\"71.138009\" style=\"fill: #1f77b4; stroke: #1f77b4\"/>\n     <use xlink:href=\"#m336d3aff15\" x=\"184.690423\" y=\"125.729951\" style=\"fill: #1f77b4; stroke: #1f77b4\"/>\n     <use xlink:href=\"#m336d3aff15\" x=\"133.802073\" y=\"79.599992\" style=\"fill: #1f77b4; stroke: #1f77b4\"/>\n     <use xlink:href=\"#m336d3aff15\" x=\"158.60238\" y=\"99.419751\" style=\"fill: #1f77b4; stroke: #1f77b4\"/>\n     <use xlink:href=\"#m336d3aff15\" x=\"156.2865\" y=\"87.438474\" style=\"fill: #1f77b4; stroke: #1f77b4\"/>\n     <use xlink:href=\"#m336d3aff15\" x=\"136.167644\" y=\"84.189003\" style=\"fill: #1f77b4; stroke: #1f77b4\"/>\n     <use xlink:href=\"#m336d3aff15\" x=\"99.10213\" y=\"45.879356\" style=\"fill: #1f77b4; stroke: #1f77b4\"/>\n     <use xlink:href=\"#m336d3aff15\" x=\"169.70391\" y=\"93.441357\" style=\"fill: #1f77b4; stroke: #1f77b4\"/>\n     <use xlink:href=\"#m336d3aff15\" x=\"114.259012\" y=\"55.443034\" style=\"fill: #1f77b4; stroke: #1f77b4\"/>\n     <use xlink:href=\"#m336d3aff15\" x=\"165.580629\" y=\"102.334063\" style=\"fill: #1f77b4; stroke: #1f77b4\"/>\n     <use xlink:href=\"#m336d3aff15\" x=\"142.495413\" y=\"85.153269\" style=\"fill: #1f77b4; stroke: #1f77b4\"/>\n     <use xlink:href=\"#m336d3aff15\" x=\"135.81524\" y=\"78.624376\" style=\"fill: #1f77b4; stroke: #1f77b4\"/>\n     <use xlink:href=\"#m336d3aff15\" x=\"105.482897\" y=\"69.583891\" style=\"fill: #1f77b4; stroke: #1f77b4\"/>\n     <use xlink:href=\"#m336d3aff15\" x=\"118.94777\" y=\"52.591193\" style=\"fill: #1f77b4; stroke: #1f77b4\"/>\n     <use xlink:href=\"#m336d3aff15\" x=\"120.020001\" y=\"60.093412\" style=\"fill: #1f77b4; stroke: #1f77b4\"/>\n     <use xlink:href=\"#m336d3aff15\" x=\"134.138178\" y=\"87.837792\" style=\"fill: #1f77b4; stroke: #1f77b4\"/>\n     <use xlink:href=\"#m336d3aff15\" x=\"145.178233\" y=\"59.521973\" style=\"fill: #1f77b4; stroke: #1f77b4\"/>\n     <use xlink:href=\"#m336d3aff15\" x=\"101.052062\" y=\"48.507613\" style=\"fill: #1f77b4; stroke: #1f77b4\"/>\n     <use xlink:href=\"#m336d3aff15\" x=\"117.750867\" y=\"72.074916\" style=\"fill: #1f77b4; stroke: #1f77b4\"/>\n     <use xlink:href=\"#m336d3aff15\" x=\"118.560984\" y=\"79.710498\" style=\"fill: #1f77b4; stroke: #1f77b4\"/>\n     <use xlink:href=\"#m336d3aff15\" x=\"100.650134\" y=\"36.475839\" style=\"fill: #1f77b4; stroke: #1f77b4\"/>\n     <use xlink:href=\"#m336d3aff15\" x=\"95.889552\" y=\"38.30998\" style=\"fill: #1f77b4; stroke: #1f77b4\"/>\n     <use xlink:href=\"#m336d3aff15\" x=\"109.912805\" y=\"24.79718\" style=\"fill: #1f77b4; stroke: #1f77b4\"/>\n     <use xlink:href=\"#m336d3aff15\" x=\"127.202684\" y=\"50.738648\" style=\"fill: #1f77b4; stroke: #1f77b4\"/>\n     <use xlink:href=\"#m336d3aff15\" x=\"82.297827\" y=\"36.409995\" style=\"fill: #1f77b4; stroke: #1f77b4\"/>\n     <use xlink:href=\"#m336d3aff15\" x=\"119.229968\" y=\"69.177122\" style=\"fill: #1f77b4; stroke: #1f77b4\"/>\n     <use xlink:href=\"#m336d3aff15\" x=\"117.129522\" y=\"76.89617\" style=\"fill: #1f77b4; stroke: #1f77b4\"/>\n     <use xlink:href=\"#m336d3aff15\" x=\"134.597966\" y=\"72.669366\" style=\"fill: #1f77b4; stroke: #1f77b4\"/>\n     <use xlink:href=\"#m336d3aff15\" x=\"138.107537\" y=\"71.338139\" style=\"fill: #1f77b4; stroke: #1f77b4\"/>\n     <use xlink:href=\"#m336d3aff15\" x=\"115.892659\" y=\"63.838294\" style=\"fill: #1f77b4; stroke: #1f77b4\"/>\n     <use xlink:href=\"#m336d3aff15\" x=\"152.472471\" y=\"72.570343\" style=\"fill: #1f77b4; stroke: #1f77b4\"/>\n     <use xlink:href=\"#m336d3aff15\" x=\"108.298887\" y=\"54.714437\" style=\"fill: #1f77b4; stroke: #1f77b4\"/>\n     <use xlink:href=\"#m336d3aff15\" x=\"156.96231\" y=\"80.339693\" style=\"fill: #1f77b4; stroke: #1f77b4\"/>\n     <use xlink:href=\"#m336d3aff15\" x=\"142.329194\" y=\"91.856339\" style=\"fill: #1f77b4; stroke: #1f77b4\"/>\n     <use xlink:href=\"#m336d3aff15\" x=\"164.605824\" y=\"93.151789\" style=\"fill: #1f77b4; stroke: #1f77b4\"/>\n     <use xlink:href=\"#m336d3aff15\" x=\"158.291288\" y=\"78.351761\" style=\"fill: #1f77b4; stroke: #1f77b4\"/>\n     <use xlink:href=\"#m336d3aff15\" x=\"141.734801\" y=\"89.398213\" style=\"fill: #1f77b4; stroke: #1f77b4\"/>\n     <use xlink:href=\"#m336d3aff15\" x=\"92.375095\" y=\"51.188863\" style=\"fill: #1f77b4; stroke: #1f77b4\"/>\n     <use xlink:href=\"#m336d3aff15\" x=\"62.732247\" y=\"36.185525\" style=\"fill: #1f77b4; stroke: #1f77b4\"/>\n     <use xlink:href=\"#m336d3aff15\" x=\"142.684337\" y=\"74.459354\" style=\"fill: #1f77b4; stroke: #1f77b4\"/>\n     <use xlink:href=\"#m336d3aff15\" x=\"112.338806\" y=\"73.039017\" style=\"fill: #1f77b4; stroke: #1f77b4\"/>\n     <use xlink:href=\"#m336d3aff15\" x=\"134.616868\" y=\"61.684057\" style=\"fill: #1f77b4; stroke: #1f77b4\"/>\n     <use xlink:href=\"#m336d3aff15\" x=\"164.771914\" y=\"84.87216\" style=\"fill: #1f77b4; stroke: #1f77b4\"/>\n     <use xlink:href=\"#m336d3aff15\" x=\"128.523274\" y=\"81.932299\" style=\"fill: #1f77b4; stroke: #1f77b4\"/>\n     <use xlink:href=\"#m336d3aff15\" x=\"128.558305\" y=\"84.451628\" style=\"fill: #1f77b4; stroke: #1f77b4\"/>\n     <use xlink:href=\"#m336d3aff15\" x=\"135.872301\" y=\"78.929927\" style=\"fill: #1f77b4; stroke: #1f77b4\"/>\n     <use xlink:href=\"#m336d3aff15\" x=\"120.963839\" y=\"55.995526\" style=\"fill: #1f77b4; stroke: #1f77b4\"/>\n     <use xlink:href=\"#m336d3aff15\" x=\"173.232668\" y=\"97.398396\" style=\"fill: #1f77b4; stroke: #1f77b4\"/>\n     <use xlink:href=\"#m336d3aff15\" x=\"141.997335\" y=\"86.044867\" style=\"fill: #1f77b4; stroke: #1f77b4\"/>\n     <use xlink:href=\"#m336d3aff15\" x=\"151.431245\" y=\"82.269658\" style=\"fill: #1f77b4; stroke: #1f77b4\"/>\n     <use xlink:href=\"#m336d3aff15\" x=\"159.360232\" y=\"79.34146\" style=\"fill: #1f77b4; stroke: #1f77b4\"/>\n     <use xlink:href=\"#m336d3aff15\" x=\"141.361673\" y=\"77.136599\" style=\"fill: #1f77b4; stroke: #1f77b4\"/>\n     <use xlink:href=\"#m336d3aff15\" x=\"92.201943\" y=\"39.262125\" style=\"fill: #1f77b4; stroke: #1f77b4\"/>\n     <use xlink:href=\"#m336d3aff15\" x=\"128.961597\" y=\"64.693189\" style=\"fill: #1f77b4; stroke: #1f77b4\"/>\n     <use xlink:href=\"#m336d3aff15\" x=\"117.554712\" y=\"61.020157\" style=\"fill: #1f77b4; stroke: #1f77b4\"/>\n     <use xlink:href=\"#m336d3aff15\" x=\"123.205496\" y=\"64.287122\" style=\"fill: #1f77b4; stroke: #1f77b4\"/>\n     <use xlink:href=\"#m336d3aff15\" x=\"154.369588\" y=\"89.47297\" style=\"fill: #1f77b4; stroke: #1f77b4\"/>\n     <use xlink:href=\"#m336d3aff15\" x=\"117.139129\" y=\"62.834317\" style=\"fill: #1f77b4; stroke: #1f77b4\"/>\n     <use xlink:href=\"#m336d3aff15\" x=\"109.924418\" y=\"45.029005\" style=\"fill: #1f77b4; stroke: #1f77b4\"/>\n     <use xlink:href=\"#m336d3aff15\" x=\"161.241744\" y=\"100.76768\" style=\"fill: #1f77b4; stroke: #1f77b4\"/>\n     <use xlink:href=\"#m336d3aff15\" x=\"141.869441\" y=\"84.853913\" style=\"fill: #1f77b4; stroke: #1f77b4\"/>\n     <use xlink:href=\"#m336d3aff15\" x=\"121.708979\" y=\"56.934753\" style=\"fill: #1f77b4; stroke: #1f77b4\"/>\n     <use xlink:href=\"#m336d3aff15\" x=\"172.6218\" y=\"85.223695\" style=\"fill: #1f77b4; stroke: #1f77b4\"/>\n     <use xlink:href=\"#m336d3aff15\" x=\"165.174539\" y=\"87.802182\" style=\"fill: #1f77b4; stroke: #1f77b4\"/>\n     <use xlink:href=\"#m336d3aff15\" x=\"129.53145\" y=\"65.265861\" style=\"fill: #1f77b4; stroke: #1f77b4\"/>\n     <use xlink:href=\"#m336d3aff15\" x=\"176.66856\" y=\"97.029221\" style=\"fill: #1f77b4; stroke: #1f77b4\"/>\n     <use xlink:href=\"#m336d3aff15\" x=\"101.347932\" y=\"51.788029\" style=\"fill: #1f77b4; stroke: #1f77b4\"/>\n     <use xlink:href=\"#m336d3aff15\" x=\"150.736426\" y=\"84.517665\" style=\"fill: #1f77b4; stroke: #1f77b4\"/>\n     <use xlink:href=\"#m336d3aff15\" x=\"91.979283\" y=\"51.523448\" style=\"fill: #1f77b4; stroke: #1f77b4\"/>\n     <use xlink:href=\"#m336d3aff15\" x=\"104.621726\" y=\"56.576491\" style=\"fill: #1f77b4; stroke: #1f77b4\"/>\n     <use xlink:href=\"#m336d3aff15\" x=\"129.210916\" y=\"82.564604\" style=\"fill: #1f77b4; stroke: #1f77b4\"/>\n     <use xlink:href=\"#m336d3aff15\" x=\"129.928402\" y=\"55.326525\" style=\"fill: #1f77b4; stroke: #1f77b4\"/>\n     <use xlink:href=\"#m336d3aff15\" x=\"109.23786\" y=\"61.706911\" style=\"fill: #1f77b4; stroke: #1f77b4\"/>\n     <use xlink:href=\"#m336d3aff15\" x=\"114.633549\" y=\"60.092133\" style=\"fill: #1f77b4; stroke: #1f77b4\"/>\n     <use xlink:href=\"#m336d3aff15\" x=\"126.258501\" y=\"57.062416\" style=\"fill: #1f77b4; stroke: #1f77b4\"/>\n     <use xlink:href=\"#m336d3aff15\" x=\"112.818868\" y=\"64.159345\" style=\"fill: #1f77b4; stroke: #1f77b4\"/>\n     <use xlink:href=\"#m336d3aff15\" x=\"153.224927\" y=\"62.271359\" style=\"fill: #1f77b4; stroke: #1f77b4\"/>\n     <use xlink:href=\"#m336d3aff15\" x=\"129.984208\" y=\"64.06828\" style=\"fill: #1f77b4; stroke: #1f77b4\"/>\n     <use xlink:href=\"#m336d3aff15\" x=\"143.708564\" y=\"72.182536\" style=\"fill: #1f77b4; stroke: #1f77b4\"/>\n     <use xlink:href=\"#m336d3aff15\" x=\"83.843847\" y=\"36.871659\" style=\"fill: #1f77b4; stroke: #1f77b4\"/>\n     <use xlink:href=\"#m336d3aff15\" x=\"153.713595\" y=\"97.500432\" style=\"fill: #1f77b4; stroke: #1f77b4\"/>\n     <use xlink:href=\"#m336d3aff15\" x=\"173.647539\" y=\"115.430704\" style=\"fill: #1f77b4; stroke: #1f77b4\"/>\n     <use xlink:href=\"#m336d3aff15\" x=\"113.676884\" y=\"55.912188\" style=\"fill: #1f77b4; stroke: #1f77b4\"/>\n     <use xlink:href=\"#m336d3aff15\" x=\"101.444925\" y=\"47.699004\" style=\"fill: #1f77b4; stroke: #1f77b4\"/>\n     <use xlink:href=\"#m336d3aff15\" x=\"117.734333\" y=\"41.344524\" style=\"fill: #1f77b4; stroke: #1f77b4\"/>\n     <use xlink:href=\"#m336d3aff15\" x=\"127.876622\" y=\"60.463675\" style=\"fill: #1f77b4; stroke: #1f77b4\"/>\n     <use xlink:href=\"#m336d3aff15\" x=\"111.828081\" y=\"73.674245\" style=\"fill: #1f77b4; stroke: #1f77b4\"/>\n     <use xlink:href=\"#m336d3aff15\" x=\"139.641644\" y=\"71.605621\" style=\"fill: #1f77b4; stroke: #1f77b4\"/>\n     <use xlink:href=\"#m336d3aff15\" x=\"221.678018\" y=\"136.922727\" style=\"fill: #1f77b4; stroke: #1f77b4\"/>\n     <use xlink:href=\"#m336d3aff15\" x=\"132.497923\" y=\"67.304288\" style=\"fill: #1f77b4; stroke: #1f77b4\"/>\n     <use xlink:href=\"#m336d3aff15\" x=\"120.600202\" y=\"65.988632\" style=\"fill: #1f77b4; stroke: #1f77b4\"/>\n     <use xlink:href=\"#m336d3aff15\" x=\"113.384905\" y=\"72.926007\" style=\"fill: #1f77b4; stroke: #1f77b4\"/>\n     <use xlink:href=\"#m336d3aff15\" x=\"123.252802\" y=\"56.309834\" style=\"fill: #1f77b4; stroke: #1f77b4\"/>\n     <use xlink:href=\"#m336d3aff15\" x=\"122.033797\" y=\"70.632228\" style=\"fill: #1f77b4; stroke: #1f77b4\"/>\n     <use xlink:href=\"#m336d3aff15\" x=\"111.631517\" y=\"59.518013\" style=\"fill: #1f77b4; stroke: #1f77b4\"/>\n     <use xlink:href=\"#m336d3aff15\" x=\"156.707094\" y=\"84.703513\" style=\"fill: #1f77b4; stroke: #1f77b4\"/>\n     <use xlink:href=\"#m336d3aff15\" x=\"150.003296\" y=\"72.952247\" style=\"fill: #1f77b4; stroke: #1f77b4\"/>\n     <use xlink:href=\"#m336d3aff15\" x=\"157.477121\" y=\"92.371147\" style=\"fill: #1f77b4; stroke: #1f77b4\"/>\n     <use xlink:href=\"#m336d3aff15\" x=\"78.014456\" y=\"23.214566\" style=\"fill: #1f77b4; stroke: #1f77b4\"/>\n     <use xlink:href=\"#m336d3aff15\" x=\"114.456767\" y=\"47.286187\" style=\"fill: #1f77b4; stroke: #1f77b4\"/>\n     <use xlink:href=\"#m336d3aff15\" x=\"110.756068\" y=\"52.235993\" style=\"fill: #1f77b4; stroke: #1f77b4\"/>\n     <use xlink:href=\"#m336d3aff15\" x=\"115.780558\" y=\"65.212748\" style=\"fill: #1f77b4; stroke: #1f77b4\"/>\n     <use xlink:href=\"#m336d3aff15\" x=\"142.908341\" y=\"93.568942\" style=\"fill: #1f77b4; stroke: #1f77b4\"/>\n     <use xlink:href=\"#m336d3aff15\" x=\"91.293863\" y=\"56.017304\" style=\"fill: #1f77b4; stroke: #1f77b4\"/>\n     <use xlink:href=\"#m336d3aff15\" x=\"118.950471\" y=\"69.174352\" style=\"fill: #1f77b4; stroke: #1f77b4\"/>\n     <use xlink:href=\"#m336d3aff15\" x=\"94.85157\" y=\"46.530351\" style=\"fill: #1f77b4; stroke: #1f77b4\"/>\n     <use xlink:href=\"#m336d3aff15\" x=\"132.687662\" y=\"69.506326\" style=\"fill: #1f77b4; stroke: #1f77b4\"/>\n     <use xlink:href=\"#m336d3aff15\" x=\"102.383669\" y=\"47.367491\" style=\"fill: #1f77b4; stroke: #1f77b4\"/>\n     <use xlink:href=\"#m336d3aff15\" x=\"100.15566\" y=\"50.91392\" style=\"fill: #1f77b4; stroke: #1f77b4\"/>\n     <use xlink:href=\"#m336d3aff15\" x=\"149.430422\" y=\"83.624074\" style=\"fill: #1f77b4; stroke: #1f77b4\"/>\n     <use xlink:href=\"#m336d3aff15\" x=\"155.210718\" y=\"69.507446\" style=\"fill: #1f77b4; stroke: #1f77b4\"/>\n     <use xlink:href=\"#m336d3aff15\" x=\"141.492157\" y=\"92.836971\" style=\"fill: #1f77b4; stroke: #1f77b4\"/>\n     <use xlink:href=\"#m336d3aff15\" x=\"125.836789\" y=\"68.487591\" style=\"fill: #1f77b4; stroke: #1f77b4\"/>\n     <use xlink:href=\"#m336d3aff15\" x=\"162.838873\" y=\"91.24205\" style=\"fill: #1f77b4; stroke: #1f77b4\"/>\n     <use xlink:href=\"#m336d3aff15\" x=\"110.582414\" y=\"47.275502\" style=\"fill: #1f77b4; stroke: #1f77b4\"/>\n     <use xlink:href=\"#m336d3aff15\" x=\"154.78877\" y=\"90.371877\" style=\"fill: #1f77b4; stroke: #1f77b4\"/>\n     <use xlink:href=\"#m336d3aff15\" x=\"101.985606\" y=\"60.675987\" style=\"fill: #1f77b4; stroke: #1f77b4\"/>\n     <use xlink:href=\"#m336d3aff15\" x=\"161.249557\" y=\"95.616667\" style=\"fill: #1f77b4; stroke: #1f77b4\"/>\n     <use xlink:href=\"#m336d3aff15\" x=\"127.790974\" y=\"61.173498\" style=\"fill: #1f77b4; stroke: #1f77b4\"/>\n     <use xlink:href=\"#m336d3aff15\" x=\"107.75316\" y=\"55.755502\" style=\"fill: #1f77b4; stroke: #1f77b4\"/>\n     <use xlink:href=\"#m336d3aff15\" x=\"83.075173\" y=\"55.464297\" style=\"fill: #1f77b4; stroke: #1f77b4\"/>\n     <use xlink:href=\"#m336d3aff15\" x=\"112.459054\" y=\"56.854742\" style=\"fill: #1f77b4; stroke: #1f77b4\"/>\n     <use xlink:href=\"#m336d3aff15\" x=\"55.882357\" y=\"23.800452\" style=\"fill: #1f77b4; stroke: #1f77b4\"/>\n     <use xlink:href=\"#m336d3aff15\" x=\"106.72799\" y=\"58.081643\" style=\"fill: #1f77b4; stroke: #1f77b4\"/>\n     <use xlink:href=\"#m336d3aff15\" x=\"110.264167\" y=\"46.730792\" style=\"fill: #1f77b4; stroke: #1f77b4\"/>\n     <use xlink:href=\"#m336d3aff15\" x=\"167.469508\" y=\"88.771218\" style=\"fill: #1f77b4; stroke: #1f77b4\"/>\n     <use xlink:href=\"#m336d3aff15\" x=\"117.117542\" y=\"67.677144\" style=\"fill: #1f77b4; stroke: #1f77b4\"/>\n     <use xlink:href=\"#m336d3aff15\" x=\"130.501579\" y=\"64.552784\" style=\"fill: #1f77b4; stroke: #1f77b4\"/>\n     <use xlink:href=\"#m336d3aff15\" x=\"174.109818\" y=\"110.556763\" style=\"fill: #1f77b4; stroke: #1f77b4\"/>\n     <use xlink:href=\"#m336d3aff15\" x=\"125.985473\" y=\"85.5322\" style=\"fill: #1f77b4; stroke: #1f77b4\"/>\n     <use xlink:href=\"#m336d3aff15\" x=\"141.880712\" y=\"72.099117\" style=\"fill: #1f77b4; stroke: #1f77b4\"/>\n     <use xlink:href=\"#m336d3aff15\" x=\"158.859687\" y=\"92.157906\" style=\"fill: #1f77b4; stroke: #1f77b4\"/>\n     <use xlink:href=\"#m336d3aff15\" x=\"134.367867\" y=\"71.694346\" style=\"fill: #1f77b4; stroke: #1f77b4\"/>\n     <use xlink:href=\"#m336d3aff15\" x=\"133.961982\" y=\"77.51585\" style=\"fill: #1f77b4; stroke: #1f77b4\"/>\n     <use xlink:href=\"#m336d3aff15\" x=\"171.746315\" y=\"86.27802\" style=\"fill: #1f77b4; stroke: #1f77b4\"/>\n     <use xlink:href=\"#m336d3aff15\" x=\"121.404174\" y=\"47.208596\" style=\"fill: #1f77b4; stroke: #1f77b4\"/>\n     <use xlink:href=\"#m336d3aff15\" x=\"168.144231\" y=\"95.181024\" style=\"fill: #1f77b4; stroke: #1f77b4\"/>\n     <use xlink:href=\"#m336d3aff15\" x=\"143.965935\" y=\"70.893296\" style=\"fill: #1f77b4; stroke: #1f77b4\"/>\n     <use xlink:href=\"#m336d3aff15\" x=\"88.788771\" y=\"61.406585\" style=\"fill: #1f77b4; stroke: #1f77b4\"/>\n     <use xlink:href=\"#m336d3aff15\" x=\"156.538019\" y=\"91.144824\" style=\"fill: #1f77b4; stroke: #1f77b4\"/>\n     <use xlink:href=\"#m336d3aff15\" x=\"136.948402\" y=\"71.826002\" style=\"fill: #1f77b4; stroke: #1f77b4\"/>\n     <use xlink:href=\"#m336d3aff15\" x=\"81.519152\" y=\"32.380817\" style=\"fill: #1f77b4; stroke: #1f77b4\"/>\n     <use xlink:href=\"#m336d3aff15\" x=\"161.166141\" y=\"95.03549\" style=\"fill: #1f77b4; stroke: #1f77b4\"/>\n     <use xlink:href=\"#m336d3aff15\" x=\"136.502727\" y=\"49.940672\" style=\"fill: #1f77b4; stroke: #1f77b4\"/>\n     <use xlink:href=\"#m336d3aff15\" x=\"114.546503\" y=\"77.495532\" style=\"fill: #1f77b4; stroke: #1f77b4\"/>\n     <use xlink:href=\"#m336d3aff15\" x=\"146.032932\" y=\"88.180438\" style=\"fill: #1f77b4; stroke: #1f77b4\"/>\n     <use xlink:href=\"#m336d3aff15\" x=\"159.659838\" y=\"95.022208\" style=\"fill: #1f77b4; stroke: #1f77b4\"/>\n     <use xlink:href=\"#m336d3aff15\" x=\"76.654339\" y=\"47.561524\" style=\"fill: #1f77b4; stroke: #1f77b4\"/>\n     <use xlink:href=\"#m336d3aff15\" x=\"153.836357\" y=\"101.716707\" style=\"fill: #1f77b4; stroke: #1f77b4\"/>\n     <use xlink:href=\"#m336d3aff15\" x=\"109.18314\" y=\"49.627332\" style=\"fill: #1f77b4; stroke: #1f77b4\"/>\n     <use xlink:href=\"#m336d3aff15\" x=\"90.962428\" y=\"44.627712\" style=\"fill: #1f77b4; stroke: #1f77b4\"/>\n     <use xlink:href=\"#m336d3aff15\" x=\"164.595112\" y=\"97.680188\" style=\"fill: #1f77b4; stroke: #1f77b4\"/>\n     <use xlink:href=\"#m336d3aff15\" x=\"139.092894\" y=\"79.242475\" style=\"fill: #1f77b4; stroke: #1f77b4\"/>\n     <use xlink:href=\"#m336d3aff15\" x=\"119.456403\" y=\"64.725984\" style=\"fill: #1f77b4; stroke: #1f77b4\"/>\n     <use xlink:href=\"#m336d3aff15\" x=\"125.326063\" y=\"65.078108\" style=\"fill: #1f77b4; stroke: #1f77b4\"/>\n     <use xlink:href=\"#m336d3aff15\" x=\"95.156221\" y=\"55.228437\" style=\"fill: #1f77b4; stroke: #1f77b4\"/>\n     <use xlink:href=\"#m336d3aff15\" x=\"122.647692\" y=\"67.626785\" style=\"fill: #1f77b4; stroke: #1f77b4\"/>\n     <use xlink:href=\"#m336d3aff15\" x=\"114.114514\" y=\"64.621016\" style=\"fill: #1f77b4; stroke: #1f77b4\"/>\n     <use xlink:href=\"#m336d3aff15\" x=\"148.66705\" y=\"93.970872\" style=\"fill: #1f77b4; stroke: #1f77b4\"/>\n     <use xlink:href=\"#m336d3aff15\" x=\"117.407048\" y=\"74.651006\" style=\"fill: #1f77b4; stroke: #1f77b4\"/>\n     <use xlink:href=\"#m336d3aff15\" x=\"163.029996\" y=\"77.67878\" style=\"fill: #1f77b4; stroke: #1f77b4\"/>\n     <use xlink:href=\"#m336d3aff15\" x=\"111.397519\" y=\"43.829651\" style=\"fill: #1f77b4; stroke: #1f77b4\"/>\n     <use xlink:href=\"#m336d3aff15\" x=\"130.012477\" y=\"83.148\" style=\"fill: #1f77b4; stroke: #1f77b4\"/>\n     <use xlink:href=\"#m336d3aff15\" x=\"127.84147\" y=\"81.078299\" style=\"fill: #1f77b4; stroke: #1f77b4\"/>\n     <use xlink:href=\"#m336d3aff15\" x=\"111.953145\" y=\"66.26113\" style=\"fill: #1f77b4; stroke: #1f77b4\"/>\n     <use xlink:href=\"#m336d3aff15\" x=\"108.818202\" y=\"54.884893\" style=\"fill: #1f77b4; stroke: #1f77b4\"/>\n     <use xlink:href=\"#m336d3aff15\" x=\"90.34915\" y=\"45.047397\" style=\"fill: #1f77b4; stroke: #1f77b4\"/>\n     <use xlink:href=\"#m336d3aff15\" x=\"106.563138\" y=\"57.94273\" style=\"fill: #1f77b4; stroke: #1f77b4\"/>\n     <use xlink:href=\"#m336d3aff15\" x=\"79.226012\" y=\"58.597991\" style=\"fill: #1f77b4; stroke: #1f77b4\"/>\n     <use xlink:href=\"#m336d3aff15\" x=\"135.172916\" y=\"69.663258\" style=\"fill: #1f77b4; stroke: #1f77b4\"/>\n     <use xlink:href=\"#m336d3aff15\" x=\"116.361229\" y=\"65.402732\" style=\"fill: #1f77b4; stroke: #1f77b4\"/>\n     <use xlink:href=\"#m336d3aff15\" x=\"136.318119\" y=\"73.327122\" style=\"fill: #1f77b4; stroke: #1f77b4\"/>\n     <use xlink:href=\"#m336d3aff15\" x=\"133.496813\" y=\"61.654243\" style=\"fill: #1f77b4; stroke: #1f77b4\"/>\n     <use xlink:href=\"#m336d3aff15\" x=\"115.663804\" y=\"72.142438\" style=\"fill: #1f77b4; stroke: #1f77b4\"/>\n     <use xlink:href=\"#m336d3aff15\" x=\"141.682673\" y=\"81.319608\" style=\"fill: #1f77b4; stroke: #1f77b4\"/>\n     <use xlink:href=\"#m336d3aff15\" x=\"145.583564\" y=\"82.189897\" style=\"fill: #1f77b4; stroke: #1f77b4\"/>\n     <use xlink:href=\"#m336d3aff15\" x=\"154.123232\" y=\"97.446296\" style=\"fill: #1f77b4; stroke: #1f77b4\"/>\n     <use xlink:href=\"#m336d3aff15\" x=\"107.963595\" y=\"56.078535\" style=\"fill: #1f77b4; stroke: #1f77b4\"/>\n     <use xlink:href=\"#m336d3aff15\" x=\"123.236385\" y=\"77.441967\" style=\"fill: #1f77b4; stroke: #1f77b4\"/>\n     <use xlink:href=\"#m336d3aff15\" x=\"61.091964\" y=\"23.210644\" style=\"fill: #1f77b4; stroke: #1f77b4\"/>\n     <use xlink:href=\"#m336d3aff15\" x=\"123.29818\" y=\"71.070163\" style=\"fill: #1f77b4; stroke: #1f77b4\"/>\n     <use xlink:href=\"#m336d3aff15\" x=\"130.821384\" y=\"43.928399\" style=\"fill: #1f77b4; stroke: #1f77b4\"/>\n     <use xlink:href=\"#m336d3aff15\" x=\"156.579558\" y=\"87.009775\" style=\"fill: #1f77b4; stroke: #1f77b4\"/>\n     <use xlink:href=\"#m336d3aff15\" x=\"117.329971\" y=\"55.32541\" style=\"fill: #1f77b4; stroke: #1f77b4\"/>\n     <use xlink:href=\"#m336d3aff15\" x=\"172.380374\" y=\"89.967474\" style=\"fill: #1f77b4; stroke: #1f77b4\"/>\n     <use xlink:href=\"#m336d3aff15\" x=\"193.07177\" y=\"97.224473\" style=\"fill: #1f77b4; stroke: #1f77b4\"/>\n     <use xlink:href=\"#m336d3aff15\" x=\"121.635425\" y=\"53.576142\" style=\"fill: #1f77b4; stroke: #1f77b4\"/>\n     <use xlink:href=\"#m336d3aff15\" x=\"111.310345\" y=\"53.323461\" style=\"fill: #1f77b4; stroke: #1f77b4\"/>\n     <use xlink:href=\"#m336d3aff15\" x=\"120.463004\" y=\"74.620816\" style=\"fill: #1f77b4; stroke: #1f77b4\"/>\n     <use xlink:href=\"#m336d3aff15\" x=\"119.424455\" y=\"54.93834\" style=\"fill: #1f77b4; stroke: #1f77b4\"/>\n     <use xlink:href=\"#m336d3aff15\" x=\"122.816718\" y=\"65.038578\" style=\"fill: #1f77b4; stroke: #1f77b4\"/>\n     <use xlink:href=\"#m336d3aff15\" x=\"172.463781\" y=\"110.320881\" style=\"fill: #1f77b4; stroke: #1f77b4\"/>\n     <use xlink:href=\"#m336d3aff15\" x=\"139.809493\" y=\"79.343948\" style=\"fill: #1f77b4; stroke: #1f77b4\"/>\n     <use xlink:href=\"#m336d3aff15\" x=\"125.757075\" y=\"71.091327\" style=\"fill: #1f77b4; stroke: #1f77b4\"/>\n     <use xlink:href=\"#m336d3aff15\" x=\"149.304372\" y=\"78.325284\" style=\"fill: #1f77b4; stroke: #1f77b4\"/>\n     <use xlink:href=\"#m336d3aff15\" x=\"132.429601\" y=\"66.040208\" style=\"fill: #1f77b4; stroke: #1f77b4\"/>\n     <use xlink:href=\"#m336d3aff15\" x=\"136.738523\" y=\"71.848614\" style=\"fill: #1f77b4; stroke: #1f77b4\"/>\n     <use xlink:href=\"#m336d3aff15\" x=\"121.58864\" y=\"67.463316\" style=\"fill: #1f77b4; stroke: #1f77b4\"/>\n     <use xlink:href=\"#m336d3aff15\" x=\"145.309734\" y=\"61.342871\" style=\"fill: #1f77b4; stroke: #1f77b4\"/>\n     <use xlink:href=\"#m336d3aff15\" x=\"95.375662\" y=\"55.424279\" style=\"fill: #1f77b4; stroke: #1f77b4\"/>\n     <use xlink:href=\"#m336d3aff15\" x=\"162.348027\" y=\"76.243569\" style=\"fill: #1f77b4; stroke: #1f77b4\"/>\n     <use xlink:href=\"#m336d3aff15\" x=\"108.334153\" y=\"61.627607\" style=\"fill: #1f77b4; stroke: #1f77b4\"/>\n     <use xlink:href=\"#m336d3aff15\" x=\"168.677836\" y=\"94.554006\" style=\"fill: #1f77b4; stroke: #1f77b4\"/>\n     <use xlink:href=\"#m336d3aff15\" x=\"112.968114\" y=\"63.741056\" style=\"fill: #1f77b4; stroke: #1f77b4\"/>\n     <use xlink:href=\"#m336d3aff15\" x=\"82.42469\" y=\"32.908976\" style=\"fill: #1f77b4; stroke: #1f77b4\"/>\n     <use xlink:href=\"#m336d3aff15\" x=\"142.33276\" y=\"98.364558\" style=\"fill: #1f77b4; stroke: #1f77b4\"/>\n     <use xlink:href=\"#m336d3aff15\" x=\"92.429182\" y=\"43.232574\" style=\"fill: #1f77b4; stroke: #1f77b4\"/>\n     <use xlink:href=\"#m336d3aff15\" x=\"115.685935\" y=\"62.315714\" style=\"fill: #1f77b4; stroke: #1f77b4\"/>\n     <use xlink:href=\"#m336d3aff15\" x=\"110.454308\" y=\"69.261132\" style=\"fill: #1f77b4; stroke: #1f77b4\"/>\n     <use xlink:href=\"#m336d3aff15\" x=\"153.76175\" y=\"64.915632\" style=\"fill: #1f77b4; stroke: #1f77b4\"/>\n     <use xlink:href=\"#m336d3aff15\" x=\"126.079253\" y=\"81.455976\" style=\"fill: #1f77b4; stroke: #1f77b4\"/>\n     <use xlink:href=\"#m336d3aff15\" x=\"139.80353\" y=\"65.258234\" style=\"fill: #1f77b4; stroke: #1f77b4\"/>\n     <use xlink:href=\"#m336d3aff15\" x=\"132.507885\" y=\"74.539095\" style=\"fill: #1f77b4; stroke: #1f77b4\"/>\n     <use xlink:href=\"#m336d3aff15\" x=\"120.709413\" y=\"78.163109\" style=\"fill: #1f77b4; stroke: #1f77b4\"/>\n     <use xlink:href=\"#m336d3aff15\" x=\"135.74953\" y=\"83.684967\" style=\"fill: #1f77b4; stroke: #1f77b4\"/>\n     <use xlink:href=\"#m336d3aff15\" x=\"101.792865\" y=\"37.355422\" style=\"fill: #1f77b4; stroke: #1f77b4\"/>\n     <use xlink:href=\"#m336d3aff15\" x=\"143.967419\" y=\"77.583223\" style=\"fill: #1f77b4; stroke: #1f77b4\"/>\n     <use xlink:href=\"#m336d3aff15\" x=\"157.576638\" y=\"87.49175\" style=\"fill: #1f77b4; stroke: #1f77b4\"/>\n     <use xlink:href=\"#m336d3aff15\" x=\"86.253717\" y=\"41.217684\" style=\"fill: #1f77b4; stroke: #1f77b4\"/>\n     <use xlink:href=\"#m336d3aff15\" x=\"123.815199\" y=\"85.504897\" style=\"fill: #1f77b4; stroke: #1f77b4\"/>\n     <use xlink:href=\"#m336d3aff15\" x=\"95.104491\" y=\"66.51253\" style=\"fill: #1f77b4; stroke: #1f77b4\"/>\n     <use xlink:href=\"#m336d3aff15\" x=\"118.260764\" y=\"74.928661\" style=\"fill: #1f77b4; stroke: #1f77b4\"/>\n     <use xlink:href=\"#m336d3aff15\" x=\"126.350177\" y=\"72.263691\" style=\"fill: #1f77b4; stroke: #1f77b4\"/>\n     <use xlink:href=\"#m336d3aff15\" x=\"138.217929\" y=\"63.596519\" style=\"fill: #1f77b4; stroke: #1f77b4\"/>\n     <use xlink:href=\"#m336d3aff15\" x=\"121.761078\" y=\"59.784416\" style=\"fill: #1f77b4; stroke: #1f77b4\"/>\n     <use xlink:href=\"#m336d3aff15\" x=\"175.911306\" y=\"101.433592\" style=\"fill: #1f77b4; stroke: #1f77b4\"/>\n     <use xlink:href=\"#m336d3aff15\" x=\"102.472324\" y=\"41.261961\" style=\"fill: #1f77b4; stroke: #1f77b4\"/>\n     <use xlink:href=\"#m336d3aff15\" x=\"131.119572\" y=\"82.867505\" style=\"fill: #1f77b4; stroke: #1f77b4\"/>\n     <use xlink:href=\"#m336d3aff15\" x=\"94.612112\" y=\"42.184212\" style=\"fill: #1f77b4; stroke: #1f77b4\"/>\n     <use xlink:href=\"#m336d3aff15\" x=\"113.823687\" y=\"58.346134\" style=\"fill: #1f77b4; stroke: #1f77b4\"/>\n     <use xlink:href=\"#m336d3aff15\" x=\"101.555662\" y=\"65.246085\" style=\"fill: #1f77b4; stroke: #1f77b4\"/>\n     <use xlink:href=\"#m336d3aff15\" x=\"131.114098\" y=\"64.580786\" style=\"fill: #1f77b4; stroke: #1f77b4\"/>\n     <use xlink:href=\"#m336d3aff15\" x=\"130.537148\" y=\"52.487169\" style=\"fill: #1f77b4; stroke: #1f77b4\"/>\n     <use xlink:href=\"#m336d3aff15\" x=\"151.254957\" y=\"87.577933\" style=\"fill: #1f77b4; stroke: #1f77b4\"/>\n     <use xlink:href=\"#m336d3aff15\" x=\"147.981955\" y=\"80.947702\" style=\"fill: #1f77b4; stroke: #1f77b4\"/>\n     <use xlink:href=\"#m336d3aff15\" x=\"116.289995\" y=\"61.269338\" style=\"fill: #1f77b4; stroke: #1f77b4\"/>\n     <use xlink:href=\"#m336d3aff15\" x=\"75.266466\" y=\"47.70646\" style=\"fill: #1f77b4; stroke: #1f77b4\"/>\n     <use xlink:href=\"#m336d3aff15\" x=\"44.18196\" y=\"17.077241\" style=\"fill: #1f77b4; stroke: #1f77b4\"/>\n     <use xlink:href=\"#m336d3aff15\" x=\"151.464388\" y=\"74.959747\" style=\"fill: #1f77b4; stroke: #1f77b4\"/>\n     <use xlink:href=\"#m336d3aff15\" x=\"95.746802\" y=\"35.633254\" style=\"fill: #1f77b4; stroke: #1f77b4\"/>\n     <use xlink:href=\"#m336d3aff15\" x=\"126.094403\" y=\"60.425481\" style=\"fill: #1f77b4; stroke: #1f77b4\"/>\n     <use xlink:href=\"#m336d3aff15\" x=\"120.672575\" y=\"46.291078\" style=\"fill: #1f77b4; stroke: #1f77b4\"/>\n     <use xlink:href=\"#m336d3aff15\" x=\"74.313479\" y=\"29.292223\" style=\"fill: #1f77b4; stroke: #1f77b4\"/>\n     <use xlink:href=\"#m336d3aff15\" x=\"129.137626\" y=\"78.359412\" style=\"fill: #1f77b4; stroke: #1f77b4\"/>\n     <use xlink:href=\"#m336d3aff15\" x=\"156.239969\" y=\"75.197481\" style=\"fill: #1f77b4; stroke: #1f77b4\"/>\n     <use xlink:href=\"#m336d3aff15\" x=\"162.463225\" y=\"91.432418\" style=\"fill: #1f77b4; stroke: #1f77b4\"/>\n     <use xlink:href=\"#m336d3aff15\" x=\"145.983683\" y=\"80.866427\" style=\"fill: #1f77b4; stroke: #1f77b4\"/>\n     <use xlink:href=\"#m336d3aff15\" x=\"117.750691\" y=\"69.068008\" style=\"fill: #1f77b4; stroke: #1f77b4\"/>\n     <use xlink:href=\"#m336d3aff15\" x=\"130.868663\" y=\"70.825544\" style=\"fill: #1f77b4; stroke: #1f77b4\"/>\n     <use xlink:href=\"#m336d3aff15\" x=\"86.275065\" y=\"59.014005\" style=\"fill: #1f77b4; stroke: #1f77b4\"/>\n     <use xlink:href=\"#m336d3aff15\" x=\"128.593297\" y=\"70.761693\" style=\"fill: #1f77b4; stroke: #1f77b4\"/>\n     <use xlink:href=\"#m336d3aff15\" x=\"110.239186\" y=\"40.854161\" style=\"fill: #1f77b4; stroke: #1f77b4\"/>\n     <use xlink:href=\"#m336d3aff15\" x=\"154.524556\" y=\"79.165731\" style=\"fill: #1f77b4; stroke: #1f77b4\"/>\n     <use xlink:href=\"#m336d3aff15\" x=\"119.940158\" y=\"64.036917\" style=\"fill: #1f77b4; stroke: #1f77b4\"/>\n     <use xlink:href=\"#m336d3aff15\" x=\"183.870779\" y=\"105.757477\" style=\"fill: #1f77b4; stroke: #1f77b4\"/>\n     <use xlink:href=\"#m336d3aff15\" x=\"132.810411\" y=\"70.162542\" style=\"fill: #1f77b4; stroke: #1f77b4\"/>\n     <use xlink:href=\"#m336d3aff15\" x=\"121.1023\" y=\"66.509866\" style=\"fill: #1f77b4; stroke: #1f77b4\"/>\n     <use xlink:href=\"#m336d3aff15\" x=\"129.182713\" y=\"62.848393\" style=\"fill: #1f77b4; stroke: #1f77b4\"/>\n     <use xlink:href=\"#m336d3aff15\" x=\"123.641473\" y=\"41.720875\" style=\"fill: #1f77b4; stroke: #1f77b4\"/>\n     <use xlink:href=\"#m336d3aff15\" x=\"128.236876\" y=\"61.433759\" style=\"fill: #1f77b4; stroke: #1f77b4\"/>\n     <use xlink:href=\"#m336d3aff15\" x=\"142.204959\" y=\"98.047064\" style=\"fill: #1f77b4; stroke: #1f77b4\"/>\n     <use xlink:href=\"#m336d3aff15\" x=\"166.683768\" y=\"85.810999\" style=\"fill: #1f77b4; stroke: #1f77b4\"/>\n     <use xlink:href=\"#m336d3aff15\" x=\"138.955114\" y=\"63.728777\" style=\"fill: #1f77b4; stroke: #1f77b4\"/>\n     <use xlink:href=\"#m336d3aff15\" x=\"88.597965\" y=\"47.652355\" style=\"fill: #1f77b4; stroke: #1f77b4\"/>\n     <use xlink:href=\"#m336d3aff15\" x=\"92.136109\" y=\"50.154219\" style=\"fill: #1f77b4; stroke: #1f77b4\"/>\n     <use xlink:href=\"#m336d3aff15\" x=\"122.407309\" y=\"55.660111\" style=\"fill: #1f77b4; stroke: #1f77b4\"/>\n     <use xlink:href=\"#m336d3aff15\" x=\"138.180194\" y=\"84.834904\" style=\"fill: #1f77b4; stroke: #1f77b4\"/>\n     <use xlink:href=\"#m336d3aff15\" x=\"97.643255\" y=\"45.87553\" style=\"fill: #1f77b4; stroke: #1f77b4\"/>\n     <use xlink:href=\"#m336d3aff15\" x=\"151.106913\" y=\"69.680316\" style=\"fill: #1f77b4; stroke: #1f77b4\"/>\n     <use xlink:href=\"#m336d3aff15\" x=\"146.008027\" y=\"73.119447\" style=\"fill: #1f77b4; stroke: #1f77b4\"/>\n     <use xlink:href=\"#m336d3aff15\" x=\"126.756376\" y=\"59.982634\" style=\"fill: #1f77b4; stroke: #1f77b4\"/>\n     <use xlink:href=\"#m336d3aff15\" x=\"118.17677\" y=\"57.533944\" style=\"fill: #1f77b4; stroke: #1f77b4\"/>\n     <use xlink:href=\"#m336d3aff15\" x=\"119.116873\" y=\"74.54963\" style=\"fill: #1f77b4; stroke: #1f77b4\"/>\n     <use xlink:href=\"#m336d3aff15\" x=\"82.84587\" y=\"30.442624\" style=\"fill: #1f77b4; stroke: #1f77b4\"/>\n     <use xlink:href=\"#m336d3aff15\" x=\"139.128312\" y=\"69.885852\" style=\"fill: #1f77b4; stroke: #1f77b4\"/>\n     <use xlink:href=\"#m336d3aff15\" x=\"130.028038\" y=\"65.322639\" style=\"fill: #1f77b4; stroke: #1f77b4\"/>\n     <use xlink:href=\"#m336d3aff15\" x=\"158.346354\" y=\"98.624058\" style=\"fill: #1f77b4; stroke: #1f77b4\"/>\n     <use xlink:href=\"#m336d3aff15\" x=\"116.78685\" y=\"55.516229\" style=\"fill: #1f77b4; stroke: #1f77b4\"/>\n     <use xlink:href=\"#m336d3aff15\" x=\"108.933092\" y=\"50.991414\" style=\"fill: #1f77b4; stroke: #1f77b4\"/>\n     <use xlink:href=\"#m336d3aff15\" x=\"145.730757\" y=\"79.661176\" style=\"fill: #1f77b4; stroke: #1f77b4\"/>\n     <use xlink:href=\"#m336d3aff15\" x=\"90.688209\" y=\"54.102938\" style=\"fill: #1f77b4; stroke: #1f77b4\"/>\n     <use xlink:href=\"#m336d3aff15\" x=\"66.77703\" y=\"33.273388\" style=\"fill: #1f77b4; stroke: #1f77b4\"/>\n     <use xlink:href=\"#m336d3aff15\" x=\"140.687462\" y=\"83.351879\" style=\"fill: #1f77b4; stroke: #1f77b4\"/>\n     <use xlink:href=\"#m336d3aff15\" x=\"135.235492\" y=\"74.059547\" style=\"fill: #1f77b4; stroke: #1f77b4\"/>\n     <use xlink:href=\"#m336d3aff15\" x=\"168.998646\" y=\"84.58095\" style=\"fill: #1f77b4; stroke: #1f77b4\"/>\n     <use xlink:href=\"#m336d3aff15\" x=\"124.20749\" y=\"62.722739\" style=\"fill: #1f77b4; stroke: #1f77b4\"/>\n     <use xlink:href=\"#m336d3aff15\" x=\"119.080494\" y=\"56.694144\" style=\"fill: #1f77b4; stroke: #1f77b4\"/>\n     <use xlink:href=\"#m336d3aff15\" x=\"161.959179\" y=\"93.6558\" style=\"fill: #1f77b4; stroke: #1f77b4\"/>\n     <use xlink:href=\"#m336d3aff15\" x=\"149.99031\" y=\"73.504281\" style=\"fill: #1f77b4; stroke: #1f77b4\"/>\n     <use xlink:href=\"#m336d3aff15\" x=\"122.656338\" y=\"73.679794\" style=\"fill: #1f77b4; stroke: #1f77b4\"/>\n     <use xlink:href=\"#m336d3aff15\" x=\"135.974545\" y=\"75.662573\" style=\"fill: #1f77b4; stroke: #1f77b4\"/>\n     <use xlink:href=\"#m336d3aff15\" x=\"165.668881\" y=\"79.808092\" style=\"fill: #1f77b4; stroke: #1f77b4\"/>\n     <use xlink:href=\"#m336d3aff15\" x=\"99.485531\" y=\"37.146431\" style=\"fill: #1f77b4; stroke: #1f77b4\"/>\n     <use xlink:href=\"#m336d3aff15\" x=\"148.744683\" y=\"87.018472\" style=\"fill: #1f77b4; stroke: #1f77b4\"/>\n     <use xlink:href=\"#m336d3aff15\" x=\"102.804177\" y=\"42.678789\" style=\"fill: #1f77b4; stroke: #1f77b4\"/>\n     <use xlink:href=\"#m336d3aff15\" x=\"71.913053\" y=\"38.776875\" style=\"fill: #1f77b4; stroke: #1f77b4\"/>\n     <use xlink:href=\"#m336d3aff15\" x=\"136.790366\" y=\"78.159907\" style=\"fill: #1f77b4; stroke: #1f77b4\"/>\n     <use xlink:href=\"#m336d3aff15\" x=\"135.452312\" y=\"68.067309\" style=\"fill: #1f77b4; stroke: #1f77b4\"/>\n     <use xlink:href=\"#m336d3aff15\" x=\"131.53787\" y=\"76.542629\" style=\"fill: #1f77b4; stroke: #1f77b4\"/>\n     <use xlink:href=\"#m336d3aff15\" x=\"93.059029\" y=\"58.710682\" style=\"fill: #1f77b4; stroke: #1f77b4\"/>\n     <use xlink:href=\"#m336d3aff15\" x=\"80.852161\" y=\"45.987197\" style=\"fill: #1f77b4; stroke: #1f77b4\"/>\n     <use xlink:href=\"#m336d3aff15\" x=\"116.536103\" y=\"68.131675\" style=\"fill: #1f77b4; stroke: #1f77b4\"/>\n     <use xlink:href=\"#m336d3aff15\" x=\"118.241634\" y=\"67.068323\" style=\"fill: #1f77b4; stroke: #1f77b4\"/>\n     <use xlink:href=\"#m336d3aff15\" x=\"155.648954\" y=\"82.570319\" style=\"fill: #1f77b4; stroke: #1f77b4\"/>\n     <use xlink:href=\"#m336d3aff15\" x=\"152.084562\" y=\"84.583215\" style=\"fill: #1f77b4; stroke: #1f77b4\"/>\n     <use xlink:href=\"#m336d3aff15\" x=\"136.7732\" y=\"85.483363\" style=\"fill: #1f77b4; stroke: #1f77b4\"/>\n     <use xlink:href=\"#m336d3aff15\" x=\"130.478644\" y=\"77.631217\" style=\"fill: #1f77b4; stroke: #1f77b4\"/>\n     <use xlink:href=\"#m336d3aff15\" x=\"92.215957\" y=\"44.854882\" style=\"fill: #1f77b4; stroke: #1f77b4\"/>\n     <use xlink:href=\"#m336d3aff15\" x=\"119.494164\" y=\"58.804849\" style=\"fill: #1f77b4; stroke: #1f77b4\"/>\n     <use xlink:href=\"#m336d3aff15\" x=\"139.44874\" y=\"64.420021\" style=\"fill: #1f77b4; stroke: #1f77b4\"/>\n     <use xlink:href=\"#m336d3aff15\" x=\"132.885029\" y=\"82.853285\" style=\"fill: #1f77b4; stroke: #1f77b4\"/>\n     <use xlink:href=\"#m336d3aff15\" x=\"112.687843\" y=\"53.430084\" style=\"fill: #1f77b4; stroke: #1f77b4\"/>\n     <use xlink:href=\"#m336d3aff15\" x=\"88.460343\" y=\"57.771936\" style=\"fill: #1f77b4; stroke: #1f77b4\"/>\n     <use xlink:href=\"#m336d3aff15\" x=\"163.334037\" y=\"91.604751\" style=\"fill: #1f77b4; stroke: #1f77b4\"/>\n     <use xlink:href=\"#m336d3aff15\" x=\"173.306521\" y=\"110.674756\" style=\"fill: #1f77b4; stroke: #1f77b4\"/>\n     <use xlink:href=\"#m336d3aff15\" x=\"112.633352\" y=\"64.182248\" style=\"fill: #1f77b4; stroke: #1f77b4\"/>\n     <use xlink:href=\"#m336d3aff15\" x=\"119.069763\" y=\"69.203952\" style=\"fill: #1f77b4; stroke: #1f77b4\"/>\n     <use xlink:href=\"#m336d3aff15\" x=\"107.165774\" y=\"54.645604\" style=\"fill: #1f77b4; stroke: #1f77b4\"/>\n     <use xlink:href=\"#m336d3aff15\" x=\"145.569333\" y=\"84.772145\" style=\"fill: #1f77b4; stroke: #1f77b4\"/>\n     <use xlink:href=\"#m336d3aff15\" x=\"104.381432\" y=\"47.668727\" style=\"fill: #1f77b4; stroke: #1f77b4\"/>\n     <use xlink:href=\"#m336d3aff15\" x=\"125.485897\" y=\"73.138703\" style=\"fill: #1f77b4; stroke: #1f77b4\"/>\n     <use xlink:href=\"#m336d3aff15\" x=\"70.238413\" y=\"42.232777\" style=\"fill: #1f77b4; stroke: #1f77b4\"/>\n     <use xlink:href=\"#m336d3aff15\" x=\"135.691679\" y=\"81.480474\" style=\"fill: #1f77b4; stroke: #1f77b4\"/>\n     <use xlink:href=\"#m336d3aff15\" x=\"168.284719\" y=\"89.731618\" style=\"fill: #1f77b4; stroke: #1f77b4\"/>\n     <use xlink:href=\"#m336d3aff15\" x=\"95.309126\" y=\"53.229864\" style=\"fill: #1f77b4; stroke: #1f77b4\"/>\n     <use xlink:href=\"#m336d3aff15\" x=\"142.297682\" y=\"70.103356\" style=\"fill: #1f77b4; stroke: #1f77b4\"/>\n     <use xlink:href=\"#m336d3aff15\" x=\"135.204935\" y=\"66.030453\" style=\"fill: #1f77b4; stroke: #1f77b4\"/>\n     <use xlink:href=\"#m336d3aff15\" x=\"134.612148\" y=\"84.575472\" style=\"fill: #1f77b4; stroke: #1f77b4\"/>\n     <use xlink:href=\"#m336d3aff15\" x=\"130.832131\" y=\"85.138178\" style=\"fill: #1f77b4; stroke: #1f77b4\"/>\n     <use xlink:href=\"#m336d3aff15\" x=\"171.185551\" y=\"102.681594\" style=\"fill: #1f77b4; stroke: #1f77b4\"/>\n     <use xlink:href=\"#m336d3aff15\" x=\"120.010423\" y=\"53.723955\" style=\"fill: #1f77b4; stroke: #1f77b4\"/>\n     <use xlink:href=\"#m336d3aff15\" x=\"119.502916\" y=\"64.944564\" style=\"fill: #1f77b4; stroke: #1f77b4\"/>\n     <use xlink:href=\"#m336d3aff15\" x=\"118.372212\" y=\"63.002769\" style=\"fill: #1f77b4; stroke: #1f77b4\"/>\n     <use xlink:href=\"#m336d3aff15\" x=\"120.611089\" y=\"61.315574\" style=\"fill: #1f77b4; stroke: #1f77b4\"/>\n     <use xlink:href=\"#m336d3aff15\" x=\"144.043014\" y=\"85.062672\" style=\"fill: #1f77b4; stroke: #1f77b4\"/>\n     <use xlink:href=\"#m336d3aff15\" x=\"115.310999\" y=\"73.303924\" style=\"fill: #1f77b4; stroke: #1f77b4\"/>\n     <use xlink:href=\"#m336d3aff15\" x=\"112.460928\" y=\"57.910483\" style=\"fill: #1f77b4; stroke: #1f77b4\"/>\n     <use xlink:href=\"#m336d3aff15\" x=\"138.840572\" y=\"60.44471\" style=\"fill: #1f77b4; stroke: #1f77b4\"/>\n     <use xlink:href=\"#m336d3aff15\" x=\"125.160123\" y=\"71.928785\" style=\"fill: #1f77b4; stroke: #1f77b4\"/>\n     <use xlink:href=\"#m336d3aff15\" x=\"115.602935\" y=\"62.94043\" style=\"fill: #1f77b4; stroke: #1f77b4\"/>\n     <use xlink:href=\"#m336d3aff15\" x=\"145.252288\" y=\"74.729061\" style=\"fill: #1f77b4; stroke: #1f77b4\"/>\n     <use xlink:href=\"#m336d3aff15\" x=\"117.009152\" y=\"59.151968\" style=\"fill: #1f77b4; stroke: #1f77b4\"/>\n     <use xlink:href=\"#m336d3aff15\" x=\"110.338623\" y=\"68.150991\" style=\"fill: #1f77b4; stroke: #1f77b4\"/>\n     <use xlink:href=\"#m336d3aff15\" x=\"119.111278\" y=\"71.829489\" style=\"fill: #1f77b4; stroke: #1f77b4\"/>\n     <use xlink:href=\"#m336d3aff15\" x=\"126.419642\" y=\"75.794825\" style=\"fill: #1f77b4; stroke: #1f77b4\"/>\n     <use xlink:href=\"#m336d3aff15\" x=\"82.790906\" y=\"21.233392\" style=\"fill: #1f77b4; stroke: #1f77b4\"/>\n     <use xlink:href=\"#m336d3aff15\" x=\"109.599163\" y=\"53.854457\" style=\"fill: #1f77b4; stroke: #1f77b4\"/>\n     <use xlink:href=\"#m336d3aff15\" x=\"119.773027\" y=\"48.786763\" style=\"fill: #1f77b4; stroke: #1f77b4\"/>\n     <use xlink:href=\"#m336d3aff15\" x=\"128.239115\" y=\"72.82153\" style=\"fill: #1f77b4; stroke: #1f77b4\"/>\n     <use xlink:href=\"#m336d3aff15\" x=\"166.587795\" y=\"82.440835\" style=\"fill: #1f77b4; stroke: #1f77b4\"/>\n     <use xlink:href=\"#m336d3aff15\" x=\"144.517819\" y=\"77.896304\" style=\"fill: #1f77b4; stroke: #1f77b4\"/>\n     <use xlink:href=\"#m336d3aff15\" x=\"176.967654\" y=\"103.399127\" style=\"fill: #1f77b4; stroke: #1f77b4\"/>\n     <use xlink:href=\"#m336d3aff15\" x=\"143.922747\" y=\"97.209351\" style=\"fill: #1f77b4; stroke: #1f77b4\"/>\n     <use xlink:href=\"#m336d3aff15\" x=\"133.407721\" y=\"80.002366\" style=\"fill: #1f77b4; stroke: #1f77b4\"/>\n     <use xlink:href=\"#m336d3aff15\" x=\"96.653072\" y=\"63.957287\" style=\"fill: #1f77b4; stroke: #1f77b4\"/>\n     <use xlink:href=\"#m336d3aff15\" x=\"152.406697\" y=\"85.091273\" style=\"fill: #1f77b4; stroke: #1f77b4\"/>\n     <use xlink:href=\"#m336d3aff15\" x=\"90.032279\" y=\"50.200428\" style=\"fill: #1f77b4; stroke: #1f77b4\"/>\n     <use xlink:href=\"#m336d3aff15\" x=\"83.361347\" y=\"35.007619\" style=\"fill: #1f77b4; stroke: #1f77b4\"/>\n     <use xlink:href=\"#m336d3aff15\" x=\"221.727415\" y=\"127.726697\" style=\"fill: #1f77b4; stroke: #1f77b4\"/>\n     <use xlink:href=\"#m336d3aff15\" x=\"131.593745\" y=\"83.837503\" style=\"fill: #1f77b4; stroke: #1f77b4\"/>\n     <use xlink:href=\"#m336d3aff15\" x=\"147.954786\" y=\"80.860169\" style=\"fill: #1f77b4; stroke: #1f77b4\"/>\n     <use xlink:href=\"#m336d3aff15\" x=\"97.496641\" y=\"60.460676\" style=\"fill: #1f77b4; stroke: #1f77b4\"/>\n     <use xlink:href=\"#m336d3aff15\" x=\"115.683514\" y=\"55.229755\" style=\"fill: #1f77b4; stroke: #1f77b4\"/>\n     <use xlink:href=\"#m336d3aff15\" x=\"135.98356\" y=\"65.147356\" style=\"fill: #1f77b4; stroke: #1f77b4\"/>\n     <use xlink:href=\"#m336d3aff15\" x=\"146.898295\" y=\"95.379835\" style=\"fill: #1f77b4; stroke: #1f77b4\"/>\n     <use xlink:href=\"#m336d3aff15\" x=\"97.494057\" y=\"38.891935\" style=\"fill: #1f77b4; stroke: #1f77b4\"/>\n     <use xlink:href=\"#m336d3aff15\" x=\"123.076584\" y=\"75.548086\" style=\"fill: #1f77b4; stroke: #1f77b4\"/>\n     <use xlink:href=\"#m336d3aff15\" x=\"139.085055\" y=\"78.07075\" style=\"fill: #1f77b4; stroke: #1f77b4\"/>\n     <use xlink:href=\"#m336d3aff15\" x=\"112.415792\" y=\"66.262722\" style=\"fill: #1f77b4; stroke: #1f77b4\"/>\n     <use xlink:href=\"#m336d3aff15\" x=\"150.588776\" y=\"101.23507\" style=\"fill: #1f77b4; stroke: #1f77b4\"/>\n     <use xlink:href=\"#m336d3aff15\" x=\"148.655585\" y=\"74.506131\" style=\"fill: #1f77b4; stroke: #1f77b4\"/>\n     <use xlink:href=\"#m336d3aff15\" x=\"128.159198\" y=\"71.266631\" style=\"fill: #1f77b4; stroke: #1f77b4\"/>\n     <use xlink:href=\"#m336d3aff15\" x=\"144.494094\" y=\"72.181835\" style=\"fill: #1f77b4; stroke: #1f77b4\"/>\n     <use xlink:href=\"#m336d3aff15\" x=\"118.110772\" y=\"63.458251\" style=\"fill: #1f77b4; stroke: #1f77b4\"/>\n     <use xlink:href=\"#m336d3aff15\" x=\"89.49601\" y=\"38.866273\" style=\"fill: #1f77b4; stroke: #1f77b4\"/>\n     <use xlink:href=\"#m336d3aff15\" x=\"145.529253\" y=\"70.601897\" style=\"fill: #1f77b4; stroke: #1f77b4\"/>\n     <use xlink:href=\"#m336d3aff15\" x=\"111.876792\" y=\"61.620701\" style=\"fill: #1f77b4; stroke: #1f77b4\"/>\n     <use xlink:href=\"#m336d3aff15\" x=\"117.448426\" y=\"70.020161\" style=\"fill: #1f77b4; stroke: #1f77b4\"/>\n     <use xlink:href=\"#m336d3aff15\" x=\"118.482357\" y=\"56.000398\" style=\"fill: #1f77b4; stroke: #1f77b4\"/>\n     <use xlink:href=\"#m336d3aff15\" x=\"94.363345\" y=\"61.122868\" style=\"fill: #1f77b4; stroke: #1f77b4\"/>\n     <use xlink:href=\"#m336d3aff15\" x=\"146.732792\" y=\"76.08881\" style=\"fill: #1f77b4; stroke: #1f77b4\"/>\n     <use xlink:href=\"#m336d3aff15\" x=\"86.74927\" y=\"42.091941\" style=\"fill: #1f77b4; stroke: #1f77b4\"/>\n     <use xlink:href=\"#m336d3aff15\" x=\"158.073633\" y=\"97.022607\" style=\"fill: #1f77b4; stroke: #1f77b4\"/>\n     <use xlink:href=\"#m336d3aff15\" x=\"140.613705\" y=\"54.998255\" style=\"fill: #1f77b4; stroke: #1f77b4\"/>\n     <use xlink:href=\"#m336d3aff15\" x=\"154.787343\" y=\"83.296693\" style=\"fill: #1f77b4; stroke: #1f77b4\"/>\n     <use xlink:href=\"#m336d3aff15\" x=\"119.908381\" y=\"67.499765\" style=\"fill: #1f77b4; stroke: #1f77b4\"/>\n     <use xlink:href=\"#m336d3aff15\" x=\"181.624352\" y=\"118.613478\" style=\"fill: #1f77b4; stroke: #1f77b4\"/>\n     <use xlink:href=\"#m336d3aff15\" x=\"103.223132\" y=\"43.068069\" style=\"fill: #1f77b4; stroke: #1f77b4\"/>\n     <use xlink:href=\"#m336d3aff15\" x=\"107.969685\" y=\"67.121612\" style=\"fill: #1f77b4; stroke: #1f77b4\"/>\n     <use xlink:href=\"#m336d3aff15\" x=\"96.133392\" y=\"57.766536\" style=\"fill: #1f77b4; stroke: #1f77b4\"/>\n     <use xlink:href=\"#m336d3aff15\" x=\"117.533108\" y=\"71.340065\" style=\"fill: #1f77b4; stroke: #1f77b4\"/>\n     <use xlink:href=\"#m336d3aff15\" x=\"129.447455\" y=\"70.583022\" style=\"fill: #1f77b4; stroke: #1f77b4\"/>\n     <use xlink:href=\"#m336d3aff15\" x=\"49.79556\" y=\"24.929684\" style=\"fill: #1f77b4; stroke: #1f77b4\"/>\n     <use xlink:href=\"#m336d3aff15\" x=\"103.005101\" y=\"56.415076\" style=\"fill: #1f77b4; stroke: #1f77b4\"/>\n     <use xlink:href=\"#m336d3aff15\" x=\"105.907727\" y=\"45.881308\" style=\"fill: #1f77b4; stroke: #1f77b4\"/>\n     <use xlink:href=\"#m336d3aff15\" x=\"121.906274\" y=\"65.461945\" style=\"fill: #1f77b4; stroke: #1f77b4\"/>\n     <use xlink:href=\"#m336d3aff15\" x=\"143.137104\" y=\"86.281665\" style=\"fill: #1f77b4; stroke: #1f77b4\"/>\n     <use xlink:href=\"#m336d3aff15\" x=\"139.801776\" y=\"82.730525\" style=\"fill: #1f77b4; stroke: #1f77b4\"/>\n     <use xlink:href=\"#m336d3aff15\" x=\"160.306178\" y=\"92.615835\" style=\"fill: #1f77b4; stroke: #1f77b4\"/>\n     <use xlink:href=\"#m336d3aff15\" x=\"138.015593\" y=\"73.484105\" style=\"fill: #1f77b4; stroke: #1f77b4\"/>\n     <use xlink:href=\"#m336d3aff15\" x=\"99.310605\" y=\"72.936348\" style=\"fill: #1f77b4; stroke: #1f77b4\"/>\n     <use xlink:href=\"#m336d3aff15\" x=\"132.769776\" y=\"76.824778\" style=\"fill: #1f77b4; stroke: #1f77b4\"/>\n     <use xlink:href=\"#m336d3aff15\" x=\"124.385901\" y=\"67.151376\" style=\"fill: #1f77b4; stroke: #1f77b4\"/>\n     <use xlink:href=\"#m336d3aff15\" x=\"89.293005\" y=\"63.3399\" style=\"fill: #1f77b4; stroke: #1f77b4\"/>\n     <use xlink:href=\"#m336d3aff15\" x=\"96.08882\" y=\"41.863886\" style=\"fill: #1f77b4; stroke: #1f77b4\"/>\n     <use xlink:href=\"#m336d3aff15\" x=\"82.965653\" y=\"22.664516\" style=\"fill: #1f77b4; stroke: #1f77b4\"/>\n     <use xlink:href=\"#m336d3aff15\" x=\"139.225051\" y=\"75.454638\" style=\"fill: #1f77b4; stroke: #1f77b4\"/>\n     <use xlink:href=\"#m336d3aff15\" x=\"172.105326\" y=\"100.668951\" style=\"fill: #1f77b4; stroke: #1f77b4\"/>\n     <use xlink:href=\"#m336d3aff15\" x=\"132.011218\" y=\"62.884226\" style=\"fill: #1f77b4; stroke: #1f77b4\"/>\n     <use xlink:href=\"#m336d3aff15\" x=\"61.311662\" y=\"21.440983\" style=\"fill: #1f77b4; stroke: #1f77b4\"/>\n     <use xlink:href=\"#m336d3aff15\" x=\"99.995239\" y=\"49.159772\" style=\"fill: #1f77b4; stroke: #1f77b4\"/>\n     <use xlink:href=\"#m336d3aff15\" x=\"152.613094\" y=\"87.356983\" style=\"fill: #1f77b4; stroke: #1f77b4\"/>\n     <use xlink:href=\"#m336d3aff15\" x=\"103.149732\" y=\"60.534754\" style=\"fill: #1f77b4; stroke: #1f77b4\"/>\n     <use xlink:href=\"#m336d3aff15\" x=\"77.977233\" y=\"47.446514\" style=\"fill: #1f77b4; stroke: #1f77b4\"/>\n     <use xlink:href=\"#m336d3aff15\" x=\"145.919119\" y=\"67.719394\" style=\"fill: #1f77b4; stroke: #1f77b4\"/>\n     <use xlink:href=\"#m336d3aff15\" x=\"89.076636\" y=\"45.636457\" style=\"fill: #1f77b4; stroke: #1f77b4\"/>\n     <use xlink:href=\"#m336d3aff15\" x=\"128.635471\" y=\"70.245412\" style=\"fill: #1f77b4; stroke: #1f77b4\"/>\n     <use xlink:href=\"#m336d3aff15\" x=\"105.037971\" y=\"59.166552\" style=\"fill: #1f77b4; stroke: #1f77b4\"/>\n     <use xlink:href=\"#m336d3aff15\" x=\"149.146151\" y=\"76.597199\" style=\"fill: #1f77b4; stroke: #1f77b4\"/>\n     <use xlink:href=\"#m336d3aff15\" x=\"154.182583\" y=\"90.113629\" style=\"fill: #1f77b4; stroke: #1f77b4\"/>\n     <use xlink:href=\"#m336d3aff15\" x=\"115.989394\" y=\"58.826224\" style=\"fill: #1f77b4; stroke: #1f77b4\"/>\n     <use xlink:href=\"#m336d3aff15\" x=\"130.494136\" y=\"70.808\" style=\"fill: #1f77b4; stroke: #1f77b4\"/>\n     <use xlink:href=\"#m336d3aff15\" x=\"112.148283\" y=\"47.492151\" style=\"fill: #1f77b4; stroke: #1f77b4\"/>\n     <use xlink:href=\"#m336d3aff15\" x=\"121.159328\" y=\"70.37813\" style=\"fill: #1f77b4; stroke: #1f77b4\"/>\n     <use xlink:href=\"#m336d3aff15\" x=\"136.519457\" y=\"74.254687\" style=\"fill: #1f77b4; stroke: #1f77b4\"/>\n     <use xlink:href=\"#m336d3aff15\" x=\"112.255817\" y=\"65.703934\" style=\"fill: #1f77b4; stroke: #1f77b4\"/>\n     <use xlink:href=\"#m336d3aff15\" x=\"131.818703\" y=\"73.586486\" style=\"fill: #1f77b4; stroke: #1f77b4\"/>\n     <use xlink:href=\"#m336d3aff15\" x=\"94.738113\" y=\"47.979786\" style=\"fill: #1f77b4; stroke: #1f77b4\"/>\n     <use xlink:href=\"#m336d3aff15\" x=\"154.220297\" y=\"67.905271\" style=\"fill: #1f77b4; stroke: #1f77b4\"/>\n     <use xlink:href=\"#m336d3aff15\" x=\"135.043248\" y=\"88.733408\" style=\"fill: #1f77b4; stroke: #1f77b4\"/>\n     <use xlink:href=\"#m336d3aff15\" x=\"104.929686\" y=\"61.530734\" style=\"fill: #1f77b4; stroke: #1f77b4\"/>\n     <use xlink:href=\"#m336d3aff15\" x=\"145.028901\" y=\"76.429125\" style=\"fill: #1f77b4; stroke: #1f77b4\"/>\n     <use xlink:href=\"#m336d3aff15\" x=\"173.790447\" y=\"102.857185\" style=\"fill: #1f77b4; stroke: #1f77b4\"/>\n     <use xlink:href=\"#m336d3aff15\" x=\"135.471135\" y=\"68.695778\" style=\"fill: #1f77b4; stroke: #1f77b4\"/>\n     <use xlink:href=\"#m336d3aff15\" x=\"147.312388\" y=\"79.48458\" style=\"fill: #1f77b4; stroke: #1f77b4\"/>\n     <use xlink:href=\"#m336d3aff15\" x=\"148.098516\" y=\"82.707809\" style=\"fill: #1f77b4; stroke: #1f77b4\"/>\n     <use xlink:href=\"#m336d3aff15\" x=\"143.586322\" y=\"86.910149\" style=\"fill: #1f77b4; stroke: #1f77b4\"/>\n     <use xlink:href=\"#m336d3aff15\" x=\"155.928459\" y=\"68.938191\" style=\"fill: #1f77b4; stroke: #1f77b4\"/>\n     <use xlink:href=\"#m336d3aff15\" x=\"106.726917\" y=\"53.225183\" style=\"fill: #1f77b4; stroke: #1f77b4\"/>\n     <use xlink:href=\"#m336d3aff15\" x=\"157.426734\" y=\"87.415221\" style=\"fill: #1f77b4; stroke: #1f77b4\"/>\n     <use xlink:href=\"#m336d3aff15\" x=\"139.720632\" y=\"86.309898\" style=\"fill: #1f77b4; stroke: #1f77b4\"/>\n     <use xlink:href=\"#m336d3aff15\" x=\"97.149879\" y=\"42.922536\" style=\"fill: #1f77b4; stroke: #1f77b4\"/>\n     <use xlink:href=\"#m336d3aff15\" x=\"92.436489\" y=\"42.829434\" style=\"fill: #1f77b4; stroke: #1f77b4\"/>\n     <use xlink:href=\"#m336d3aff15\" x=\"122.057267\" y=\"76.420744\" style=\"fill: #1f77b4; stroke: #1f77b4\"/>\n     <use xlink:href=\"#m336d3aff15\" x=\"127.95346\" y=\"75.879183\" style=\"fill: #1f77b4; stroke: #1f77b4\"/>\n     <use xlink:href=\"#m336d3aff15\" x=\"80.493919\" y=\"25.669531\" style=\"fill: #1f77b4; stroke: #1f77b4\"/>\n     <use xlink:href=\"#m336d3aff15\" x=\"132.905684\" y=\"61.627357\" style=\"fill: #1f77b4; stroke: #1f77b4\"/>\n     <use xlink:href=\"#m336d3aff15\" x=\"134.983802\" y=\"77.181373\" style=\"fill: #1f77b4; stroke: #1f77b4\"/>\n     <use xlink:href=\"#m336d3aff15\" x=\"110.321162\" y=\"48.732772\" style=\"fill: #1f77b4; stroke: #1f77b4\"/>\n     <use xlink:href=\"#m336d3aff15\" x=\"118.169377\" y=\"57.419625\" style=\"fill: #1f77b4; stroke: #1f77b4\"/>\n     <use xlink:href=\"#m336d3aff15\" x=\"92.428165\" y=\"40.626626\" style=\"fill: #1f77b4; stroke: #1f77b4\"/>\n     <use xlink:href=\"#m336d3aff15\" x=\"165.620253\" y=\"92.358387\" style=\"fill: #1f77b4; stroke: #1f77b4\"/>\n     <use xlink:href=\"#m336d3aff15\" x=\"133.486891\" y=\"68.836133\" style=\"fill: #1f77b4; stroke: #1f77b4\"/>\n     <use xlink:href=\"#m336d3aff15\" x=\"156.654042\" y=\"89.154237\" style=\"fill: #1f77b4; stroke: #1f77b4\"/>\n     <use xlink:href=\"#m336d3aff15\" x=\"113.872213\" y=\"39.227548\" style=\"fill: #1f77b4; stroke: #1f77b4\"/>\n     <use xlink:href=\"#m336d3aff15\" x=\"134.297586\" y=\"54.222659\" style=\"fill: #1f77b4; stroke: #1f77b4\"/>\n     <use xlink:href=\"#m336d3aff15\" x=\"139.697374\" y=\"70.240914\" style=\"fill: #1f77b4; stroke: #1f77b4\"/>\n     <use xlink:href=\"#m336d3aff15\" x=\"112.284457\" y=\"56.403823\" style=\"fill: #1f77b4; stroke: #1f77b4\"/>\n     <use xlink:href=\"#m336d3aff15\" x=\"137.067334\" y=\"73.800671\" style=\"fill: #1f77b4; stroke: #1f77b4\"/>\n     <use xlink:href=\"#m336d3aff15\" x=\"105.031544\" y=\"53.231798\" style=\"fill: #1f77b4; stroke: #1f77b4\"/>\n     <use xlink:href=\"#m336d3aff15\" x=\"154.186846\" y=\"94.084049\" style=\"fill: #1f77b4; stroke: #1f77b4\"/>\n     <use xlink:href=\"#m336d3aff15\" x=\"138.581273\" y=\"71.521794\" style=\"fill: #1f77b4; stroke: #1f77b4\"/>\n     <use xlink:href=\"#m336d3aff15\" x=\"170.953998\" y=\"94.764613\" style=\"fill: #1f77b4; stroke: #1f77b4\"/>\n     <use xlink:href=\"#m336d3aff15\" x=\"143.878068\" y=\"80.199731\" style=\"fill: #1f77b4; stroke: #1f77b4\"/>\n     <use xlink:href=\"#m336d3aff15\" x=\"145.008555\" y=\"68.131757\" style=\"fill: #1f77b4; stroke: #1f77b4\"/>\n     <use xlink:href=\"#m336d3aff15\" x=\"96.556759\" y=\"65.246368\" style=\"fill: #1f77b4; stroke: #1f77b4\"/>\n     <use xlink:href=\"#m336d3aff15\" x=\"172.717462\" y=\"99.184268\" style=\"fill: #1f77b4; stroke: #1f77b4\"/>\n     <use xlink:href=\"#m336d3aff15\" x=\"159.280888\" y=\"91.767011\" style=\"fill: #1f77b4; stroke: #1f77b4\"/>\n     <use xlink:href=\"#m336d3aff15\" x=\"109.04079\" y=\"58.634363\" style=\"fill: #1f77b4; stroke: #1f77b4\"/>\n     <use xlink:href=\"#m336d3aff15\" x=\"109.433937\" y=\"66.547517\" style=\"fill: #1f77b4; stroke: #1f77b4\"/>\n     <use xlink:href=\"#m336d3aff15\" x=\"128.484433\" y=\"62.338418\" style=\"fill: #1f77b4; stroke: #1f77b4\"/>\n     <use xlink:href=\"#m336d3aff15\" x=\"165.987765\" y=\"100.59542\" style=\"fill: #1f77b4; stroke: #1f77b4\"/>\n     <use xlink:href=\"#m336d3aff15\" x=\"111.185899\" y=\"77.813289\" style=\"fill: #1f77b4; stroke: #1f77b4\"/>\n     <use xlink:href=\"#m336d3aff15\" x=\"153.976331\" y=\"98.798468\" style=\"fill: #1f77b4; stroke: #1f77b4\"/>\n     <use xlink:href=\"#m336d3aff15\" x=\"113.719415\" y=\"46.206632\" style=\"fill: #1f77b4; stroke: #1f77b4\"/>\n     <use xlink:href=\"#m336d3aff15\" x=\"132.346518\" y=\"81.276825\" style=\"fill: #1f77b4; stroke: #1f77b4\"/>\n     <use xlink:href=\"#m336d3aff15\" x=\"151.436155\" y=\"89.083055\" style=\"fill: #1f77b4; stroke: #1f77b4\"/>\n     <use xlink:href=\"#m336d3aff15\" x=\"101.793071\" y=\"42.029043\" style=\"fill: #1f77b4; stroke: #1f77b4\"/>\n     <use xlink:href=\"#m336d3aff15\" x=\"114.967607\" y=\"62.548728\" style=\"fill: #1f77b4; stroke: #1f77b4\"/>\n     <use xlink:href=\"#m336d3aff15\" x=\"127.280043\" y=\"75.742896\" style=\"fill: #1f77b4; stroke: #1f77b4\"/>\n     <use xlink:href=\"#m336d3aff15\" x=\"148.46247\" y=\"101.538008\" style=\"fill: #1f77b4; stroke: #1f77b4\"/>\n     <use xlink:href=\"#m336d3aff15\" x=\"132.436667\" y=\"68.387599\" style=\"fill: #1f77b4; stroke: #1f77b4\"/>\n     <use xlink:href=\"#m336d3aff15\" x=\"201.2109\" y=\"104.385142\" style=\"fill: #1f77b4; stroke: #1f77b4\"/>\n     <use xlink:href=\"#m336d3aff15\" x=\"110.970418\" y=\"62.683003\" style=\"fill: #1f77b4; stroke: #1f77b4\"/>\n     <use xlink:href=\"#m336d3aff15\" x=\"121.743563\" y=\"79.880729\" style=\"fill: #1f77b4; stroke: #1f77b4\"/>\n     <use xlink:href=\"#m336d3aff15\" x=\"131.808615\" y=\"71.634457\" style=\"fill: #1f77b4; stroke: #1f77b4\"/>\n     <use xlink:href=\"#m336d3aff15\" x=\"153.913099\" y=\"76.162676\" style=\"fill: #1f77b4; stroke: #1f77b4\"/>\n     <use xlink:href=\"#m336d3aff15\" x=\"102.147302\" y=\"66.342365\" style=\"fill: #1f77b4; stroke: #1f77b4\"/>\n     <use xlink:href=\"#m336d3aff15\" x=\"167.545807\" y=\"79.050476\" style=\"fill: #1f77b4; stroke: #1f77b4\"/>\n     <use xlink:href=\"#m336d3aff15\" x=\"109.253537\" y=\"52.962261\" style=\"fill: #1f77b4; stroke: #1f77b4\"/>\n     <use xlink:href=\"#m336d3aff15\" x=\"114.05151\" y=\"62.202676\" style=\"fill: #1f77b4; stroke: #1f77b4\"/>\n     <use xlink:href=\"#m336d3aff15\" x=\"161.412051\" y=\"79.36542\" style=\"fill: #1f77b4; stroke: #1f77b4\"/>\n     <use xlink:href=\"#m336d3aff15\" x=\"136.180814\" y=\"79.973317\" style=\"fill: #1f77b4; stroke: #1f77b4\"/>\n     <use xlink:href=\"#m336d3aff15\" x=\"113.973097\" y=\"62.814349\" style=\"fill: #1f77b4; stroke: #1f77b4\"/>\n     <use xlink:href=\"#m336d3aff15\" x=\"117.022792\" y=\"58.281038\" style=\"fill: #1f77b4; stroke: #1f77b4\"/>\n     <use xlink:href=\"#m336d3aff15\" x=\"119.714319\" y=\"62.747383\" style=\"fill: #1f77b4; stroke: #1f77b4\"/>\n     <use xlink:href=\"#m336d3aff15\" x=\"107.951065\" y=\"44.470741\" style=\"fill: #1f77b4; stroke: #1f77b4\"/>\n     <use xlink:href=\"#m336d3aff15\" x=\"125.404163\" y=\"75.7589\" style=\"fill: #1f77b4; stroke: #1f77b4\"/>\n     <use xlink:href=\"#m336d3aff15\" x=\"147.249616\" y=\"77.43581\" style=\"fill: #1f77b4; stroke: #1f77b4\"/>\n     <use xlink:href=\"#m336d3aff15\" x=\"163.364096\" y=\"88.786061\" style=\"fill: #1f77b4; stroke: #1f77b4\"/>\n     <use xlink:href=\"#m336d3aff15\" x=\"123.033123\" y=\"61.584621\" style=\"fill: #1f77b4; stroke: #1f77b4\"/>\n     <use xlink:href=\"#m336d3aff15\" x=\"74.89354\" y=\"37.446349\" style=\"fill: #1f77b4; stroke: #1f77b4\"/>\n     <use xlink:href=\"#m336d3aff15\" x=\"120.590412\" y=\"64.332227\" style=\"fill: #1f77b4; stroke: #1f77b4\"/>\n     <use xlink:href=\"#m336d3aff15\" x=\"143.792581\" y=\"77.30154\" style=\"fill: #1f77b4; stroke: #1f77b4\"/>\n     <use xlink:href=\"#m336d3aff15\" x=\"123.781014\" y=\"46.612873\" style=\"fill: #1f77b4; stroke: #1f77b4\"/>\n     <use xlink:href=\"#m336d3aff15\" x=\"117.834509\" y=\"51.184186\" style=\"fill: #1f77b4; stroke: #1f77b4\"/>\n     <use xlink:href=\"#m336d3aff15\" x=\"129.654463\" y=\"72.257316\" style=\"fill: #1f77b4; stroke: #1f77b4\"/>\n     <use xlink:href=\"#m336d3aff15\" x=\"165.329412\" y=\"91.737998\" style=\"fill: #1f77b4; stroke: #1f77b4\"/>\n     <use xlink:href=\"#m336d3aff15\" x=\"147.814703\" y=\"79.096712\" style=\"fill: #1f77b4; stroke: #1f77b4\"/>\n     <use xlink:href=\"#m336d3aff15\" x=\"116.00901\" y=\"83.806822\" style=\"fill: #1f77b4; stroke: #1f77b4\"/>\n     <use xlink:href=\"#m336d3aff15\" x=\"130.315307\" y=\"84.358577\" style=\"fill: #1f77b4; stroke: #1f77b4\"/>\n     <use xlink:href=\"#m336d3aff15\" x=\"152.308883\" y=\"94.577568\" style=\"fill: #1f77b4; stroke: #1f77b4\"/>\n     <use xlink:href=\"#m336d3aff15\" x=\"120.265751\" y=\"53.216636\" style=\"fill: #1f77b4; stroke: #1f77b4\"/>\n     <use xlink:href=\"#m336d3aff15\" x=\"143.65776\" y=\"66.283743\" style=\"fill: #1f77b4; stroke: #1f77b4\"/>\n     <use xlink:href=\"#m336d3aff15\" x=\"139.036027\" y=\"69.141261\" style=\"fill: #1f77b4; stroke: #1f77b4\"/>\n     <use xlink:href=\"#m336d3aff15\" x=\"106.899111\" y=\"61.36776\" style=\"fill: #1f77b4; stroke: #1f77b4\"/>\n     <use xlink:href=\"#m336d3aff15\" x=\"122.4004\" y=\"59.904064\" style=\"fill: #1f77b4; stroke: #1f77b4\"/>\n     <use xlink:href=\"#m336d3aff15\" x=\"161.914616\" y=\"76.700018\" style=\"fill: #1f77b4; stroke: #1f77b4\"/>\n     <use xlink:href=\"#m336d3aff15\" x=\"107.04686\" y=\"60.302796\" style=\"fill: #1f77b4; stroke: #1f77b4\"/>\n     <use xlink:href=\"#m336d3aff15\" x=\"170.103589\" y=\"88.581246\" style=\"fill: #1f77b4; stroke: #1f77b4\"/>\n     <use xlink:href=\"#m336d3aff15\" x=\"102.809464\" y=\"51.079043\" style=\"fill: #1f77b4; stroke: #1f77b4\"/>\n     <use xlink:href=\"#m336d3aff15\" x=\"140.854387\" y=\"74.963394\" style=\"fill: #1f77b4; stroke: #1f77b4\"/>\n     <use xlink:href=\"#m336d3aff15\" x=\"138.592728\" y=\"73.585928\" style=\"fill: #1f77b4; stroke: #1f77b4\"/>\n     <use xlink:href=\"#m336d3aff15\" x=\"149.105941\" y=\"74.370702\" style=\"fill: #1f77b4; stroke: #1f77b4\"/>\n     <use xlink:href=\"#m336d3aff15\" x=\"108.180537\" y=\"60.63453\" style=\"fill: #1f77b4; stroke: #1f77b4\"/>\n     <use xlink:href=\"#m336d3aff15\" x=\"85.84664\" y=\"41.99271\" style=\"fill: #1f77b4; stroke: #1f77b4\"/>\n     <use xlink:href=\"#m336d3aff15\" x=\"121.563249\" y=\"54.119396\" style=\"fill: #1f77b4; stroke: #1f77b4\"/>\n     <use xlink:href=\"#m336d3aff15\" x=\"131.954601\" y=\"73.092956\" style=\"fill: #1f77b4; stroke: #1f77b4\"/>\n     <use xlink:href=\"#m336d3aff15\" x=\"139.982621\" y=\"69.480574\" style=\"fill: #1f77b4; stroke: #1f77b4\"/>\n     <use xlink:href=\"#m336d3aff15\" x=\"133.822752\" y=\"87.374777\" style=\"fill: #1f77b4; stroke: #1f77b4\"/>\n     <use xlink:href=\"#m336d3aff15\" x=\"128.410197\" y=\"62.779528\" style=\"fill: #1f77b4; stroke: #1f77b4\"/>\n     <use xlink:href=\"#m336d3aff15\" x=\"100.636033\" y=\"64.281903\" style=\"fill: #1f77b4; stroke: #1f77b4\"/>\n     <use xlink:href=\"#m336d3aff15\" x=\"122.219713\" y=\"65.239386\" style=\"fill: #1f77b4; stroke: #1f77b4\"/>\n     <use xlink:href=\"#m336d3aff15\" x=\"108.03792\" y=\"50.809146\" style=\"fill: #1f77b4; stroke: #1f77b4\"/>\n     <use xlink:href=\"#m336d3aff15\" x=\"143.04868\" y=\"87.224793\" style=\"fill: #1f77b4; stroke: #1f77b4\"/>\n     <use xlink:href=\"#m336d3aff15\" x=\"159.897818\" y=\"90.460304\" style=\"fill: #1f77b4; stroke: #1f77b4\"/>\n     <use xlink:href=\"#m336d3aff15\" x=\"86.093765\" y=\"48.046542\" style=\"fill: #1f77b4; stroke: #1f77b4\"/>\n     <use xlink:href=\"#m336d3aff15\" x=\"115.426192\" y=\"64.955288\" style=\"fill: #1f77b4; stroke: #1f77b4\"/>\n     <use xlink:href=\"#m336d3aff15\" x=\"145.849992\" y=\"93.864425\" style=\"fill: #1f77b4; stroke: #1f77b4\"/>\n     <use xlink:href=\"#m336d3aff15\" x=\"117.486617\" y=\"51.639388\" style=\"fill: #1f77b4; stroke: #1f77b4\"/>\n     <use xlink:href=\"#m336d3aff15\" x=\"135.620788\" y=\"74.360532\" style=\"fill: #1f77b4; stroke: #1f77b4\"/>\n     <use xlink:href=\"#m336d3aff15\" x=\"105.504121\" y=\"55.978987\" style=\"fill: #1f77b4; stroke: #1f77b4\"/>\n     <use xlink:href=\"#m336d3aff15\" x=\"140.175999\" y=\"71.056926\" style=\"fill: #1f77b4; stroke: #1f77b4\"/>\n     <use xlink:href=\"#m336d3aff15\" x=\"98.498743\" y=\"43.052158\" style=\"fill: #1f77b4; stroke: #1f77b4\"/>\n     <use xlink:href=\"#m336d3aff15\" x=\"135.630923\" y=\"71.707286\" style=\"fill: #1f77b4; stroke: #1f77b4\"/>\n     <use xlink:href=\"#m336d3aff15\" x=\"164.785853\" y=\"86.466006\" style=\"fill: #1f77b4; stroke: #1f77b4\"/>\n     <use xlink:href=\"#m336d3aff15\" x=\"129.524166\" y=\"47.769695\" style=\"fill: #1f77b4; stroke: #1f77b4\"/>\n     <use xlink:href=\"#m336d3aff15\" x=\"160.519487\" y=\"113.806312\" style=\"fill: #1f77b4; stroke: #1f77b4\"/>\n     <use xlink:href=\"#m336d3aff15\" x=\"109.962013\" y=\"49.613751\" style=\"fill: #1f77b4; stroke: #1f77b4\"/>\n     <use xlink:href=\"#m336d3aff15\" x=\"105.586165\" y=\"38.218424\" style=\"fill: #1f77b4; stroke: #1f77b4\"/>\n     <use xlink:href=\"#m336d3aff15\" x=\"121.670837\" y=\"52.536605\" style=\"fill: #1f77b4; stroke: #1f77b4\"/>\n     <use xlink:href=\"#m336d3aff15\" x=\"158.214076\" y=\"98.11925\" style=\"fill: #1f77b4; stroke: #1f77b4\"/>\n     <use xlink:href=\"#m336d3aff15\" x=\"146.379813\" y=\"72.895962\" style=\"fill: #1f77b4; stroke: #1f77b4\"/>\n     <use xlink:href=\"#m336d3aff15\" x=\"112.201336\" y=\"53.737456\" style=\"fill: #1f77b4; stroke: #1f77b4\"/>\n     <use xlink:href=\"#m336d3aff15\" x=\"140.125604\" y=\"70.847809\" style=\"fill: #1f77b4; stroke: #1f77b4\"/>\n     <use xlink:href=\"#m336d3aff15\" x=\"183.749653\" y=\"86.445145\" style=\"fill: #1f77b4; stroke: #1f77b4\"/>\n     <use xlink:href=\"#m336d3aff15\" x=\"137.032997\" y=\"80.108835\" style=\"fill: #1f77b4; stroke: #1f77b4\"/>\n     <use xlink:href=\"#m336d3aff15\" x=\"152.013684\" y=\"75.414615\" style=\"fill: #1f77b4; stroke: #1f77b4\"/>\n     <use xlink:href=\"#m336d3aff15\" x=\"115.457999\" y=\"56.48584\" style=\"fill: #1f77b4; stroke: #1f77b4\"/>\n     <use xlink:href=\"#m336d3aff15\" x=\"110.463147\" y=\"56.846417\" style=\"fill: #1f77b4; stroke: #1f77b4\"/>\n     <use xlink:href=\"#m336d3aff15\" x=\"104.288226\" y=\"40.136077\" style=\"fill: #1f77b4; stroke: #1f77b4\"/>\n     <use xlink:href=\"#m336d3aff15\" x=\"140.633121\" y=\"77.489788\" style=\"fill: #1f77b4; stroke: #1f77b4\"/>\n     <use xlink:href=\"#m336d3aff15\" x=\"99.38412\" y=\"56.067451\" style=\"fill: #1f77b4; stroke: #1f77b4\"/>\n     <use xlink:href=\"#m336d3aff15\" x=\"148.332578\" y=\"80.482121\" style=\"fill: #1f77b4; stroke: #1f77b4\"/>\n     <use xlink:href=\"#m336d3aff15\" x=\"71.501223\" y=\"17.325248\" style=\"fill: #1f77b4; stroke: #1f77b4\"/>\n     <use xlink:href=\"#m336d3aff15\" x=\"109.523329\" y=\"62.183492\" style=\"fill: #1f77b4; stroke: #1f77b4\"/>\n     <use xlink:href=\"#m336d3aff15\" x=\"125.009794\" y=\"66.444962\" style=\"fill: #1f77b4; stroke: #1f77b4\"/>\n     <use xlink:href=\"#m336d3aff15\" x=\"143.456353\" y=\"87.687625\" style=\"fill: #1f77b4; stroke: #1f77b4\"/>\n     <use xlink:href=\"#m336d3aff15\" x=\"133.75032\" y=\"79.267076\" style=\"fill: #1f77b4; stroke: #1f77b4\"/>\n     <use xlink:href=\"#m336d3aff15\" x=\"122.35353\" y=\"68.551807\" style=\"fill: #1f77b4; stroke: #1f77b4\"/>\n     <use xlink:href=\"#m336d3aff15\" x=\"160.007123\" y=\"92.274307\" style=\"fill: #1f77b4; stroke: #1f77b4\"/>\n     <use xlink:href=\"#m336d3aff15\" x=\"113.533723\" y=\"66.934486\" style=\"fill: #1f77b4; stroke: #1f77b4\"/>\n     <use xlink:href=\"#m336d3aff15\" x=\"113.598603\" y=\"57.905514\" style=\"fill: #1f77b4; stroke: #1f77b4\"/>\n     <use xlink:href=\"#m336d3aff15\" x=\"159.188423\" y=\"92.720139\" style=\"fill: #1f77b4; stroke: #1f77b4\"/>\n     <use xlink:href=\"#m336d3aff15\" x=\"163.554229\" y=\"93.681388\" style=\"fill: #1f77b4; stroke: #1f77b4\"/>\n     <use xlink:href=\"#m336d3aff15\" x=\"123.429137\" y=\"66.960165\" style=\"fill: #1f77b4; stroke: #1f77b4\"/>\n     <use xlink:href=\"#m336d3aff15\" x=\"140.364335\" y=\"68.850829\" style=\"fill: #1f77b4; stroke: #1f77b4\"/>\n     <use xlink:href=\"#m336d3aff15\" x=\"138.311147\" y=\"68.577468\" style=\"fill: #1f77b4; stroke: #1f77b4\"/>\n     <use xlink:href=\"#m336d3aff15\" x=\"142.181491\" y=\"75.12029\" style=\"fill: #1f77b4; stroke: #1f77b4\"/>\n     <use xlink:href=\"#m336d3aff15\" x=\"105.969965\" y=\"59.687639\" style=\"fill: #1f77b4; stroke: #1f77b4\"/>\n     <use xlink:href=\"#m336d3aff15\" x=\"123.018659\" y=\"47.27137\" style=\"fill: #1f77b4; stroke: #1f77b4\"/>\n     <use xlink:href=\"#m336d3aff15\" x=\"116.367195\" y=\"74.208017\" style=\"fill: #1f77b4; stroke: #1f77b4\"/>\n     <use xlink:href=\"#m336d3aff15\" x=\"97.1951\" y=\"32.610714\" style=\"fill: #1f77b4; stroke: #1f77b4\"/>\n     <use xlink:href=\"#m336d3aff15\" x=\"102.149378\" y=\"54.529178\" style=\"fill: #1f77b4; stroke: #1f77b4\"/>\n     <use xlink:href=\"#m336d3aff15\" x=\"138.818014\" y=\"68.296925\" style=\"fill: #1f77b4; stroke: #1f77b4\"/>\n     <use xlink:href=\"#m336d3aff15\" x=\"115.237746\" y=\"64.833786\" style=\"fill: #1f77b4; stroke: #1f77b4\"/>\n     <use xlink:href=\"#m336d3aff15\" x=\"136.035984\" y=\"85.991083\" style=\"fill: #1f77b4; stroke: #1f77b4\"/>\n     <use xlink:href=\"#m336d3aff15\" x=\"94.336885\" y=\"44.147305\" style=\"fill: #1f77b4; stroke: #1f77b4\"/>\n     <use xlink:href=\"#m336d3aff15\" x=\"138.438914\" y=\"61.753161\" style=\"fill: #1f77b4; stroke: #1f77b4\"/>\n     <use xlink:href=\"#m336d3aff15\" x=\"146.285375\" y=\"98.774059\" style=\"fill: #1f77b4; stroke: #1f77b4\"/>\n     <use xlink:href=\"#m336d3aff15\" x=\"139.935975\" y=\"66.34854\" style=\"fill: #1f77b4; stroke: #1f77b4\"/>\n     <use xlink:href=\"#m336d3aff15\" x=\"140.628084\" y=\"68.914782\" style=\"fill: #1f77b4; stroke: #1f77b4\"/>\n     <use xlink:href=\"#m336d3aff15\" x=\"130.893935\" y=\"69.705027\" style=\"fill: #1f77b4; stroke: #1f77b4\"/>\n     <use xlink:href=\"#m336d3aff15\" x=\"104.383015\" y=\"56.531543\" style=\"fill: #1f77b4; stroke: #1f77b4\"/>\n     <use xlink:href=\"#m336d3aff15\" x=\"113.152273\" y=\"71.029808\" style=\"fill: #1f77b4; stroke: #1f77b4\"/>\n     <use xlink:href=\"#m336d3aff15\" x=\"108.184898\" y=\"46.694933\" style=\"fill: #1f77b4; stroke: #1f77b4\"/>\n     <use xlink:href=\"#m336d3aff15\" x=\"149.671206\" y=\"72.836406\" style=\"fill: #1f77b4; stroke: #1f77b4\"/>\n     <use xlink:href=\"#m336d3aff15\" x=\"124.242672\" y=\"66.166469\" style=\"fill: #1f77b4; stroke: #1f77b4\"/>\n     <use xlink:href=\"#m336d3aff15\" x=\"97.700049\" y=\"46.266712\" style=\"fill: #1f77b4; stroke: #1f77b4\"/>\n     <use xlink:href=\"#m336d3aff15\" x=\"138.640351\" y=\"91.314688\" style=\"fill: #1f77b4; stroke: #1f77b4\"/>\n     <use xlink:href=\"#m336d3aff15\" x=\"142.038787\" y=\"70.559888\" style=\"fill: #1f77b4; stroke: #1f77b4\"/>\n     <use xlink:href=\"#m336d3aff15\" x=\"133.336768\" y=\"70.829481\" style=\"fill: #1f77b4; stroke: #1f77b4\"/>\n     <use xlink:href=\"#m336d3aff15\" x=\"130.629133\" y=\"71.957032\" style=\"fill: #1f77b4; stroke: #1f77b4\"/>\n     <use xlink:href=\"#m336d3aff15\" x=\"79.088225\" y=\"31.59034\" style=\"fill: #1f77b4; stroke: #1f77b4\"/>\n     <use xlink:href=\"#m336d3aff15\" x=\"164.16638\" y=\"87.52778\" style=\"fill: #1f77b4; stroke: #1f77b4\"/>\n     <use xlink:href=\"#m336d3aff15\" x=\"129.684497\" y=\"64.583545\" style=\"fill: #1f77b4; stroke: #1f77b4\"/>\n     <use xlink:href=\"#m336d3aff15\" x=\"147.024288\" y=\"84.231992\" style=\"fill: #1f77b4; stroke: #1f77b4\"/>\n     <use xlink:href=\"#m336d3aff15\" x=\"153.815284\" y=\"97.59588\" style=\"fill: #1f77b4; stroke: #1f77b4\"/>\n     <use xlink:href=\"#m336d3aff15\" x=\"107.620322\" y=\"63.249145\" style=\"fill: #1f77b4; stroke: #1f77b4\"/>\n     <use xlink:href=\"#m336d3aff15\" x=\"128.001362\" y=\"68.374921\" style=\"fill: #1f77b4; stroke: #1f77b4\"/>\n     <use xlink:href=\"#m336d3aff15\" x=\"126.740634\" y=\"86.408008\" style=\"fill: #1f77b4; stroke: #1f77b4\"/>\n     <use xlink:href=\"#m336d3aff15\" x=\"122.855998\" y=\"71.022634\" style=\"fill: #1f77b4; stroke: #1f77b4\"/>\n     <use xlink:href=\"#m336d3aff15\" x=\"103.120082\" y=\"47.162106\" style=\"fill: #1f77b4; stroke: #1f77b4\"/>\n     <use xlink:href=\"#m336d3aff15\" x=\"104.74583\" y=\"65.10939\" style=\"fill: #1f77b4; stroke: #1f77b4\"/>\n     <use xlink:href=\"#m336d3aff15\" x=\"96.705694\" y=\"52.508952\" style=\"fill: #1f77b4; stroke: #1f77b4\"/>\n     <use xlink:href=\"#m336d3aff15\" x=\"137.405043\" y=\"86.153284\" style=\"fill: #1f77b4; stroke: #1f77b4\"/>\n     <use xlink:href=\"#m336d3aff15\" x=\"169.261612\" y=\"107.526199\" style=\"fill: #1f77b4; stroke: #1f77b4\"/>\n     <use xlink:href=\"#m336d3aff15\" x=\"134.763279\" y=\"77.108904\" style=\"fill: #1f77b4; stroke: #1f77b4\"/>\n     <use xlink:href=\"#m336d3aff15\" x=\"157.86138\" y=\"82.600173\" style=\"fill: #1f77b4; stroke: #1f77b4\"/>\n     <use xlink:href=\"#m336d3aff15\" x=\"113.800861\" y=\"79.557594\" style=\"fill: #1f77b4; stroke: #1f77b4\"/>\n     <use xlink:href=\"#m336d3aff15\" x=\"113.113984\" y=\"58.668688\" style=\"fill: #1f77b4; stroke: #1f77b4\"/>\n     <use xlink:href=\"#m336d3aff15\" x=\"153.747016\" y=\"98.548415\" style=\"fill: #1f77b4; stroke: #1f77b4\"/>\n     <use xlink:href=\"#m336d3aff15\" x=\"95.676042\" y=\"48.943871\" style=\"fill: #1f77b4; stroke: #1f77b4\"/>\n     <use xlink:href=\"#m336d3aff15\" x=\"137.400333\" y=\"73.855934\" style=\"fill: #1f77b4; stroke: #1f77b4\"/>\n     <use xlink:href=\"#m336d3aff15\" x=\"120.359033\" y=\"67.268272\" style=\"fill: #1f77b4; stroke: #1f77b4\"/>\n     <use xlink:href=\"#m336d3aff15\" x=\"118.00607\" y=\"69.71087\" style=\"fill: #1f77b4; stroke: #1f77b4\"/>\n     <use xlink:href=\"#m336d3aff15\" x=\"104.569675\" y=\"59.370949\" style=\"fill: #1f77b4; stroke: #1f77b4\"/>\n     <use xlink:href=\"#m336d3aff15\" x=\"127.932528\" y=\"66.608819\" style=\"fill: #1f77b4; stroke: #1f77b4\"/>\n     <use xlink:href=\"#m336d3aff15\" x=\"103.322741\" y=\"47.610344\" style=\"fill: #1f77b4; stroke: #1f77b4\"/>\n     <use xlink:href=\"#m336d3aff15\" x=\"144.433631\" y=\"93.644523\" style=\"fill: #1f77b4; stroke: #1f77b4\"/>\n     <use xlink:href=\"#m336d3aff15\" x=\"146.982796\" y=\"83.327512\" style=\"fill: #1f77b4; stroke: #1f77b4\"/>\n     <use xlink:href=\"#m336d3aff15\" x=\"104.5601\" y=\"66.686785\" style=\"fill: #1f77b4; stroke: #1f77b4\"/>\n     <use xlink:href=\"#m336d3aff15\" x=\"135.987531\" y=\"72.576568\" style=\"fill: #1f77b4; stroke: #1f77b4\"/>\n     <use xlink:href=\"#m336d3aff15\" x=\"148.765353\" y=\"95.923321\" style=\"fill: #1f77b4; stroke: #1f77b4\"/>\n     <use xlink:href=\"#m336d3aff15\" x=\"140.202927\" y=\"64.539828\" style=\"fill: #1f77b4; stroke: #1f77b4\"/>\n     <use xlink:href=\"#m336d3aff15\" x=\"141.751863\" y=\"80.634797\" style=\"fill: #1f77b4; stroke: #1f77b4\"/>\n     <use xlink:href=\"#m336d3aff15\" x=\"144.097243\" y=\"90.274942\" style=\"fill: #1f77b4; stroke: #1f77b4\"/>\n     <use xlink:href=\"#m336d3aff15\" x=\"161.377733\" y=\"86.949387\" style=\"fill: #1f77b4; stroke: #1f77b4\"/>\n     <use xlink:href=\"#m336d3aff15\" x=\"111.76755\" y=\"63.489996\" style=\"fill: #1f77b4; stroke: #1f77b4\"/>\n     <use xlink:href=\"#m336d3aff15\" x=\"132.31581\" y=\"63.022942\" style=\"fill: #1f77b4; stroke: #1f77b4\"/>\n     <use xlink:href=\"#m336d3aff15\" x=\"91.944849\" y=\"65.679807\" style=\"fill: #1f77b4; stroke: #1f77b4\"/>\n     <use xlink:href=\"#m336d3aff15\" x=\"150.79813\" y=\"87.772417\" style=\"fill: #1f77b4; stroke: #1f77b4\"/>\n     <use xlink:href=\"#m336d3aff15\" x=\"115.055649\" y=\"54.872884\" style=\"fill: #1f77b4; stroke: #1f77b4\"/>\n     <use xlink:href=\"#m336d3aff15\" x=\"145.980319\" y=\"85.09054\" style=\"fill: #1f77b4; stroke: #1f77b4\"/>\n     <use xlink:href=\"#m336d3aff15\" x=\"138.678719\" y=\"72.4146\" style=\"fill: #1f77b4; stroke: #1f77b4\"/>\n     <use xlink:href=\"#m336d3aff15\" x=\"122.552348\" y=\"48.904012\" style=\"fill: #1f77b4; stroke: #1f77b4\"/>\n     <use xlink:href=\"#m336d3aff15\" x=\"167.278321\" y=\"80.567607\" style=\"fill: #1f77b4; stroke: #1f77b4\"/>\n     <use xlink:href=\"#m336d3aff15\" x=\"142.357736\" y=\"74.780646\" style=\"fill: #1f77b4; stroke: #1f77b4\"/>\n     <use xlink:href=\"#m336d3aff15\" x=\"71.950114\" y=\"13.377273\" style=\"fill: #1f77b4; stroke: #1f77b4\"/>\n     <use xlink:href=\"#m336d3aff15\" x=\"145.449942\" y=\"66.654362\" style=\"fill: #1f77b4; stroke: #1f77b4\"/>\n     <use xlink:href=\"#m336d3aff15\" x=\"117.292845\" y=\"69.820208\" style=\"fill: #1f77b4; stroke: #1f77b4\"/>\n     <use xlink:href=\"#m336d3aff15\" x=\"134.680869\" y=\"71.429417\" style=\"fill: #1f77b4; stroke: #1f77b4\"/>\n     <use xlink:href=\"#m336d3aff15\" x=\"155.012012\" y=\"83.895509\" style=\"fill: #1f77b4; stroke: #1f77b4\"/>\n     <use xlink:href=\"#m336d3aff15\" x=\"119.691608\" y=\"75.114552\" style=\"fill: #1f77b4; stroke: #1f77b4\"/>\n     <use xlink:href=\"#m336d3aff15\" x=\"142.375538\" y=\"91.61094\" style=\"fill: #1f77b4; stroke: #1f77b4\"/>\n     <use xlink:href=\"#m336d3aff15\" x=\"174.936262\" y=\"100.251637\" style=\"fill: #1f77b4; stroke: #1f77b4\"/>\n     <use xlink:href=\"#m336d3aff15\" x=\"59.028994\" y=\"16.142932\" style=\"fill: #1f77b4; stroke: #1f77b4\"/>\n     <use xlink:href=\"#m336d3aff15\" x=\"118.304845\" y=\"61.377387\" style=\"fill: #1f77b4; stroke: #1f77b4\"/>\n     <use xlink:href=\"#m336d3aff15\" x=\"114.146086\" y=\"49.12202\" style=\"fill: #1f77b4; stroke: #1f77b4\"/>\n     <use xlink:href=\"#m336d3aff15\" x=\"117.278027\" y=\"65.421163\" style=\"fill: #1f77b4; stroke: #1f77b4\"/>\n     <use xlink:href=\"#m336d3aff15\" x=\"147.151749\" y=\"91.196774\" style=\"fill: #1f77b4; stroke: #1f77b4\"/>\n     <use xlink:href=\"#m336d3aff15\" x=\"97.21544\" y=\"53.809641\" style=\"fill: #1f77b4; stroke: #1f77b4\"/>\n     <use xlink:href=\"#m336d3aff15\" x=\"143.015299\" y=\"68.82631\" style=\"fill: #1f77b4; stroke: #1f77b4\"/>\n     <use xlink:href=\"#m336d3aff15\" x=\"153.636039\" y=\"97.673056\" style=\"fill: #1f77b4; stroke: #1f77b4\"/>\n     <use xlink:href=\"#m336d3aff15\" x=\"121.284685\" y=\"67.950356\" style=\"fill: #1f77b4; stroke: #1f77b4\"/>\n     <use xlink:href=\"#m336d3aff15\" x=\"119.338143\" y=\"74.980664\" style=\"fill: #1f77b4; stroke: #1f77b4\"/>\n     <use xlink:href=\"#m336d3aff15\" x=\"141.863647\" y=\"66.720167\" style=\"fill: #1f77b4; stroke: #1f77b4\"/>\n     <use xlink:href=\"#m336d3aff15\" x=\"121.608228\" y=\"67.278962\" style=\"fill: #1f77b4; stroke: #1f77b4\"/>\n     <use xlink:href=\"#m336d3aff15\" x=\"96.942421\" y=\"53.272009\" style=\"fill: #1f77b4; stroke: #1f77b4\"/>\n     <use xlink:href=\"#m336d3aff15\" x=\"107.96317\" y=\"35.902932\" style=\"fill: #1f77b4; stroke: #1f77b4\"/>\n     <use xlink:href=\"#m336d3aff15\" x=\"89.442054\" y=\"37.519061\" style=\"fill: #1f77b4; stroke: #1f77b4\"/>\n     <use xlink:href=\"#m336d3aff15\" x=\"100.243524\" y=\"67.815342\" style=\"fill: #1f77b4; stroke: #1f77b4\"/>\n     <use xlink:href=\"#m336d3aff15\" x=\"137.285132\" y=\"76.769697\" style=\"fill: #1f77b4; stroke: #1f77b4\"/>\n     <use xlink:href=\"#m336d3aff15\" x=\"84.459414\" y=\"34.73194\" style=\"fill: #1f77b4; stroke: #1f77b4\"/>\n     <use xlink:href=\"#m336d3aff15\" x=\"137.85292\" y=\"83.737467\" style=\"fill: #1f77b4; stroke: #1f77b4\"/>\n     <use xlink:href=\"#m336d3aff15\" x=\"114.976925\" y=\"70.467363\" style=\"fill: #1f77b4; stroke: #1f77b4\"/>\n     <use xlink:href=\"#m336d3aff15\" x=\"123.706404\" y=\"75.156541\" style=\"fill: #1f77b4; stroke: #1f77b4\"/>\n     <use xlink:href=\"#m336d3aff15\" x=\"118.719749\" y=\"59.548768\" style=\"fill: #1f77b4; stroke: #1f77b4\"/>\n     <use xlink:href=\"#m336d3aff15\" x=\"134.282423\" y=\"87.64927\" style=\"fill: #1f77b4; stroke: #1f77b4\"/>\n     <use xlink:href=\"#m336d3aff15\" x=\"90.586733\" y=\"43.948752\" style=\"fill: #1f77b4; stroke: #1f77b4\"/>\n     <use xlink:href=\"#m336d3aff15\" x=\"130.026313\" y=\"76.238091\" style=\"fill: #1f77b4; stroke: #1f77b4\"/>\n     <use xlink:href=\"#m336d3aff15\" x=\"138.765613\" y=\"62.130803\" style=\"fill: #1f77b4; stroke: #1f77b4\"/>\n     <use xlink:href=\"#m336d3aff15\" x=\"124.003263\" y=\"54.30791\" style=\"fill: #1f77b4; stroke: #1f77b4\"/>\n     <use xlink:href=\"#m336d3aff15\" x=\"92.093494\" y=\"39.755365\" style=\"fill: #1f77b4; stroke: #1f77b4\"/>\n     <use xlink:href=\"#m336d3aff15\" x=\"164.776882\" y=\"78.434112\" style=\"fill: #1f77b4; stroke: #1f77b4\"/>\n     <use xlink:href=\"#m336d3aff15\" x=\"158.127933\" y=\"72.971257\" style=\"fill: #1f77b4; stroke: #1f77b4\"/>\n     <use xlink:href=\"#m336d3aff15\" x=\"128.131148\" y=\"59.54955\" style=\"fill: #1f77b4; stroke: #1f77b4\"/>\n     <use xlink:href=\"#m336d3aff15\" x=\"131.45506\" y=\"76.440768\" style=\"fill: #1f77b4; stroke: #1f77b4\"/>\n     <use xlink:href=\"#m336d3aff15\" x=\"110.725817\" y=\"61.461938\" style=\"fill: #1f77b4; stroke: #1f77b4\"/>\n     <use xlink:href=\"#m336d3aff15\" x=\"138.194918\" y=\"72.382237\" style=\"fill: #1f77b4; stroke: #1f77b4\"/>\n     <use xlink:href=\"#m336d3aff15\" x=\"116.068495\" y=\"61.763858\" style=\"fill: #1f77b4; stroke: #1f77b4\"/>\n     <use xlink:href=\"#m336d3aff15\" x=\"105.087574\" y=\"52.534299\" style=\"fill: #1f77b4; stroke: #1f77b4\"/>\n     <use xlink:href=\"#m336d3aff15\" x=\"157.46101\" y=\"75.810523\" style=\"fill: #1f77b4; stroke: #1f77b4\"/>\n     <use xlink:href=\"#m336d3aff15\" x=\"129.95109\" y=\"63.720611\" style=\"fill: #1f77b4; stroke: #1f77b4\"/>\n     <use xlink:href=\"#m336d3aff15\" x=\"105.733057\" y=\"54.569185\" style=\"fill: #1f77b4; stroke: #1f77b4\"/>\n     <use xlink:href=\"#m336d3aff15\" x=\"147.932211\" y=\"78.697643\" style=\"fill: #1f77b4; stroke: #1f77b4\"/>\n     <use xlink:href=\"#m336d3aff15\" x=\"101.438263\" y=\"49.093558\" style=\"fill: #1f77b4; stroke: #1f77b4\"/>\n     <use xlink:href=\"#m336d3aff15\" x=\"112.855397\" y=\"59.922773\" style=\"fill: #1f77b4; stroke: #1f77b4\"/>\n     <use xlink:href=\"#m336d3aff15\" x=\"102.667322\" y=\"42.866794\" style=\"fill: #1f77b4; stroke: #1f77b4\"/>\n     <use xlink:href=\"#m336d3aff15\" x=\"136.462371\" y=\"76.760347\" style=\"fill: #1f77b4; stroke: #1f77b4\"/>\n     <use xlink:href=\"#m336d3aff15\" x=\"141.804439\" y=\"84.597262\" style=\"fill: #1f77b4; stroke: #1f77b4\"/>\n     <use xlink:href=\"#m336d3aff15\" x=\"123.143134\" y=\"78.879506\" style=\"fill: #1f77b4; stroke: #1f77b4\"/>\n     <use xlink:href=\"#m336d3aff15\" x=\"99.710431\" y=\"53.915822\" style=\"fill: #1f77b4; stroke: #1f77b4\"/>\n     <use xlink:href=\"#m336d3aff15\" x=\"159.618541\" y=\"87.25201\" style=\"fill: #1f77b4; stroke: #1f77b4\"/>\n     <use xlink:href=\"#m336d3aff15\" x=\"153.674087\" y=\"85.753184\" style=\"fill: #1f77b4; stroke: #1f77b4\"/>\n     <use xlink:href=\"#m336d3aff15\" x=\"133.055254\" y=\"69.605649\" style=\"fill: #1f77b4; stroke: #1f77b4\"/>\n     <use xlink:href=\"#m336d3aff15\" x=\"124.402996\" y=\"60.187891\" style=\"fill: #1f77b4; stroke: #1f77b4\"/>\n     <use xlink:href=\"#m336d3aff15\" x=\"118.630798\" y=\"55.983687\" style=\"fill: #1f77b4; stroke: #1f77b4\"/>\n     <use xlink:href=\"#m336d3aff15\" x=\"124.936652\" y=\"71.157127\" style=\"fill: #1f77b4; stroke: #1f77b4\"/>\n     <use xlink:href=\"#m336d3aff15\" x=\"174.77815\" y=\"99.959334\" style=\"fill: #1f77b4; stroke: #1f77b4\"/>\n     <use xlink:href=\"#m336d3aff15\" x=\"97.698679\" y=\"64.337292\" style=\"fill: #1f77b4; stroke: #1f77b4\"/>\n     <use xlink:href=\"#m336d3aff15\" x=\"139.867834\" y=\"81.054019\" style=\"fill: #1f77b4; stroke: #1f77b4\"/>\n     <use xlink:href=\"#m336d3aff15\" x=\"124.851538\" y=\"45.830285\" style=\"fill: #1f77b4; stroke: #1f77b4\"/>\n     <use xlink:href=\"#m336d3aff15\" x=\"134.349545\" y=\"62.925052\" style=\"fill: #1f77b4; stroke: #1f77b4\"/>\n     <use xlink:href=\"#m336d3aff15\" x=\"115.193924\" y=\"65.465174\" style=\"fill: #1f77b4; stroke: #1f77b4\"/>\n     <use xlink:href=\"#m336d3aff15\" x=\"157.122106\" y=\"81.468884\" style=\"fill: #1f77b4; stroke: #1f77b4\"/>\n     <use xlink:href=\"#m336d3aff15\" x=\"102.743658\" y=\"55.604312\" style=\"fill: #1f77b4; stroke: #1f77b4\"/>\n     <use xlink:href=\"#m336d3aff15\" x=\"147.202536\" y=\"78.120467\" style=\"fill: #1f77b4; stroke: #1f77b4\"/>\n     <use xlink:href=\"#m336d3aff15\" x=\"125.18782\" y=\"56.987882\" style=\"fill: #1f77b4; stroke: #1f77b4\"/>\n     <use xlink:href=\"#m336d3aff15\" x=\"103.602697\" y=\"52.59247\" style=\"fill: #1f77b4; stroke: #1f77b4\"/>\n     <use xlink:href=\"#m336d3aff15\" x=\"140.637872\" y=\"80.252251\" style=\"fill: #1f77b4; stroke: #1f77b4\"/>\n     <use xlink:href=\"#m336d3aff15\" x=\"171.875422\" y=\"100.118583\" style=\"fill: #1f77b4; stroke: #1f77b4\"/>\n     <use xlink:href=\"#m336d3aff15\" x=\"96.634853\" y=\"51.456313\" style=\"fill: #1f77b4; stroke: #1f77b4\"/>\n     <use xlink:href=\"#m336d3aff15\" x=\"156.973987\" y=\"86.354085\" style=\"fill: #1f77b4; stroke: #1f77b4\"/>\n     <use xlink:href=\"#m336d3aff15\" x=\"160.394275\" y=\"106.529165\" style=\"fill: #1f77b4; stroke: #1f77b4\"/>\n     <use xlink:href=\"#m336d3aff15\" x=\"107.67923\" y=\"55.033667\" style=\"fill: #1f77b4; stroke: #1f77b4\"/>\n     <use xlink:href=\"#m336d3aff15\" x=\"143.651514\" y=\"55.917989\" style=\"fill: #1f77b4; stroke: #1f77b4\"/>\n     <use xlink:href=\"#m336d3aff15\" x=\"109.305346\" y=\"64.331682\" style=\"fill: #1f77b4; stroke: #1f77b4\"/>\n     <use xlink:href=\"#m336d3aff15\" x=\"147.326055\" y=\"72.606249\" style=\"fill: #1f77b4; stroke: #1f77b4\"/>\n     <use xlink:href=\"#m336d3aff15\" x=\"127.980286\" y=\"54.727585\" style=\"fill: #1f77b4; stroke: #1f77b4\"/>\n     <use xlink:href=\"#m336d3aff15\" x=\"104.733737\" y=\"63.128644\" style=\"fill: #1f77b4; stroke: #1f77b4\"/>\n     <use xlink:href=\"#m336d3aff15\" x=\"105.459842\" y=\"57.886029\" style=\"fill: #1f77b4; stroke: #1f77b4\"/>\n     <use xlink:href=\"#m336d3aff15\" x=\"151.606998\" y=\"79.530079\" style=\"fill: #1f77b4; stroke: #1f77b4\"/>\n     <use xlink:href=\"#m336d3aff15\" x=\"91.631825\" y=\"42.167074\" style=\"fill: #1f77b4; stroke: #1f77b4\"/>\n     <use xlink:href=\"#m336d3aff15\" x=\"69.773998\" y=\"30.801144\" style=\"fill: #1f77b4; stroke: #1f77b4\"/>\n     <use xlink:href=\"#m336d3aff15\" x=\"138.80523\" y=\"69.083403\" style=\"fill: #1f77b4; stroke: #1f77b4\"/>\n     <use xlink:href=\"#m336d3aff15\" x=\"151.163655\" y=\"88.751112\" style=\"fill: #1f77b4; stroke: #1f77b4\"/>\n     <use xlink:href=\"#m336d3aff15\" x=\"117.156037\" y=\"69.595384\" style=\"fill: #1f77b4; stroke: #1f77b4\"/>\n     <use xlink:href=\"#m336d3aff15\" x=\"175.323256\" y=\"92.231374\" style=\"fill: #1f77b4; stroke: #1f77b4\"/>\n     <use xlink:href=\"#m336d3aff15\" x=\"184.64513\" y=\"106.299414\" style=\"fill: #1f77b4; stroke: #1f77b4\"/>\n     <use xlink:href=\"#m336d3aff15\" x=\"120.596261\" y=\"52.72896\" style=\"fill: #1f77b4; stroke: #1f77b4\"/>\n     <use xlink:href=\"#m336d3aff15\" x=\"110.423681\" y=\"58.880733\" style=\"fill: #1f77b4; stroke: #1f77b4\"/>\n     <use xlink:href=\"#m336d3aff15\" x=\"126.013911\" y=\"47.170881\" style=\"fill: #1f77b4; stroke: #1f77b4\"/>\n     <use xlink:href=\"#m336d3aff15\" x=\"115.475754\" y=\"55.556655\" style=\"fill: #1f77b4; stroke: #1f77b4\"/>\n    </g>\n   </g>\n   <g id=\"matplotlib.axis_1\">\n    <g id=\"xtick_1\">\n     <g id=\"line2d_1\">\n      <defs>\n       <path id=\"m7893595775\" d=\"M 0 0 \nL 0 3.5 \n\" style=\"stroke: #000000; stroke-width: 0.8\"/>\n      </defs>\n      <g>\n       <use xlink:href=\"#m7893595775\" x=\"77.118508\" y=\"143.1\" style=\"stroke: #000000; stroke-width: 0.8\"/>\n      </g>\n     </g>\n     <g id=\"text_1\">\n      <!-- −2 -->\n      <g transform=\"translate(69.747415 157.698438)scale(0.1 -0.1)\">\n       <defs>\n        <path id=\"DejaVuSans-2212\" d=\"M 678 2272 \nL 4684 2272 \nL 4684 1741 \nL 678 1741 \nL 678 2272 \nz\n\" transform=\"scale(0.015625)\"/>\n        <path id=\"DejaVuSans-32\" d=\"M 1228 531 \nL 3431 531 \nL 3431 0 \nL 469 0 \nL 469 531 \nQ 828 903 1448 1529 \nQ 2069 2156 2228 2338 \nQ 2531 2678 2651 2914 \nQ 2772 3150 2772 3378 \nQ 2772 3750 2511 3984 \nQ 2250 4219 1831 4219 \nQ 1534 4219 1204 4116 \nQ 875 4013 500 3803 \nL 500 4441 \nQ 881 4594 1212 4672 \nQ 1544 4750 1819 4750 \nQ 2544 4750 2975 4387 \nQ 3406 4025 3406 3419 \nQ 3406 3131 3298 2873 \nQ 3191 2616 2906 2266 \nQ 2828 2175 2409 1742 \nQ 1991 1309 1228 531 \nz\n\" transform=\"scale(0.015625)\"/>\n       </defs>\n       <use xlink:href=\"#DejaVuSans-2212\"/>\n       <use xlink:href=\"#DejaVuSans-32\" x=\"83.789062\"/>\n      </g>\n     </g>\n    </g>\n    <g id=\"xtick_2\">\n     <g id=\"line2d_2\">\n      <g>\n       <use xlink:href=\"#m7893595775\" x=\"127.302648\" y=\"143.1\" style=\"stroke: #000000; stroke-width: 0.8\"/>\n      </g>\n     </g>\n     <g id=\"text_2\">\n      <!-- 0 -->\n      <g transform=\"translate(124.121398 157.698438)scale(0.1 -0.1)\">\n       <defs>\n        <path id=\"DejaVuSans-30\" d=\"M 2034 4250 \nQ 1547 4250 1301 3770 \nQ 1056 3291 1056 2328 \nQ 1056 1369 1301 889 \nQ 1547 409 2034 409 \nQ 2525 409 2770 889 \nQ 3016 1369 3016 2328 \nQ 3016 3291 2770 3770 \nQ 2525 4250 2034 4250 \nz\nM 2034 4750 \nQ 2819 4750 3233 4129 \nQ 3647 3509 3647 2328 \nQ 3647 1150 3233 529 \nQ 2819 -91 2034 -91 \nQ 1250 -91 836 529 \nQ 422 1150 422 2328 \nQ 422 3509 836 4129 \nQ 1250 4750 2034 4750 \nz\n\" transform=\"scale(0.015625)\"/>\n       </defs>\n       <use xlink:href=\"#DejaVuSans-30\"/>\n      </g>\n     </g>\n    </g>\n    <g id=\"xtick_3\">\n     <g id=\"line2d_3\">\n      <g>\n       <use xlink:href=\"#m7893595775\" x=\"177.486787\" y=\"143.1\" style=\"stroke: #000000; stroke-width: 0.8\"/>\n      </g>\n     </g>\n     <g id=\"text_3\">\n      <!-- 2 -->\n      <g transform=\"translate(174.305537 157.698438)scale(0.1 -0.1)\">\n       <use xlink:href=\"#DejaVuSans-32\"/>\n      </g>\n     </g>\n    </g>\n    <g id=\"xtick_4\">\n     <g id=\"line2d_4\">\n      <g>\n       <use xlink:href=\"#m7893595775\" x=\"227.670927\" y=\"143.1\" style=\"stroke: #000000; stroke-width: 0.8\"/>\n      </g>\n     </g>\n     <g id=\"text_4\">\n      <!-- 4 -->\n      <g transform=\"translate(224.489677 157.698438)scale(0.1 -0.1)\">\n       <defs>\n        <path id=\"DejaVuSans-34\" d=\"M 2419 4116 \nL 825 1625 \nL 2419 1625 \nL 2419 4116 \nz\nM 2253 4666 \nL 3047 4666 \nL 3047 1625 \nL 3713 1625 \nL 3713 1100 \nL 3047 1100 \nL 3047 0 \nL 2419 0 \nL 2419 1100 \nL 313 1100 \nL 313 1709 \nL 2253 4666 \nz\n\" transform=\"scale(0.015625)\"/>\n       </defs>\n       <use xlink:href=\"#DejaVuSans-34\"/>\n      </g>\n     </g>\n    </g>\n   </g>\n   <g id=\"matplotlib.axis_2\">\n    <g id=\"ytick_1\">\n     <g id=\"line2d_5\">\n      <defs>\n       <path id=\"m5d0b8a35b6\" d=\"M 0 0 \nL -3.5 0 \n\" style=\"stroke: #000000; stroke-width: 0.8\"/>\n      </defs>\n      <g>\n       <use xlink:href=\"#m5d0b8a35b6\" x=\"35.304688\" y=\"135.896438\" style=\"stroke: #000000; stroke-width: 0.8\"/>\n      </g>\n     </g>\n     <g id=\"text_5\">\n      <!-- −10 -->\n      <g transform=\"translate(7.2 139.695657)scale(0.1 -0.1)\">\n       <defs>\n        <path id=\"DejaVuSans-31\" d=\"M 794 531 \nL 1825 531 \nL 1825 4091 \nL 703 3866 \nL 703 4441 \nL 1819 4666 \nL 2450 4666 \nL 2450 531 \nL 3481 531 \nL 3481 0 \nL 794 0 \nL 794 531 \nz\n\" transform=\"scale(0.015625)\"/>\n       </defs>\n       <use xlink:href=\"#DejaVuSans-2212\"/>\n       <use xlink:href=\"#DejaVuSans-31\" x=\"83.789062\"/>\n       <use xlink:href=\"#DejaVuSans-30\" x=\"147.412109\"/>\n      </g>\n     </g>\n    </g>\n    <g id=\"ytick_2\">\n     <g id=\"line2d_6\">\n      <g>\n       <use xlink:href=\"#m5d0b8a35b6\" x=\"35.304688\" y=\"111.986531\" style=\"stroke: #000000; stroke-width: 0.8\"/>\n      </g>\n     </g>\n     <g id=\"text_6\">\n      <!-- −5 -->\n      <g transform=\"translate(13.5625 115.78575)scale(0.1 -0.1)\">\n       <defs>\n        <path id=\"DejaVuSans-35\" d=\"M 691 4666 \nL 3169 4666 \nL 3169 4134 \nL 1269 4134 \nL 1269 2991 \nQ 1406 3038 1543 3061 \nQ 1681 3084 1819 3084 \nQ 2600 3084 3056 2656 \nQ 3513 2228 3513 1497 \nQ 3513 744 3044 326 \nQ 2575 -91 1722 -91 \nQ 1428 -91 1123 -41 \nQ 819 9 494 109 \nL 494 744 \nQ 775 591 1075 516 \nQ 1375 441 1709 441 \nQ 2250 441 2565 725 \nQ 2881 1009 2881 1497 \nQ 2881 1984 2565 2268 \nQ 2250 2553 1709 2553 \nQ 1456 2553 1204 2497 \nQ 953 2441 691 2322 \nL 691 4666 \nz\n\" transform=\"scale(0.015625)\"/>\n       </defs>\n       <use xlink:href=\"#DejaVuSans-2212\"/>\n       <use xlink:href=\"#DejaVuSans-35\" x=\"83.789062\"/>\n      </g>\n     </g>\n    </g>\n    <g id=\"ytick_3\">\n     <g id=\"line2d_7\">\n      <g>\n       <use xlink:href=\"#m5d0b8a35b6\" x=\"35.304688\" y=\"88.076624\" style=\"stroke: #000000; stroke-width: 0.8\"/>\n      </g>\n     </g>\n     <g id=\"text_7\">\n      <!-- 0 -->\n      <g transform=\"translate(21.942187 91.875843)scale(0.1 -0.1)\">\n       <use xlink:href=\"#DejaVuSans-30\"/>\n      </g>\n     </g>\n    </g>\n    <g id=\"ytick_4\">\n     <g id=\"line2d_8\">\n      <g>\n       <use xlink:href=\"#m5d0b8a35b6\" x=\"35.304688\" y=\"64.166717\" style=\"stroke: #000000; stroke-width: 0.8\"/>\n      </g>\n     </g>\n     <g id=\"text_8\">\n      <!-- 5 -->\n      <g transform=\"translate(21.942187 67.965936)scale(0.1 -0.1)\">\n       <use xlink:href=\"#DejaVuSans-35\"/>\n      </g>\n     </g>\n    </g>\n    <g id=\"ytick_5\">\n     <g id=\"line2d_9\">\n      <g>\n       <use xlink:href=\"#m5d0b8a35b6\" x=\"35.304688\" y=\"40.25681\" style=\"stroke: #000000; stroke-width: 0.8\"/>\n      </g>\n     </g>\n     <g id=\"text_9\">\n      <!-- 10 -->\n      <g transform=\"translate(15.579687 44.056029)scale(0.1 -0.1)\">\n       <use xlink:href=\"#DejaVuSans-31\"/>\n       <use xlink:href=\"#DejaVuSans-30\" x=\"63.623047\"/>\n      </g>\n     </g>\n    </g>\n    <g id=\"ytick_6\">\n     <g id=\"line2d_10\">\n      <g>\n       <use xlink:href=\"#m5d0b8a35b6\" x=\"35.304688\" y=\"16.346903\" style=\"stroke: #000000; stroke-width: 0.8\"/>\n      </g>\n     </g>\n     <g id=\"text_10\">\n      <!-- 15 -->\n      <g transform=\"translate(15.579687 20.146122)scale(0.1 -0.1)\">\n       <use xlink:href=\"#DejaVuSans-31\"/>\n       <use xlink:href=\"#DejaVuSans-35\" x=\"63.623047\"/>\n      </g>\n     </g>\n    </g>\n   </g>\n   <g id=\"patch_3\">\n    <path d=\"M 35.304688 143.1 \nL 35.304688 7.2 \n\" style=\"fill: none; stroke: #000000; stroke-width: 0.8; stroke-linejoin: miter; stroke-linecap: square\"/>\n   </g>\n   <g id=\"patch_4\">\n    <path d=\"M 230.604688 143.1 \nL 230.604688 7.2 \n\" style=\"fill: none; stroke: #000000; stroke-width: 0.8; stroke-linejoin: miter; stroke-linecap: square\"/>\n   </g>\n   <g id=\"patch_5\">\n    <path d=\"M 35.304688 143.1 \nL 230.604688 143.1 \n\" style=\"fill: none; stroke: #000000; stroke-width: 0.8; stroke-linejoin: miter; stroke-linecap: square\"/>\n   </g>\n   <g id=\"patch_6\">\n    <path d=\"M 35.304688 7.2 \nL 230.604688 7.2 \n\" style=\"fill: none; stroke: #000000; stroke-width: 0.8; stroke-linejoin: miter; stroke-linecap: square\"/>\n   </g>\n  </g>\n </g>\n <defs>\n  <clipPath id=\"pac02ec70e4\">\n   <rect x=\"35.304688\" y=\"7.2\" width=\"195.3\" height=\"135.9\"/>\n  </clipPath>\n </defs>\n</svg>\n",
      "text/plain": [
       "<Figure size 252x180 with 1 Axes>"
      ]
     },
     "metadata": {
      "needs_background": "light"
     },
     "output_type": "display_data"
    }
   ],
   "source": [
    "d2l.set_figsize()\n",
    "# The semicolon is for displaying the plot only\n",
    "d2l.plt.scatter(features[:, (1)].numpy(), labels.numpy(), 1);"
   ]
  },
  {
   "cell_type": "markdown",
   "id": "36253bc0-ba53-410c-86bb-7a2eb11f9592",
   "metadata": {
    "origin_pos": 5,
    "tags": []
   },
   "source": [
    "### Reading the Dataset\n",
    "\n",
    "In the following code [**call upon the existing API in a framework to read data.**]\n",
    "We pass in `features` and `labels` as arguments and specify `batch_size`\n",
    "when instantiating a data iterator object.\n",
    "Besides, the boolean value `is_train`\n",
    "indicates whether or not\n",
    "we want the data iterator object to shuffle the data\n",
    "on each epoch (pass through the dataset).\n"
   ]
  },
  {
   "cell_type": "markdown",
   "id": "c28419fa-707f-4a30-8d28-f18ab5d73c31",
   "metadata": {},
   "source": [
    "1. **Use the tf function from_tensor_slices to generate a tf dataset object with batch_size as input**\n",
    "2. **Use is_train flag to determine whether to shuffle the dataset or not**"
   ]
  },
  {
   "cell_type": "code",
   "execution_count": 10,
   "id": "53aaab37-4b35-4ff3-9d72-292d260838a9",
   "metadata": {
    "origin_pos": 8,
    "tab": [
     "tensorflow"
    ]
   },
   "outputs": [],
   "source": [
    "def load_array(data_arrays, batch_size, is_train=True):  #@save\n",
    "    \"\"\"Construct a TensorFlow data iterator.\"\"\"\n",
    "    #### START YOUR CODE HERE ### ~ 4 LINES OF CODE\n",
    "    \n",
    "    # Read data\n",
    "    dataset = tf.data.Dataset.from_tensor_slices(data_arrays)\n",
    "    # check on flag to shuffle or not\n",
    "    if is_train:\n",
    "        # shuffle dataset\n",
    "        dataset.shuffle(len(data_arrays[0]))\n",
    "        \n",
    "    # Batch dataset\n",
    "    dataset = dataset.batch(batch_size)\n",
    "    \n",
    "    ### END CODE HERE ###\n",
    "    return dataset"
   ]
  },
  {
   "cell_type": "code",
   "execution_count": 11,
   "id": "1421cf52-54d8-4341-816c-a5d095bfb8c3",
   "metadata": {
    "origin_pos": 9,
    "tab": [
     "tensorflow"
    ]
   },
   "outputs": [],
   "source": [
    "batch_size = 10\n",
    "data_iter = load_array((features, labels), batch_size)"
   ]
  },
  {
   "cell_type": "markdown",
   "id": "d6e0c589-effb-40ba-8149-3309692fed48",
   "metadata": {
    "origin_pos": 10
   },
   "source": [
    "3. **Use `iter` to construct a Python iterator and use `next` to obtain the first item from the iterator.**\n"
   ]
  },
  {
   "cell_type": "code",
   "execution_count": 12,
   "id": "2144c8a5-c59c-4886-af3b-8f4353e8f7c6",
   "metadata": {
    "origin_pos": 11,
    "tab": [
     "tensorflow"
    ]
   },
   "outputs": [
    {
     "name": "stdout",
     "output_type": "stream",
     "text": [
      "(<tf.Tensor: shape=(10, 2), dtype=float32, numpy=\n",
      "array([[-0.18030666, -0.95028627],\n",
      "       [-0.03964049, -0.7425406 ],\n",
      "       [ 1.3231523 , -0.61854804],\n",
      "       [ 0.8540664 , -0.08899953],\n",
      "       [ 2.4488697 ,  0.762508  ],\n",
      "       [ 1.2659615 ,  0.9801489 ],\n",
      "       [ 1.5293121 , -0.57500345],\n",
      "       [ 0.8987044 , -1.250801  ],\n",
      "       [-0.8604956 ,  1.260746  ],\n",
      "       [-0.6830498 ,  0.02615766]], dtype=float32)>, <tf.Tensor: shape=(10, 1), dtype=float32, numpy=\n",
      "array([[ 7.0726256],\n",
      "       [ 6.653464 ],\n",
      "       [ 8.956834 ],\n",
      "       [ 6.2184806],\n",
      "       [ 6.512457 ],\n",
      "       [ 3.4136338],\n",
      "       [ 9.212745 ],\n",
      "       [10.263597 ],\n",
      "       [-1.8177388],\n",
      "       [ 2.7450585]], dtype=float32)>)\n"
     ]
    }
   ],
   "source": [
    "### START YOUR CODE HERE ### ~ 1 LINE OF CODE\n",
    "print(next(iter(data_iter)))\n",
    "### END CODE HERE ###"
   ]
  },
  {
   "cell_type": "markdown",
   "id": "24da4a06-3978-49c2-bcf4-cb4c1ae64f49",
   "metadata": {
    "origin_pos": 15
   },
   "source": [
    "4. **Explain what the output shape in the prvious tensors means:**\n"
   ]
  },
  {
   "cell_type": "markdown",
   "id": "c7eda004-0643-4132-b737-c1f2fc2049d9",
   "metadata": {
    "origin_pos": 16,
    "tab": [
     "tensorflow"
    ]
   },
   "source": [
    "**Answer:** number of rows is 10 because we choosed the batch size as 10 and 2 columns for the 2 features "
   ]
  },
  {
   "cell_type": "markdown",
   "id": "5c83f595-3746-435e-a824-9b4011a5aa40",
   "metadata": {},
   "source": [
    "5. **How many batches are in the data_iter ?**"
   ]
  },
  {
   "cell_type": "markdown",
   "id": "88eb5391-71a5-45ef-8af3-8f6a33b7793c",
   "metadata": {
    "origin_pos": 16,
    "tab": [
     "tensorflow"
    ]
   },
   "source": [
    "**Answer:** number of batches is equal to the total number of examples in the dataset divided by the batch size rounding the result up for the Ones place = 1000 / 10 = 100 batch"
   ]
  },
  {
   "cell_type": "markdown",
   "id": "71628cba-f449-4139-a02a-f4b9e6b53545",
   "metadata": {
    "origin_pos": 17,
    "tags": []
   },
   "source": [
    "### Initializing Model Parameters\n",
    "\n",
    "6. **Initialize weights by sampling random numbers from a normal distribution with mean 0 and a standard deviation of 0.01, and setting the bias to 0.**\n",
    "\n",
    "Note: For the shapes of the weights and bias, look at the generating a dataset part\n"
   ]
  },
  {
   "cell_type": "code",
   "execution_count": 13,
   "id": "db96e147-7256-4a1e-8c8a-6b89df19f117",
   "metadata": {
    "origin_pos": 20,
    "tab": [
     "tensorflow"
    ]
   },
   "outputs": [],
   "source": [
    "## START YOUR CODE HERE ## ~ 2 lines of code\n",
    "w = tf.random.normal((features.shape[1],1),mean=0,stddev=0.01)\n",
    "b = tf.random.normal((1,1),mean=0,stddev=0.01)\n",
    "### END CODE HERE ###"
   ]
  },
  {
   "cell_type": "markdown",
   "id": "09bbcd34-e487-4751-b8ff-a0f932350562",
   "metadata": {
    "origin_pos": 21
   },
   "source": [
    "### Defining the Model\n",
    "\n",
    "7. [**define our model, relating its inputs and parameters to its outputs.**]"
   ]
  },
  {
   "cell_type": "code",
   "execution_count": 14,
   "id": "a892f99c-9846-4b4c-bf89-dd552ca2fd26",
   "metadata": {
    "origin_pos": 22,
    "tab": [
     "tensorflow"
    ]
   },
   "outputs": [],
   "source": [
    "def linreg(X, w, b):  #@save\n",
    "    \"\"\"The linear regression model.\"\"\"\n",
    "    ## START YOUR CODE HERE ## ~ 1 line of code\n",
    "    result = tf.add(tf.matmul(X,w),b)\n",
    "    ### END CODE HERE ###\n",
    "    return result"
   ]
  },
  {
   "cell_type": "markdown",
   "id": "78acdc39-21c6-4125-b0de-b7a14a9c93eb",
   "metadata": {
    "origin_pos": 23
   },
   "source": [
    "### Defining the Loss Function\n",
    "\n",
    "8. (**define the loss function**): the squared loss function\n",
    "as described in Loss Function definition above.\n",
    "\n",
    "Note: In the implementation, you need to transform the true value `y`\n",
    "into the predicted value's shape `y_hat`.\n",
    "The result returned by the following function\n",
    "will also have the same shape as `y_hat`.\n"
   ]
  },
  {
   "cell_type": "code",
   "execution_count": 39,
   "id": "37e04bc2-0d67-4204-b0bf-b99ff8a1d0d3",
   "metadata": {
    "origin_pos": 24,
    "tab": [
     "tensorflow"
    ]
   },
   "outputs": [],
   "source": [
    "def squared_loss(y_hat, y):  #@save\n",
    "    \"\"\"Squared loss.\"\"\"\n",
    "    ## START YOUR CODE HERE ## ~ 1 line of code\n",
    "    loss = (tf.subtract(y_hat,tf.reshape(y,y_hat.shape)) ** 2 ) / 2\n",
    "    ### END CODE HERE ###\n",
    "    return loss"
   ]
  },
  {
   "cell_type": "markdown",
   "id": "212f6a87-1c81-4aa1-aebe-41334d719398",
   "metadata": {
    "origin_pos": 25
   },
   "source": [
    "### Defining the Optimization Algorithm\n",
    "\n",
    "At each step, using one minibatch randomly drawn from our dataset,\n",
    "we will estimate the gradient of the loss with respect to our parameters.\n",
    "Next, we will update our parameters\n",
    "in the direction that may reduce the loss.\n",
    "\n",
    "9. **Filll in the missing function below to apply the minibatch stochastic gradient descent update, given a set of parameters, a learning rate, and a batch size.**\n",
    "\n",
    "Note: use assign_sub\n"
   ]
  },
  {
   "cell_type": "code",
   "execution_count": 40,
   "id": "ddfe9ccd-271e-4fc3-ab9a-3720d6bf4b23",
   "metadata": {
    "origin_pos": 28,
    "tab": [
     "tensorflow"
    ]
   },
   "outputs": [],
   "source": [
    "def sgd(params, grads, lr, batch_size):  # @save\n",
    "    \"\"\"Minibatch stochastic gradient descent.\"\"\"\n",
    "\n",
    "    # START YOUR CODE HERE ## ~ 2 lines of code\n",
    "    for param, grad in zip(params, grads):\n",
    "        param.assign_sub((lr * grad) / batch_size)\n",
    "    ### END CODE HERE ###\n"
   ]
  },
  {
   "cell_type": "markdown",
   "id": "9016fa58-4d4b-44b1-91a1-6f1e8995c9f7",
   "metadata": {
    "origin_pos": 29
   },
   "source": [
    "### Training\n",
    "\n",
    "10. **Implement the following loop**\n",
    "\n",
    "* For each epoch :\n",
    "    * Initialize parameters $(\\mathbf{w}, b)$\n",
    "    * Repeat until done\n",
    "        * Compute gradient $\\mathbf{g} \\leftarrow \\partial_{(\\mathbf{w},b)} \\frac{1}{|\\mathcal{B}|} \\sum_{i \\in \\mathcal{B}} l(\\mathbf{x}^{(i)}, y^{(i)}, \\mathbf{w}, b)$\n",
    "        * Update parameters $(\\mathbf{w}, b) \\leftarrow (\\mathbf{w}, b) - \\eta \\mathbf{g}$\n",
    "    * Print the loss at the end of each epoch using: `print(f'epoch {epoch + 1}, loss {float(tf.reduce_mean(train_l)):f}')`\n",
    "\n",
    "In each *epoch*,\n",
    "we will iterate through the entire dataset\n",
    "(using the `data_iter` function) once\n",
    "passing through every example in the training dataset\n",
    ".\n",
    "\n",
    "\n",
    "Set the number of epochs `num_epochs` and the learning rate `lr` to 3 and 0.03, respectively."
   ]
  },
  {
   "cell_type": "code",
   "execution_count": 72,
   "id": "50a93813-59c4-48e7-beaf-d27fb707a96f",
   "metadata": {
    "origin_pos": 30,
    "tab": [
     "tensorflow"
    ]
   },
   "outputs": [],
   "source": [
    "lr = 0.03\n",
    "num_epochs = 3 # if you increased the number of epochs the error precentage will decrease\n",
    "net = linreg\n",
    "loss = squared_loss\n",
    "batch_size = 10 # i added the batch size"
   ]
  },
  {
   "cell_type": "code",
   "execution_count": 73,
   "id": "7f2d2d6e-1661-4737-b135-887221607b48",
   "metadata": {
    "origin_pos": 33,
    "tab": [
     "tensorflow"
    ]
   },
   "outputs": [
    {
     "name": "stdout",
     "output_type": "stream",
     "text": [
      "epoch 1, loss 11.450834\n",
      "epoch 2, loss 6.514688\n",
      "epoch 3, loss 3.710009\n"
     ]
    }
   ],
   "source": [
    "# START YOUR CODE HERE ## ~ 8 lines of code\n",
    "w = tf.Variable(tf.random.normal(shape=(features.shape[1], 1), mean=0, stddev=0.01))\n",
    "b = tf.Variable(tf.random.normal(shape=(1, 1), mean=0, stddev=0.01))\n",
    "for epoch in range(num_epochs):\n",
    "    for X, y in data_iter:\n",
    "        with tf.GradientTape() as g:\n",
    "            l = tf.math.reduce_mean(loss(net(X,w,b), y))\n",
    "        dw, db = g.gradient(l, [w, b])\n",
    "        sgd([w, b], [dw, db], lr, batch_size)\n",
    "    print(f'epoch {epoch + 1}, loss {float(tf.reduce_mean(l)):f}')\n",
    "### END CODE HERE ###\n"
   ]
  },
  {
   "cell_type": "markdown",
   "id": "393f4953-35dc-46c1-b495-96172232bc3f",
   "metadata": {
    "origin_pos": 34
   },
   "source": [
    "In this case, because we synthesized the dataset ourselves,\n",
    "we know precisely what the true parameters are.\n",
    "\n",
    "11. [**evaluate our success in training by comparing the true parameters with those that we learned**] through our training loop. They should turn out to be very close to each other.\n"
   ]
  },
  {
   "cell_type": "code",
   "execution_count": 71,
   "id": "c99daff3-745a-43fd-898e-bbf1e3804c78",
   "metadata": {
    "origin_pos": 35,
    "tab": [
     "tensorflow"
    ]
   },
   "outputs": [
    {
     "name": "stdout",
     "output_type": "stream",
     "text": [
      "error in estimating w: 1.8869609832763672\n",
      "error in estimating b: 1.2935911417007446\n"
     ]
    }
   ],
   "source": [
    "## YOUR CODE HERE ##\n",
    "print(f'error in estimating w: {tf.math.reduce_mean(tf.abs((true_w - tf.reshape(w,true_w.shape)) / true_w) * 100)}')\n",
    "print(f'error in estimating b: {((true_b - b) / true_b)[0][0] * 100}')"
   ]
  },
  {
   "cell_type": "markdown",
   "id": "3f7b518a-c2ac-4f0e-941b-98d300ed9963",
   "metadata": {},
   "source": [
    "## Boston Housing Price Dataset"
   ]
  },
  {
   "cell_type": "markdown",
   "id": "06b07d9c-b52e-4f52-8e70-f7a4bebd63bb",
   "metadata": {},
   "source": [
    "In this section, we’ll attempt to predict the median price of homes in a given Boston\n",
    "suburb in the mid-1970s, given data points about the suburb at the time, such as the\n",
    "crime rate, the local property tax rate, and so on. The dataset has few data points: only\n",
    "506, split between 404 training samples and 102 test samples. "
   ]
  },
  {
   "cell_type": "markdown",
   "id": "e0cef42e-4494-4f16-b2d2-7cfe68c51e3d",
   "metadata": {},
   "source": [
    "### Loading the Dataset"
   ]
  },
  {
   "cell_type": "markdown",
   "id": "2aea7770-afb6-45f2-93b1-b9c72df36bc0",
   "metadata": {
    "colab_type": "text"
   },
   "source": [
    "1. **Load the Boston housing dataset from tf.keras.datasets into 2 tuples: (train_data, train_targets), (test_data, test_targets)**"
   ]
  },
  {
   "cell_type": "code",
   "execution_count": null,
   "id": "f07dc3b6-c48e-4a37-8f73-3500f344e717",
   "metadata": {
    "colab_type": "code"
   },
   "outputs": [],
   "source": [
    "## START YOUR CODE HERE ## ~ 2 lines of code\n",
    "\n",
    "\n",
    "### END CODE HERE ###"
   ]
  },
  {
   "cell_type": "markdown",
   "id": "6472180c-ebb8-44f9-8bab-c507e256ef39",
   "metadata": {},
   "source": [
    "2. **Look at the test and train data. Print their shapes**"
   ]
  },
  {
   "cell_type": "code",
   "execution_count": null,
   "id": "8fc2a160-b33f-44c5-83a7-08beb821a64a",
   "metadata": {},
   "outputs": [],
   "source": [
    "### START CODE HERE ### (≈ 4 lines of code)\n",
    "\n",
    "### END CODE HERE ###\n",
    "\n",
    "print ('The shape of train_data is: ' + str(shape_X))\n",
    "print ('The shape of train_targets is: ' + str(shape_Y))\n",
    "print ('I have f = %d features!' % (f))\n",
    "print ('I have m = %d training examples!' % (m))"
   ]
  },
  {
   "cell_type": "markdown",
   "id": "fe4f798c-2c59-43a7-b1e0-d69bfb8cf140",
   "metadata": {},
   "source": [
    "3. **Search for the dataset features and write their names and information about each column:**"
   ]
  },
  {
   "cell_type": "markdown",
   "id": "cbb9e96c-c602-4ba9-b26b-3d12f336df06",
   "metadata": {},
   "source": [
    "**Answer**:\n"
   ]
  },
  {
   "cell_type": "markdown",
   "id": "e4ab30fe-d6b4-4733-a478-bd082d131b19",
   "metadata": {},
   "source": [
    "4. **Convert the train_data and the train_targets to pandas dataframes.**\n",
    "    * Use the 'columns' attribute so that the output dataframes have the column names you found in question 3"
   ]
  },
  {
   "cell_type": "code",
   "execution_count": null,
   "id": "7ca4c3d0-280f-4f14-84e0-c9e807ef7b23",
   "metadata": {},
   "outputs": [],
   "source": [
    "### START CODE HERE ### (≈ 4 lines of code)\n",
    "\n",
    "### END CODE HERE ###"
   ]
  },
  {
   "cell_type": "code",
   "execution_count": null,
   "id": "f6c71f64-0215-460c-a685-aa10e172e49e",
   "metadata": {},
   "outputs": [],
   "source": [
    "features_df.head()"
   ]
  },
  {
   "cell_type": "code",
   "execution_count": null,
   "id": "147f68b4-cca9-43c7-b6c8-b0a063577b60",
   "metadata": {},
   "outputs": [],
   "source": [
    "targets_df.head()"
   ]
  },
  {
   "cell_type": "markdown",
   "id": "52f4ad51-a6a3-4cfc-9c64-6e7a44545d66",
   "metadata": {},
   "source": [
    "5. **What are the ranges of each column in features and the target column?**\n",
    "    * Use .describe method to find the answer"
   ]
  },
  {
   "cell_type": "code",
   "execution_count": null,
   "id": "1e4d03cc-c705-4e4e-81f7-6d49a6e86fbd",
   "metadata": {},
   "outputs": [],
   "source": [
    "features_df.info()"
   ]
  },
  {
   "cell_type": "code",
   "execution_count": null,
   "id": "60741722-c93c-4000-b024-efefd7c0d98a",
   "metadata": {},
   "outputs": [],
   "source": [
    "### Code for Features ### (≈ 1 line of code)\n"
   ]
  },
  {
   "cell_type": "code",
   "execution_count": null,
   "id": "16fad907-ae31-42f8-85ce-87ab68050013",
   "metadata": {},
   "outputs": [],
   "source": [
    "### Code for Target ### (≈ 1 line of code)\n"
   ]
  },
  {
   "cell_type": "markdown",
   "id": "742f762c-fe10-42be-a3d6-7cbb4df68c0d",
   "metadata": {
    "colab_type": "text"
   },
   "source": [
    "### Preparing the data"
   ]
  },
  {
   "cell_type": "markdown",
   "id": "5c701b66-acdf-4ed6-9f60-f6e498987510",
   "metadata": {},
   "source": [
    "As you noticed from the previous exercise each feature in the\n",
    "input data (for example, the crime rate) has a different scale. For instance, some values\n",
    "are proportions, which take values between 0 and 1, others take values between 1\n",
    "and 12, others between 0 and 100, and so on."
   ]
  },
  {
   "cell_type": "markdown",
   "id": "e18cbdeb-252c-450b-b85a-d35d5989f928",
   "metadata": {},
   "source": [
    "It would be problematic to feed into a neural network values that all take wildly different\n",
    "ranges. A widespread best practice\n",
    "for dealing with such data is to do:\n",
    "\n",
    "- *feature-wise normalization*: for each feature in the input data (a column in the input data matrix), we subtract the mean of the feature and divide by the standard deviation, so that the feature is centered around 0 and has a unit standard deviation. This is easily done in NumPy."
   ]
  },
  {
   "cell_type": "markdown",
   "id": "e679d2b1-eded-4768-8954-c6cdfde3e207",
   "metadata": {
    "colab_type": "text"
   },
   "source": [
    "6. **Use feature-wise normalization to normalize the data**\n",
    "\n",
    "Hint: Avoid leak between train and test data !!"
   ]
  },
  {
   "cell_type": "code",
   "execution_count": null,
   "id": "f18246d4-dbd8-403a-9db9-a72360eaaebb",
   "metadata": {
    "colab_type": "code"
   },
   "outputs": [],
   "source": [
    "### START CODE HERE ### (≈ 6 lines of code)\n",
    "\n",
    "### END CODE HERE ###"
   ]
  },
  {
   "cell_type": "markdown",
   "id": "130ed50b-010c-488f-b1d0-aa2919fdf01d",
   "metadata": {
    "colab_type": "text"
   },
   "source": [
    "### Building your model"
   ]
  },
  {
   "cell_type": "markdown",
   "id": "0f72fab9-fb30-4396-8c22-f39637e2fdeb",
   "metadata": {},
   "source": [
    "Because so few samples are available, we’ll use a very small model with two intermediate\n",
    "layers, each with 64 units."
   ]
  },
  {
   "cell_type": "markdown",
   "id": "9dca53c6-d8c6-4a93-876e-080cb537e98a",
   "metadata": {
    "colab_type": "text"
   },
   "source": [
    "7. **Use tf.keras.Sequential to build a model with:**\n",
    "    - 2 hidden layers each having 64 neurons and relu activation.\n",
    "    - 1 output layer\n",
    "    \n",
    "Hint: For output layer remember that this is a regression model"
   ]
  },
  {
   "cell_type": "code",
   "execution_count": null,
   "id": "cc9bc68e-d3a4-42c6-b1e1-42c2c97fa651",
   "metadata": {
    "colab_type": "code"
   },
   "outputs": [],
   "source": [
    "def build_model():\n",
    "    ### START CODE HERE ### (≈ 1 line of code)\n",
    "\n",
    "    \n",
    "    ### END CODE HERE ###\n",
    "    \n",
    "    model.compile(optimizer=\"rmsprop\", loss=\"mse\", metrics=[\"mae\"])\n",
    "    return model"
   ]
  },
  {
   "cell_type": "markdown",
   "id": "f9eb30a2-e09f-4298-8210-998eb79eb7a9",
   "metadata": {},
   "source": [
    "Note that we compile the model with the mse loss function—mean squared error, the\n",
    "square of the difference between the predictions and the targets. We’re also monitoring a new metric during training: mean absolute error (MAE). It’s the\n",
    "absolute value of the difference between the predictions and the targets."
   ]
  },
  {
   "cell_type": "markdown",
   "id": "b7a8739d-b009-43ee-9326-9e868c584893",
   "metadata": {
    "colab_type": "text"
   },
   "source": [
    "### Validating your approach using K-fold validation"
   ]
  },
  {
   "cell_type": "markdown",
   "id": "06da8c95-c0d5-4ab1-8eab-01874dc9311e",
   "metadata": {},
   "source": [
    "To evaluate our model while we keep adjusting its parameters (such as the number of\n",
    "epochs used for training), we could split the data into a training set and a validation\n",
    "set. But because we have so few data points, the\n",
    "validation set would end up being very small (for instance, about 100 examples). As a\n",
    "consequence, the validation scores might change a lot depending on which data\n",
    "points we chose for validation and which we chose for training: the validation scores\n",
    "might have a high variance with regard to the validation split. This would prevent us\n",
    "from reliably evaluating our model.\n",
    "The best practice in such situations is to use K-fold cross-validation (see below figure)."
   ]
  },
  {
   "cell_type": "markdown",
   "id": "35409c3e-22ce-48e4-acf1-bbef729b5dcd",
   "metadata": {},
   "source": [
    "![grayscale](https://deepchecks.com/wp-content/uploads/2022/01/evaluating_model_img9-1024x557.png)"
   ]
  },
  {
   "cell_type": "markdown",
   "id": "2422387d-43f1-42ee-9b09-f02acad528d8",
   "metadata": {
    "colab_type": "text"
   },
   "source": [
    "8. **Use model.fit to train the partial training data and validate validation data (val_data, val_targets) with num_epochs, and batch_sz**\n",
    "\n",
    "- Complete the k_fold_validation function"
   ]
  },
  {
   "cell_type": "code",
   "execution_count": null,
   "id": "b630ac50-6392-4288-82db-893cd5af9da6",
   "metadata": {},
   "outputs": [],
   "source": [
    "def k_fold_validation(train_data, train_targets, k = 4, num_epochs = 40, batch_sz = 16):\n",
    "    \n",
    "    num_val_samples = len(train_data) // k\n",
    "    all_mae_histories = []\n",
    "\n",
    "    for i in range(k):\n",
    "        print(f\"Processing fold #{i}\")\n",
    "\n",
    "        # Prepares the validation data: data from partition #k\n",
    "        val_data = train_data[i * num_val_samples: (i + 1) * num_val_samples]\n",
    "        val_targets = train_targets[i * num_val_samples: (i + 1) * num_val_samples]\n",
    "\n",
    "        # Prepares the training data: data from all other partitions\n",
    "        partial_train_data = np.concatenate(\n",
    "            [train_data[:i * num_val_samples],\n",
    "             train_data[(i + 1) * num_val_samples:]],\n",
    "            axis=0)\n",
    "        partial_train_targets = np.concatenate(\n",
    "            [train_targets[:i * num_val_samples],\n",
    "             train_targets[(i + 1) * num_val_samples:]],\n",
    "            axis=0)\n",
    "\n",
    "        # Builds the Keras model (already compiled)\n",
    "        model = build_model()\n",
    "\n",
    "\n",
    "        ### START CODE HERE ### (≈ 1 line of code)\n",
    "        \n",
    "        \n",
    "        ### END CODE HERE ###\n",
    "\n",
    "        mae_history = history.history[\"val_mae\"]\n",
    "        all_mae_histories.append(mae_history)\n",
    "    return all_mae_histories"
   ]
  },
  {
   "cell_type": "code",
   "execution_count": null,
   "id": "1aca8caf-836f-4418-bcf4-468ce48fb6c5",
   "metadata": {},
   "outputs": [],
   "source": [
    "num_epochs = 40\n",
    "batch_sz = 16\n",
    "all_mae_histories = k_fold_validation(train_data = train_data, train_targets = train_targets, k = 4, num_epochs = num_epochs, batch_sz = batch_sz)"
   ]
  },
  {
   "cell_type": "markdown",
   "id": "e0b89e8f-1bc8-4619-8437-0e07b2947b25",
   "metadata": {},
   "source": [
    "The 'all_mae_histories' carries for each fold the mae for each epoch of 500 epochs:"
   ]
  },
  {
   "cell_type": "code",
   "execution_count": null,
   "id": "6e2ae70e-4b6b-4ceb-a097-e81927088c90",
   "metadata": {},
   "outputs": [],
   "source": [
    "np.array(all_mae_histories).shape"
   ]
  },
  {
   "cell_type": "markdown",
   "id": "3f614c10-6ccc-499a-86a2-093bc8fb9eb8",
   "metadata": {
    "colab_type": "text"
   },
   "source": [
    "**Building the history of successive mean K-fold validation scores**"
   ]
  },
  {
   "cell_type": "markdown",
   "id": "826cdcf3-f1ba-4f9c-bd34-ac7087a02b82",
   "metadata": {},
   "source": [
    "We can then compute the average of the per-epoch MAE scores for all folds.\n",
    "\n",
    "So the output here would be the average mae for each epoch of training across different data splits"
   ]
  },
  {
   "cell_type": "code",
   "execution_count": null,
   "id": "db436971-c5ad-4530-a187-6cde535b5a7b",
   "metadata": {
    "colab_type": "code"
   },
   "outputs": [],
   "source": [
    "average_mae_history = [\n",
    "    np.mean([x[i] for x in all_mae_histories]) for i in range(num_epochs)]"
   ]
  },
  {
   "cell_type": "markdown",
   "id": "ecd39508-a0c0-4a1c-b6db-a579b1956da9",
   "metadata": {
    "colab_type": "text"
   },
   "source": [
    "**Plotting validation scores, excluding the first 10 data points**\n",
    "\n",
    "It may be a little difficult to read the plot, due to a scaling issue: the validation MAE\n",
    "for the first few epochs is dramatically higher than the values that follow. Let’s omit\n",
    "the first 10 data points, which are on a different scale than the rest of the curve."
   ]
  },
  {
   "cell_type": "code",
   "execution_count": null,
   "id": "67e40867-3fb1-44dd-b862-436f27d53aeb",
   "metadata": {
    "colab_type": "code"
   },
   "outputs": [],
   "source": [
    "fig = plt.gcf()\n",
    "fig.set_size_inches(10, 8)\n",
    "\n",
    "truncated_mae_history = average_mae_history[10:]\n",
    "plt.plot(range(1, len(truncated_mae_history) + 1), truncated_mae_history)\n",
    "plt.xlabel(\"Epochs\")\n",
    "plt.ylabel(\"Validation MAE\")\n",
    "plt.show()"
   ]
  },
  {
   "cell_type": "markdown",
   "id": "b2539b4f-8829-4df1-9a45-a9c438a37baf",
   "metadata": {},
   "source": [
    "### Hyperparameter Tuning"
   ]
  },
  {
   "cell_type": "markdown",
   "id": "7f2a596f-9e54-475c-9576-3aa89bf891b5",
   "metadata": {},
   "source": [
    "#### Epochs\n",
    "Let's try training for longer maybe we would get a better output"
   ]
  },
  {
   "cell_type": "markdown",
   "id": "dd4f8d6e-a2e1-429e-8f5c-005965a631ba",
   "metadata": {
    "colab_type": "text"
   },
   "source": [
    "9. **Use the function from question 8 and try training for 500 epochs, then plot MAE vs 500 epochs**"
   ]
  },
  {
   "cell_type": "code",
   "execution_count": null,
   "id": "deb08eb7-ab31-4d95-b4b7-59480603bf67",
   "metadata": {},
   "outputs": [],
   "source": [
    "### START CODE HERE ### (≈ 3 or 1 lines of code)\n",
    "\n",
    "### END CODE HERE ###"
   ]
  },
  {
   "cell_type": "markdown",
   "id": "7b853077-6533-4265-b495-3bedbd3371b9",
   "metadata": {},
   "source": [
    "The 'all_mae_histories' carries for each fold the mae for each epoch of 500 epochs:"
   ]
  },
  {
   "cell_type": "code",
   "execution_count": null,
   "id": "e19cd4ee-5db0-401c-bf8d-4ebfb305d373",
   "metadata": {},
   "outputs": [],
   "source": [
    "np.array(all_mae_histories).shape"
   ]
  },
  {
   "cell_type": "markdown",
   "id": "36e4ab36-a163-450e-8496-64b215cf759d",
   "metadata": {
    "colab_type": "text"
   },
   "source": [
    "**Building the history of successive mean K-fold validation scores**"
   ]
  },
  {
   "cell_type": "markdown",
   "id": "6bfaed38-3976-4135-9765-75d01153ec79",
   "metadata": {},
   "source": [
    "We can then compute the average of the per-epoch MAE scores for all folds.\n",
    "\n",
    "So the output here would be the average mae for each epoch of training across different data splits"
   ]
  },
  {
   "cell_type": "code",
   "execution_count": null,
   "id": "7cbaf641-4c48-468b-8aed-f40e4ec1597f",
   "metadata": {
    "colab_type": "code"
   },
   "outputs": [],
   "source": [
    "average_mae_history = [\n",
    "    np.mean([x[i] for x in all_mae_histories]) for i in range(num_epochs)]"
   ]
  },
  {
   "cell_type": "markdown",
   "id": "fc451ae8-7394-4f0f-b93d-a8642abb4415",
   "metadata": {
    "colab_type": "text"
   },
   "source": [
    "**Plotting validation scores, excluding the first 10 data points**\n",
    "\n",
    "It may be a little difficult to read the plot, due to a scaling issue: the validation MAE\n",
    "for the first few epochs is dramatically higher than the values that follow. Let’s omit\n",
    "the first 10 data points, which are on a different scale than the rest of the curve."
   ]
  },
  {
   "cell_type": "code",
   "execution_count": null,
   "id": "6be82c10-73ca-4092-8e02-cd5bc9122059",
   "metadata": {
    "colab_type": "code"
   },
   "outputs": [],
   "source": [
    "fig = plt.gcf()\n",
    "fig.set_size_inches(10, 8)\n",
    "\n",
    "truncated_mae_history = average_mae_history[10:]\n",
    "plt.plot(range(1, len(truncated_mae_history) + 1), truncated_mae_history)\n",
    "plt.xlabel(\"Epochs\")\n",
    "plt.ylabel(\"Validation MAE\")\n",
    "plt.show()"
   ]
  },
  {
   "cell_type": "markdown",
   "id": "f48291ae-46b1-4188-8036-8577c41d13e9",
   "metadata": {},
   "source": [
    "10. **What epoch size would you pick? Why?**\n",
    "\n",
    "- Hint: When do we start overfitting?\n",
    "- Note: We truncate the first 10 epochs!!\n",
    "\n",
    "**Answer:**\n",
    "\n",
    "As you can see in above, validation MAE stops improving significantly after\n",
    "120–140 epochs (this number includes the 10 epochs we omitted). Past that point,\n",
    "we start overfitting."
   ]
  },
  {
   "cell_type": "markdown",
   "id": "fb875222-fd78-4ed5-a33f-a9c085bd5534",
   "metadata": {
    "tags": []
   },
   "source": [
    "#### Batch size"
   ]
  },
  {
   "cell_type": "markdown",
   "id": "3c2c8424-0b59-45be-8bc3-0f310fb8ed30",
   "metadata": {},
   "source": [
    "##### Size =  4"
   ]
  },
  {
   "cell_type": "markdown",
   "id": "77369330-70e7-41eb-a8ff-40eae827ea7d",
   "metadata": {
    "colab_type": "text"
   },
   "source": [
    "10. **Use the function from question 8 and try training for 4 batch size using best number of epochs**"
   ]
  },
  {
   "cell_type": "code",
   "execution_count": null,
   "id": "30f37ea8-9290-4348-ad7e-f389756e1eec",
   "metadata": {},
   "outputs": [],
   "source": [
    "### START CODE HERE ### (≈ 3 or 1 lines of code)\n",
    "\n",
    "### END CODE HERE ###"
   ]
  },
  {
   "cell_type": "code",
   "execution_count": null,
   "id": "3b778a6e-92f9-4da3-ae39-7ccad7d68eff",
   "metadata": {},
   "outputs": [],
   "source": [
    "np.array(all_mae_histories).shape"
   ]
  },
  {
   "cell_type": "markdown",
   "id": "c98f8561-40a4-4766-95db-b8fd07b2b3fe",
   "metadata": {
    "colab_type": "text"
   },
   "source": [
    "**Building the history of successive mean K-fold validation scores**"
   ]
  },
  {
   "cell_type": "code",
   "execution_count": null,
   "id": "8270fb7f-7cb3-4ef7-a595-36db013fe37c",
   "metadata": {
    "colab_type": "code"
   },
   "outputs": [],
   "source": [
    "average_mae_history = [\n",
    "    np.mean([x[i] for x in all_mae_histories]) for i in range(num_epochs)]"
   ]
  },
  {
   "cell_type": "markdown",
   "id": "8649b3a6-a3ab-4a6c-a1de-c195da01a2d2",
   "metadata": {
    "colab_type": "text"
   },
   "source": [
    "**Plotting validation scores, excluding the first 10 data points**"
   ]
  },
  {
   "cell_type": "code",
   "execution_count": null,
   "id": "0d71a2d3-eecd-48aa-ba24-bde5f56f430c",
   "metadata": {
    "colab_type": "code"
   },
   "outputs": [],
   "source": [
    "fig = plt.gcf()\n",
    "fig.set_size_inches(10, 8)\n",
    "\n",
    "truncated_mae_history = average_mae_history[10:]\n",
    "plt.plot(range(1, len(truncated_mae_history) + 1), truncated_mae_history)\n",
    "plt.xlabel(\"Epochs\")\n",
    "plt.ylabel(\"Validation MAE\")\n",
    "plt.show()"
   ]
  },
  {
   "cell_type": "markdown",
   "id": "ca24463c-6d6d-4dce-b365-1e0a10cbb6b9",
   "metadata": {},
   "source": [
    "##### Size =  16"
   ]
  },
  {
   "cell_type": "markdown",
   "id": "4c6eeb57-5678-4309-8e8e-2de77eaeef9f",
   "metadata": {
    "colab_type": "text"
   },
   "source": [
    "11. **Use the function from question 8 and try training for 16 batch size using best number of epochs**"
   ]
  },
  {
   "cell_type": "code",
   "execution_count": null,
   "id": "a0b18f56-c9af-48d4-9047-679dae4262b0",
   "metadata": {},
   "outputs": [],
   "source": [
    "### START CODE HERE ### (≈ 3 or 1 lines of code)\n",
    "\n",
    "\n",
    "### END CODE HERE ###"
   ]
  },
  {
   "cell_type": "code",
   "execution_count": null,
   "id": "c3e421ca-d258-41df-80e5-74b88f212bf8",
   "metadata": {},
   "outputs": [],
   "source": [
    "np.array(all_mae_histories).shape"
   ]
  },
  {
   "cell_type": "markdown",
   "id": "8c821339-16c6-4e3d-8298-456707e15b27",
   "metadata": {
    "colab_type": "text"
   },
   "source": [
    "**Building the history of successive mean K-fold validation scores**"
   ]
  },
  {
   "cell_type": "code",
   "execution_count": null,
   "id": "4d21aa0c-c94d-438a-b0fc-dfc7ec63ac32",
   "metadata": {
    "colab_type": "code"
   },
   "outputs": [],
   "source": [
    "average_mae_history = [\n",
    "    np.mean([x[i] for x in all_mae_histories]) for i in range(num_epochs)]"
   ]
  },
  {
   "cell_type": "markdown",
   "id": "9efcd35a-3ca6-4d63-90a0-cc55ad75fbab",
   "metadata": {
    "colab_type": "text"
   },
   "source": [
    "**Plotting validation scores, excluding the first 10 data points**"
   ]
  },
  {
   "cell_type": "code",
   "execution_count": null,
   "id": "1155359b-916f-4445-99a1-9b82d1854788",
   "metadata": {
    "colab_type": "code"
   },
   "outputs": [],
   "source": [
    "fig = plt.gcf()\n",
    "fig.set_size_inches(10, 8)\n",
    "\n",
    "truncated_mae_history = average_mae_history[10:]\n",
    "plt.plot(range(1, len(truncated_mae_history) + 1), truncated_mae_history)\n",
    "plt.xlabel(\"Epochs\")\n",
    "plt.ylabel(\"Validation MAE\")\n",
    "plt.grid()\n",
    "plt.show()"
   ]
  },
  {
   "cell_type": "markdown",
   "id": "a7c4cd41-4aa3-4a8e-a6bb-3c7862c25787",
   "metadata": {},
   "source": [
    "##### Size =  64"
   ]
  },
  {
   "cell_type": "markdown",
   "id": "cac6c4ea-9d90-4999-a9dc-fe5f2ef403bf",
   "metadata": {
    "colab_type": "text"
   },
   "source": [
    "12. **Use the function from question 8 and try training for 64 batch size using best number of epochs**"
   ]
  },
  {
   "cell_type": "code",
   "execution_count": null,
   "id": "ba055180-5a1e-4365-8eb0-e8a6f1aa495b",
   "metadata": {},
   "outputs": [],
   "source": [
    "### START CODE HERE ### (≈ 3 or 1 lines of code)\n",
    "\n",
    "### END CODE HERE ###"
   ]
  },
  {
   "cell_type": "code",
   "execution_count": null,
   "id": "2039e8fa-e3c4-4a69-b59e-44d8a5d55fab",
   "metadata": {},
   "outputs": [],
   "source": [
    "np.array(all_mae_histories).shape"
   ]
  },
  {
   "cell_type": "markdown",
   "id": "1349b349-6dc5-4f71-a7f5-94d1b510ede4",
   "metadata": {
    "colab_type": "text"
   },
   "source": [
    "**Building the history of successive mean K-fold validation scores**"
   ]
  },
  {
   "cell_type": "code",
   "execution_count": null,
   "id": "9f8f077f-4f6e-4f67-8c45-3fedb622f37e",
   "metadata": {
    "colab_type": "code"
   },
   "outputs": [],
   "source": [
    "average_mae_history = [\n",
    "    np.mean([x[i] for x in all_mae_histories]) for i in range(num_epochs)]"
   ]
  },
  {
   "cell_type": "markdown",
   "id": "a8fe8e23-7722-495d-8318-8304d7265865",
   "metadata": {
    "colab_type": "text"
   },
   "source": [
    "**Plotting validation scores, excluding the first 10 data points**"
   ]
  },
  {
   "cell_type": "code",
   "execution_count": null,
   "id": "252a4a9f-0815-4b0d-ad60-b12b5a3a70d1",
   "metadata": {
    "colab_type": "code"
   },
   "outputs": [],
   "source": [
    "fig = plt.gcf()\n",
    "fig.set_size_inches(10, 10)\n",
    "\n",
    "truncated_mae_history = average_mae_history[10:]\n",
    "plt.plot(range(1, len(truncated_mae_history) + 1), truncated_mae_history)\n",
    "plt.xlabel(\"Epochs\")\n",
    "plt.ylabel(\"Validation MAE\")\n",
    "plt.yticks(np.arange(2,np.max(truncated_mae_history),.2))\n",
    "plt.grid()\n",
    "plt.show()"
   ]
  },
  {
   "cell_type": "markdown",
   "id": "d58d23e3-89c6-4596-80d3-33b98d895eb1",
   "metadata": {},
   "source": [
    "10. **What effect does changing epoch size have on learning? Choose a batch size and the reason for your choice**\n",
    "\n",
    "**Answer:**\n",
    "\n"
   ]
  },
  {
   "cell_type": "markdown",
   "id": "d4aa55d1-2bc2-46d6-8088-c86f868f55aa",
   "metadata": {
    "colab_type": "text"
   },
   "source": [
    "### Training the final model"
   ]
  },
  {
   "cell_type": "markdown",
   "id": "4c40115d-333c-47ed-9228-361a3e6fa7fe",
   "metadata": {},
   "source": [
    "Once you’re finished tuning other parameters of the model (in addition to the\n",
    "number of epochs), you can\n",
    "train a final production model on all of the training data, with the best parameters,\n",
    "and then look at its performance on the test data."
   ]
  },
  {
   "cell_type": "markdown",
   "id": "56afebbc-17f4-47c9-8c80-7092be7ed5e6",
   "metadata": {},
   "source": [
    "14. **Build and Train a final model on the entire training data then evaluate it on the test data**"
   ]
  },
  {
   "cell_type": "code",
   "execution_count": null,
   "id": "ee815ff2-052d-481f-9630-43d16224c9d7",
   "metadata": {},
   "outputs": [],
   "source": [
    "######### Your code\n",
    "best_batch = ##########\n",
    "best_epoch = #########"
   ]
  },
  {
   "cell_type": "code",
   "execution_count": null,
   "id": "85250a7a-10a6-4164-9a8b-5d10ca81ccf1",
   "metadata": {
    "colab_type": "code"
   },
   "outputs": [],
   "source": [
    "### START CODE HERE ### (~ 3 lines of code)\n",
    "\n",
    "## Build model\n",
    "\n",
    "## Train model\n",
    "\n",
    "## Evaluate model on test data\n",
    "\n",
    "\n",
    "### END CODE HERE ###"
   ]
  },
  {
   "cell_type": "code",
   "execution_count": null,
   "id": "4a1e4b2d-d567-45e4-81fb-54411188079a",
   "metadata": {
    "colab_type": "code"
   },
   "outputs": [],
   "source": [
    "test_mae_score"
   ]
  },
  {
   "cell_type": "markdown",
   "id": "6b66efe8-92bf-442f-86f0-1cf6b64061f9",
   "metadata": {},
   "source": [
    "15. **Interpret the test_mae_score. How many thousands of dollars are we off by?**\n",
    "\n",
    "\n",
    "**Answer:** "
   ]
  },
  {
   "cell_type": "markdown",
   "id": "b9df284f-7f5b-40a7-9a19-938cf65b29b2",
   "metadata": {},
   "source": [
    "**Optional**:\n",
    "\n",
    "Change the number of layers in the model and output the resulting learning curves."
   ]
  }
 ],
 "metadata": {
  "kernelspec": {
   "display_name": "Python 3 (ipykernel)",
   "language": "python",
   "name": "python3"
  },
  "language_info": {
   "codemirror_mode": {
    "name": "ipython",
    "version": 3
   },
   "file_extension": ".py",
   "mimetype": "text/x-python",
   "name": "python",
   "nbconvert_exporter": "python",
   "pygments_lexer": "ipython3",
   "version": "3.8.7"
  }
 },
 "nbformat": 4,
 "nbformat_minor": 5
}
